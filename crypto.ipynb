{
  "nbformat": 4,
  "nbformat_minor": 0,
  "metadata": {
    "colab": {
      "provenance": [],
      "authorship_tag": "ABX9TyPhp8UFmOQ1M3ZUEbLTpSgl",
      "include_colab_link": true
    },
    "kernelspec": {
      "name": "python3",
      "display_name": "Python 3"
    },
    "language_info": {
      "name": "python"
    }
  },
  "cells": [
    {
      "cell_type": "markdown",
      "metadata": {
        "id": "view-in-github",
        "colab_type": "text"
      },
      "source": [
        "<a href=\"https://colab.research.google.com/github/nour-nour7/Jeu-Cryptographie/blob/main/crypto.ipynb\" target=\"_parent\"><img src=\"https://colab.research.google.com/assets/colab-badge.svg\" alt=\"Open In Colab\"/></a>"
      ]
    },
    {
      "cell_type": "markdown",
      "source": [
        "# TME Cryptographie\n",
        "\n"
      ],
      "metadata": {
        "id": "xAaSNs86q_z7"
      }
    },
    {
      "cell_type": "code",
      "execution_count": null,
      "metadata": {
        "id": "BZq69CSFq-R0"
      },
      "outputs": [],
      "source": [
        "import subprocess\n",
        "\n",
        "print(\"tuto, chiffrage du message: \")\n",
        "\n",
        "chiffre = f\"openssl pkeyutl -encrypt -in message.txt -pubin -inkey pk.pem\"\n",
        "\n",
        "res = subprocess.run(chiffre,shell = True, capture_output=True)\n",
        "chiffre_txt = res.stdout.hex()\n",
        "print(chiffre_txt)\n",
        "print(res.stderr)\n"
      ]
    },
    {
      "cell_type": "markdown",
      "source": [
        "### Local electrique, clé publique\n"
      ],
      "metadata": {
        "id": "9ngSc4mOrvLN"
      }
    },
    {
      "cell_type": "code",
      "source": [
        "import subprocess\n",
        "\n",
        "\n",
        "creation = \"openssl genpkey -algorithm RSA -out privkey.pem -pkeyopt rsa_keygen_bits:2048\"\n",
        "res_crea = subprocess.run(creation,shell=True,capture_output=True)\n",
        "print(\"creation pubkey et privkey\",res_crea.stdout)\n",
        "print(res_crea.stderr)\n",
        "\n",
        "extraction = \"openssl pkey -in privkey.pem -pubout -out pubkey_upload.pem \"\n",
        "res_extra = subprocess.run(extraction,shell=True,capture_output=True)\n",
        "print(\"extraction pubkey de privkey\",res_extra.stdout)\n",
        "print(res_extra.stderr)\n"
      ],
      "metadata": {
        "id": "KL-KMLbWry_w"
      },
      "execution_count": null,
      "outputs": []
    },
    {
      "cell_type": "markdown",
      "source": [
        "### Datacenter"
      ],
      "metadata": {
        "id": "l7tIWfxdr-zg"
      }
    },
    {
      "cell_type": "code",
      "source": [
        "import subprocess\n",
        "\n",
        "class OpensslError(Exception):\n",
        "        pass\n",
        "decrypt_pkey = \"openssl enc -aes-128-cbc -d -base64 -pbkdf2 -pass pass:\"'ISECR0XX'\" -in encrypted.txt -out decrypted.txt\"\n",
        "\n",
        "res = subprocess.run(decrypt_pkey,shell=True,capture_output=True)\n",
        "print(res,\"\\n\\n\")\n"
      ],
      "metadata": {
        "colab": {
          "base_uri": "https://localhost:8080/"
        },
        "id": "o6qJymVfsDur",
        "outputId": "62067172-4857-4248-b2d9-12f7ff7665df"
      },
      "execution_count": null,
      "outputs": [
        {
          "output_type": "stream",
          "name": "stdout",
          "text": [
            "CompletedProcess(args='openssl enc -aes-128-cbc -d -base64 -pbkdf2 -pass pass:ISECR0XX -in encrypted.txt -out decrypted.txt', returncode=0, stdout=b'', stderr=b'') \n",
            "\n",
            "\n"
          ]
        }
      ]
    },
    {
      "cell_type": "markdown",
      "source": [
        "## Etage\n",
        "###  LPNHE\n",
        "RC13\n",
        "\n"
      ],
      "metadata": {
        "id": "qaEFPWYmsW6u"
      }
    },
    {
      "cell_type": "code",
      "source": [
        "!chmod 644 chiffre.txt"
      ],
      "metadata": {
        "id": "0b_gopyrFW8e"
      },
      "execution_count": null,
      "outputs": []
    },
    {
      "cell_type": "code",
      "source": [
        "#ASTUCE: si ça marche pas add some empty lines/return lines in the txt file jsp pourquoi mais ça marche généralement comme ça\n",
        "\n",
        "import subprocess\n",
        "import base64\n",
        "\n",
        "with open(\"Dictionnaire.txt\", \"r\") as fichier:\n",
        "    with open(\"mdp.txt\",\"w\") as f_mdp :\n",
        "        lignes = fichier.readlines()\n",
        "\n",
        "        for ligne in lignes:\n",
        "            mot_de_passe = ligne.strip()\n",
        "            commande = f\"openssl enc -aes-128-cbc -d -a -pbkdf2 -pass pass:{mot_de_passe} -in chiffre.txt\"\n",
        "            process = subprocess.run(commande, shell=True,capture_output=True)\n",
        "\n",
        "            if(process.returncode == 0) & (base64.b64encode(process.stdout) == base64.b64encode(b\"corns gaily zayin blush bears\") ):\n",
        "                f_mdp.write(mot_de_passe+\"\\n\")\n",
        "                print(\"MDP: \",mot_de_passe)\n",
        "                break\n",
        "\n"
      ],
      "metadata": {
        "colab": {
          "base_uri": "https://localhost:8080/"
        },
        "id": "kudOqYmODvkQ",
        "outputId": "3960652c-0155-4f28-817d-81e651661d84"
      },
      "execution_count": null,
      "outputs": [
        {
          "output_type": "stream",
          "name": "stdout",
          "text": [
            "Mot de passe trouvé !\n",
            "Le voici :  million\n"
          ]
        }
      ]
    },
    {
      "cell_type": "markdown",
      "source": [
        "Deuxième version du dict attack après avoir trouvé la bibliothèque:"
      ],
      "metadata": {
        "id": "kCFAeyDR2gwH"
      }
    },
    {
      "cell_type": "markdown",
      "source": [
        "### Salle informatique\n",
        "\n",
        "\n",
        " INFO 1\n",
        "\n"
      ],
      "metadata": {
        "id": "pOmtZ2NJs8sA"
      }
    },
    {
      "cell_type": "code",
      "source": [
        "from sympy import isprime, nextprime, mod_inverse\n",
        "from sympy.ntheory.residue_ntheory import primitive_root\n",
        "import random\n",
        "\n",
        "a = int(\"a53d6855bf3dc367b8adf09035000e2425b62321650c34ff307a5fa4167976bd01050351a8ec3be9a87d576b476c276c2d575dc79b8ffdd40d07b8f078e71f0f8274fac36e69ad3528c261d979302e10a964dbf64d44304e746acc6b0b4641bd6c474ebc931f4dc5fdccf74e66f347cd066bb73150252aa0f081e8b705018eb78f379e5b6f8b2bd77b29ee3d50c78239a833bb229d112a52a3b76773d2f2119f2daa875b955972a7b2e0455c4270dc5b4efc27195e612a56530eceb316676b4fca80d1cfa7450c801806ea01783eb0f56859381f1076a266bf7fac1a7e9006b70492a388b48bad0ec97c633c1b83fceb60840db88bf60d82f8f4f6fabe38ff0f\", 16)\n",
        "b = a + 2**1950\n",
        "q = int(\"f34c4e962cd933274d448f5452ec97450dc35a4f01c92bf4275d2f2afcb42b25\", 16)\n",
        "\n",
        "def genere_p(a, b, q):\n",
        "    while True:\n",
        "        K = random.randint((a-1)//q, (b-1)//q)\n",
        "        p = 1 + q * K\n",
        "        if isprime(p):\n",
        "            return p\n",
        "\n",
        "def genere_g(p, q):\n",
        "    while True:\n",
        "        x = random.randint(2, p-2)\n",
        "        g = pow(x, (p-1)//q, p)\n",
        "        if g != 1:\n",
        "            return g\n",
        "\n",
        "p = genere_p(a, b, q)\n",
        "print(f\"p = {p}\\n\")\n",
        "\n",
        "g = genere_g(p, q)\n",
        "print(f\"g = {g}\\n\")"
      ],
      "metadata": {
        "colab": {
          "base_uri": "https://localhost:8080/"
        },
        "id": "_H4Ios_1tI1p",
        "outputId": "3526688e-0681-4197-8d18-ff491d9e5976"
      },
      "execution_count": null,
      "outputs": [
        {
          "output_type": "stream",
          "name": "stdout",
          "text": [
            "p = 20859601515040326800916659174335777442187614413057877659121897673440027018823312665511054898853445790603531812301281717807959888101310710207126540623043716991483793779734369669537405616162877925804156861099432632030068725688703622384551670226508519727572650999742797745189130747002262081142947059242827382399562040897563444389045715082649709908774889403672733794830229437366849271083501079703064472139988088190201501118277047830316421535271610285777436023371266197606665714124651220362292450560680802417608004261094770600692006875326476779492324360165379571504970825283868067101914288241083217840775184183631422539807\n",
            "\n",
            "g = 15865783258875835595091953742455057019944865794745082971860766326360942303010015842981431636874765832616675807035638231815418900032487129410389740254082457493931826580493955246109952936084087964608356899442726660564432596423163070041073758491472220311572328923945373047138090372104001405328406025807061784097876356838655403362217925043128358516496759547513783400372711496197072960459076475597659141747978878644677188193655012460765718041785775043777224050414887221264896603397699637693743901259645668145562899079669280134655026021222506502659538769284224665634917811672345873282055334934100258264924231451702906172048\n",
            "\n"
          ]
        }
      ]
    },
    {
      "cell_type": "markdown",
      "source": [
        "INFO 2"
      ],
      "metadata": {
        "id": "72KUFKBTtMrC"
      }
    },
    {
      "cell_type": "code",
      "source": [
        "import random\n",
        "from sympy import isprime, randprime, factorint\n",
        "\n",
        "a_hex = (\"eef9467ad3c124bb08b5fdf2e45cf800f3388a4d52909e8245190e8ff22c92fcca9f29ce4edafc06eff4bddb0640c22c8389ea0b9d207ee149ef194d36a5f9859492fabceeb9704fe7c51e7685dab42156c564a1cfa361ec7122eeb57ceab6583ea038096b6106bff82ea8ade9fb2a25bb9d781d40271869a19531556d056f08d8372fa50017e97a70d4daa37ea692f3430c421092a43364dbebaecd4540dc8324d6a38b0be6909f165f20486acb4555c6bf0f3472e737e751663f68d086372b66f21c5f5d16d7d78af0f51610d504913580d3c75691adf11fb3ab5b12e025e735109fb45c79458ae8bc2d06ccf88d7bff9b4d986f3174b380c6cc1e717538e7\")\n",
        "q_hex = \"eddc10b935806e01172f751701271362a37715291e477af9521c1ba736f58b7f05181653344dffe2f933b30b01a0cef\"\n",
        "\n",
        "a = int(a_hex, 16)\n",
        "q = int(q_hex, 16)\n",
        "\n",
        "b = a + (2 ** 1950)\n",
        "\n",
        "\n",
        "def ceil_div(n, d):\n",
        "    return (n + d - 1) // d\n",
        "\n",
        "r_min = ceil_div(a - 1, 2 * q)\n",
        "r_max = (b - 1) // (2 * q)\n",
        "\n",
        "\n",
        "\n",
        "if r_min >= r_max:\n",
        "    raise ValueError(\"intervalle pour r invalide modifier a,b,q\")\n",
        "\n",
        "found = False\n",
        "attempt = 0\n",
        "\n",
        "while not found:\n",
        "    attempt += 1\n",
        "    try:\n",
        "        r = randprime(r_min, r_max)\n",
        "    except ValueError:\n",
        "        raise ValueError(\"aucun nombre premier trouvé ds l'intervalle pour r\")\n",
        "\n",
        "    p = 1 + 2 * q * r\n",
        "\n",
        "    if p < a or p >= b:\n",
        "        continue\n",
        "\n",
        "    if isprime(p):\n",
        "        found = True\n",
        "        print(\"trouvé après\", n, \"tentatives\")\n",
        "        print(\"r=\", r)\n",
        "        print(\"p=\", p)\n",
        "    else:\n",
        "        continue\n",
        "\n",
        "\n",
        "#p-1 = 2*q*r\n",
        "print(\"factorisation de p-1\")\n",
        "print(\"2^1\")\n",
        "print(f\"{q}^1\")\n",
        "print(f\"{r}^1\")\n",
        "\n",
        "# (p-1)//q = 2 * r\n",
        "val = (p - 1) // q\n",
        "fact_val = factorint(val)\n",
        "\n",
        "factors_list = []\n",
        "for prime, exp in fact_val.items():\n",
        "    factors_list.extend([str(prime)] * exp)\n",
        "\n",
        "print(\"format pour (p-1)//q : \" + \", \".join(factors_list))\n",
        "\n",
        "def find_generator(p, factors):\n",
        "    while True:\n",
        "        h = random.randrange(2, p - 1)\n",
        "        ok = True\n",
        "        for f in factors:\n",
        "            if pow(h, (p - 1) // f, p) == 1:\n",
        "                ok = False\n",
        "                break\n",
        "        if ok:\n",
        "            return h\n",
        "\n",
        "generators_factors = [2, q, r]\n",
        "g = find_generator(p, generators_factors)\n",
        "print(\"générateur g d'ordre p-1 modulo p:\")\n",
        "print(\"g=\", g)\n"
      ],
      "metadata": {
        "id": "JTCx-XTutP6o"
      },
      "execution_count": null,
      "outputs": []
    },
    {
      "cell_type": "markdown",
      "source": [
        "ATRIUM\n",
        "génération de clés\n"
      ],
      "metadata": {
        "id": "62Jg0WQ147pk"
      }
    },
    {
      "cell_type": "code",
      "source": [
        "!pip install Crypto\n",
        "!pip install pycryptodome"
      ],
      "metadata": {
        "colab": {
          "base_uri": "https://localhost:8080/"
        },
        "id": "75AeR4AjS83Y",
        "outputId": "d74108b1-cbeb-484f-e3bc-9608ab735bf3"
      },
      "execution_count": null,
      "outputs": [
        {
          "output_type": "stream",
          "name": "stdout",
          "text": [
            "Requirement already satisfied: Crypto in /usr/local/lib/python3.11/dist-packages (1.4.1)\n",
            "Requirement already satisfied: Naked in /usr/local/lib/python3.11/dist-packages (from Crypto) (0.1.32)\n",
            "Requirement already satisfied: shellescape in /usr/local/lib/python3.11/dist-packages (from Crypto) (3.8.1)\n",
            "Requirement already satisfied: requests in /usr/local/lib/python3.11/dist-packages (from Naked->Crypto) (2.32.3)\n",
            "Requirement already satisfied: pyyaml in /usr/local/lib/python3.11/dist-packages (from Naked->Crypto) (6.0.2)\n",
            "Requirement already satisfied: charset-normalizer<4,>=2 in /usr/local/lib/python3.11/dist-packages (from requests->Naked->Crypto) (3.4.1)\n",
            "Requirement already satisfied: idna<4,>=2.5 in /usr/local/lib/python3.11/dist-packages (from requests->Naked->Crypto) (3.10)\n",
            "Requirement already satisfied: urllib3<3,>=1.21.1 in /usr/local/lib/python3.11/dist-packages (from requests->Naked->Crypto) (2.3.0)\n",
            "Requirement already satisfied: certifi>=2017.4.17 in /usr/local/lib/python3.11/dist-packages (from requests->Naked->Crypto) (2025.1.31)\n",
            "Collecting pycryptodome\n",
            "  Downloading pycryptodome-3.21.0-cp36-abi3-manylinux_2_17_x86_64.manylinux2014_x86_64.whl.metadata (3.4 kB)\n",
            "Downloading pycryptodome-3.21.0-cp36-abi3-manylinux_2_17_x86_64.manylinux2014_x86_64.whl (2.3 MB)\n",
            "\u001b[2K   \u001b[90m━━━━━━━━━━━━━━━━━━━━━━━━━━━━━━━━━━━━━━━━\u001b[0m \u001b[32m2.3/2.3 MB\u001b[0m \u001b[31m18.6 MB/s\u001b[0m eta \u001b[36m0:00:00\u001b[0m\n",
            "\u001b[?25hInstalling collected packages: pycryptodome\n",
            "Successfully installed pycryptodome-3.21.0\n"
          ]
        }
      ]
    },
    {
      "cell_type": "code",
      "source": [
        "!pip install pycryptodome"
      ],
      "metadata": {
        "colab": {
          "base_uri": "https://localhost:8080/"
        },
        "id": "56PMZDn6_NGJ",
        "outputId": "9643bed2-c765-4af2-91ef-c052abef12ab"
      },
      "execution_count": null,
      "outputs": [
        {
          "output_type": "stream",
          "name": "stdout",
          "text": [
            "Collecting pycryptodome\n",
            "  Downloading pycryptodome-3.21.0-cp36-abi3-manylinux_2_17_x86_64.manylinux2014_x86_64.whl.metadata (3.4 kB)\n",
            "Downloading pycryptodome-3.21.0-cp36-abi3-manylinux_2_17_x86_64.manylinux2014_x86_64.whl (2.3 MB)\n",
            "\u001b[2K   \u001b[90m━━━━━━━━━━━━━━━━━━━━━━━━━━━━━━━━━━━━━━━━\u001b[0m \u001b[32m2.3/2.3 MB\u001b[0m \u001b[31m21.9 MB/s\u001b[0m eta \u001b[36m0:00:00\u001b[0m\n",
            "\u001b[?25hInstalling collected packages: pycryptodome\n",
            "Successfully installed pycryptodome-3.21.0\n"
          ]
        }
      ]
    },
    {
      "cell_type": "code",
      "source": [
        "import base64\n",
        "import subprocess\n",
        "\n",
        "class OpensslError(Exception):\n",
        "    pass\n",
        "\n",
        "def generation_cle_RSA_chaine(chaine,key_size,private_key_file,public_key_file):\n",
        "    chaine_b64=base64.b64decode(chaine)+b'\\x01'\n",
        "    e=int.from_bytes(chaine_b64,byteorder='big')+ ((256)*10**100)\n",
        "    if (int(e)%2!=1):\n",
        "        e=e+1\n",
        "    print(e)\n",
        "\n",
        "    pass_arg = 'rsa_keygen_bits:{}'.format(key_size)\n",
        "    pass_arge='rsa_keygen_pubexp:{}'.format(e)\n",
        "    genkey_cmd = ['openssl', 'genpkey', '-algorithm', 'RSA', '-pkeyopt', pass_arg,'-pkeyopt', pass_arge,'-out',private_key_file ]\n",
        "    result = subprocess.run(genkey_cmd, stdout=subprocess.PIPE, stderr=subprocess.PIPE)\n",
        "    print(result.stdout)\n",
        "    error_message = result.stderr\n",
        "    pubkey_cmd = ['openssl', 'pkey', '-in', private_key_file, '-pubout', '-out', public_key_file]\n",
        "    result = subprocess.run(pubkey_cmd, stdout=subprocess.PIPE, stderr=subprocess.PIPE)\n",
        "    print(result.stdout)\n",
        "    error_message = result.stderr.decode()\n",
        "    if error_message:\n",
        "        raise OpensslError(error_message)\n",
        "    return result.stdout\n",
        "chaine=\"+++ATRIUM+++\"\n",
        "taille=\"2048\"\n",
        "fichier_privee=\"sk_atrium.pem\"\n",
        "fichier_public=\"pk_atrium.pem\"\n",
        "generation_cle_RSA_chaine(chaine,taille,fichier_privee,fichier_public)"
      ],
      "metadata": {
        "id": "UAfLi1hKCJ9U",
        "colab": {
          "base_uri": "https://localhost:8080/"
        },
        "outputId": "a1b967b1-9550-47c0-f937-4a3775181e0a"
      },
      "execution_count": null,
      "outputs": [
        {
          "output_type": "stream",
          "name": "stdout",
          "text": [
            "2560000000000000000000000000000000000000000000000000000000000000000000000000001189732004099385572965889\n",
            "b''\n",
            "b''\n"
          ]
        },
        {
          "output_type": "execute_result",
          "data": {
            "text/plain": [
              "b''"
            ]
          },
          "metadata": {},
          "execution_count": 11
        }
      ]
    },
    {
      "cell_type": "markdown",
      "source": [
        "RC-25"
      ],
      "metadata": {
        "id": "3tjYW_tBE-Go"
      }
    },
    {
      "cell_type": "code",
      "source": [
        "from Crypto.PublicKey import RSA\n",
        "from Crypto.PublicKey.RSA import RsaKey\n",
        "from Crypto.Util import asn1\n",
        "from Crypto.Util.number import inverse\n",
        "import base64\n",
        "c1 = 0x971db781cfee56105c452d5ca9773c5d7f5de9547120137f1120804a2f005c3d257620d091e5565bf3078dd8fbbec1475f6e7d893b26a1d33228c0d43c28c8d7821ad760a73f290daba1a09166ef280b2b543005dc84505328b1601df06852348b1a9a2ba1f6a184b6db18a69c54f1c5d87cc2780a71e8793eb4894b0691653928cf2f1b87a07590e449af462832ae39e7da53f2b1a2dd42254e7b3d60afe83520c1aca5a74a246ad2800b941624e124bc4503bc47e136563509007505b11c4b0878c2e7b989a8e0b88d9e9536e73ed78cef2b2211af72fb6146641fa02902e90f6808946251a8f1dc182c62647f4c19068e5d0052f89a6990dda75be98bf999\n",
        "c2 = 0xaa35110bd05ea76f3f5dab55e2dc285d1a2c6a63db2580457394fb07b8f407da5d397d3c12e784e9a43e0b35f1859d16678703de6c4ec9fc7d02e784c1f369d619be446158549d3a2d0342efa86fd4dd839e9483583e5ecd17c6eee90a5155184f08ddc111b36c4ce1da3fbf87b36463ac70b5ba385831c7562dbcd53829a49b8943f34ea99df2c0d8b6b4d495c15ee73616c84569e531323587b25b9b75e981730ad2878387fb0c6a29bb6bc085540adfeb892c04066d07998ae0fc6059bcae0e988164ff998305791580721c96a9be216381e7b2e27d0fc38ec507cc7c261a6eaf4f1e9ddc3430f622e1b065c3b3f2f983ce750360e469cbd0f22ba2760cf4\n",
        "print(\"exposants\")\n",
        "with open(\"pk1.pem\",\"r\") as f_key_1:\n",
        "    pkey1 = RSA.import_key(f_key_1.read())\n",
        "    e1 = pkey1.e\n",
        "    print(\"\\te1 =\",e1)\n",
        "\n",
        "with open(\"pk2.pem\",\"r\") as f_key_2:\n",
        "    pkey2 = RSA.import_key(f_key_2.read())\n",
        "    e2 = pkey2.e\n",
        "    print(\"\\te2 =\",e2)\n",
        "\n",
        "\n",
        "\n",
        "def extended_euclid_gcd(a, b):\n",
        "    s = 0; old_s = 1\n",
        "    t = 1; old_t = 0\n",
        "    r = b; old_r = a\n",
        "    while r != 0:\n",
        "        quotient = old_r//r\n",
        "        old_r, r = r, old_r - quotient*r\n",
        "        old_s, s = s, old_s - quotient*s\n",
        "        old_t, t = t, old_t - quotient*t\n",
        "    return [old_r, old_s, old_t]\n",
        "\n",
        "res = extended_euclid_gcd(e1,e2)\n",
        "u = res[1]\n",
        "v = res[2]\n",
        "print(f\"\\te1*{u}+e2*{v} = {res[0]}\")\n",
        "\n",
        "\n",
        "result = (pow(c1, u, pkey2.n) * pow(c2, v, pkey2.n)) % pkey2.n\n",
        "print(hex(result))\n",
        "\n",
        "\n",
        "\n",
        "result_hex = \"2e9d21926c11d40544d50d73b50e0ca9665b0de91e177c9ee96c65604d1e2604ba85f27c567f5fc322edce278bb2488d38bc9868fa9508f3d11bfe57e9666ebfa6fe1b4d810c353261c61b4d6046242d03f4e0aab2e6c94fb34da5a603d78a3eb97e31fed8c7eb6fbeb8ee37c6d62deb0befd321a0dab615341946acb39c377b7afc6fb592b4212b915053af54ea37383f337fdc34be18f7ee51ae8ac56b258f02774375a8e7266194efe79a88e0bb6b63102f98709d861d5004e6f75766561752064696769636f6465206465206c612073616c6c652052432d3235203a203464613937363936323530353764613539643366623536383632633466616134\"\n",
        "binary_data = result.to_bytes((result.bit_length() + 7) // 8, 'big')\n",
        "\n",
        "result_hex_parts = [binary_data[i:i+8].hex() for i in range(0, len(binary_data), 8)]\n",
        "\n",
        "result_hex = ''.join(result_hex_parts)\n",
        "bytes_hex = bytes.fromhex(result_hex)\n",
        "print(bytes_hex)"
      ],
      "metadata": {
        "colab": {
          "base_uri": "https://localhost:8080/"
        },
        "id": "wVr58_haBArT",
        "outputId": "4647711d-788c-47aa-c156-a408ea97f557"
      },
      "execution_count": null,
      "outputs": [
        {
          "output_type": "stream",
          "name": "stdout",
          "text": [
            "\n",
            "Voici les exposants publiques :\n",
            "\te1 = 94565722868031397228513302893951099328855107428997322662481138767098260746113\n",
            "\te2 = 19747107579582750191480091916338573852315733803240501914557643128303489\n",
            "\n",
            "La relation de Bézout est donnée par :\n",
            "\te1*-7147818919818919535029392460270655126059833716750085046397371634791610+e2*34229755439290002495621449683567178451181295845511939736303904414751312446779 = 1\n",
            "\n",
            "On sait que c1**u + c2**v == m mod N :\n",
            "0x2e9d21926c11d40544d50d73b50e0ca9665b0de91e177c9ee96c65604d1e2604ba85f27c567f5fc322edce278bb2488d38bc9868fa9508f3d11bfe57e9666ebfa6fe1b4d810c353261c61b4d6046242d03f4e0aab2e6c94fb34da5a603d78a3eb97e31fed8c7eb6fbeb8ee37c6d62deb0befd321a0dab615341946acb39c377b7afc6fb592b4212b915053af54ea37383f337fdc34be18f7ee51ae8ac56b258f02774375a8e7266194efe79a88e0bb6b63102f98709d861d5004e6f75766561752064696769636f6465206465206c612073616c6c652052432d3235203a203464613937363936323530353764613539643366623536383632633466616134\n",
            "b\"\\x02\\xe9\\xd2\\x19&\\xc1\\x1d@TMP\\xd7;P\\xe0\\xca\\x96e\\xb0\\xde\\x91\\xe1w\\xc9\\xee\\x96\\xc6V\\x04\\xd1\\xe2`K\\xa8_'\\xc5g\\xf5\\xfc2.\\xdc\\xe2x\\xbb$\\x88\\xd3\\x8b\\xc9\\x86\\x8f\\xa9P\\x8f=\\x11\\xbf\\xe5~\\x96f\\xeb\\xfao\\xe1\\xb4\\xd8\\x10\\xc3S&\\x1ca\\xb4\\xd6\\x04bB\\xd0?N\\n\\xab.l\\x94\\xfb4\\xdaZ`=x\\xa3\\xeb\\x97\\xe3\\x1f\\xed\\x8c~\\xb6\\xfb\\xeb\\x8e\\xe3|mb\\xde\\xb0\\xbe\\xfd2\\x1a\\r\\xabaSA\\x94j\\xcb9\\xc3w\\xb7\\xaf\\xc6\\xfbY+B\\x12\\xb9\\x15\\x05:\\xf5N\\xa3s\\x83\\xf37\\xfd\\xc3K\\xe1\\x8f~\\xe5\\x1a\\xe8\\xacV\\xb2X\\xf0't7Z\\x8erf\\x19N\\xfey\\xa8\\x8e\\x0b\\xb6\\xb61\\x02\\xf9\\x87\\t\\xd8a\\xd5\\x00Nouveau digicode de la salle RC-25 : 4da9769625057da59d3fb56862c4faa4\"\n"
          ]
        }
      ]
    },
    {
      "cell_type": "markdown",
      "source": [
        "RC7"
      ],
      "metadata": {
        "id": "hMJYo3awIbBs"
      }
    },
    {
      "cell_type": "markdown",
      "source": [
        "RC07\n",
        "ibrown et waynegarrett\n",
        "\n",
        "username: ibrown\n",
        "d       : d2508b7c0f800bbb3c1d2c757a9b5043204b2af0cd964ede0ce1a01aac9734cc6a65692da258d4b5b3e60741fce211c3a9854e37d0e2f169bfd960816cc43ba1bd7df26d5538d97ef88c63ce050bac5db3b032a41b2c3a8abd5610cc4c9b129c6f124aeb75e1d0693ea33bb7318e19684b94adbbf649ba6c1ee1bf3669945c2b14636edb73830f98b64c71ba01f8e6d781ac30138e36eac64831eda69ab3ed96de24ef1fe888e31bb99ce745e116548f1a84a2b224b3401eeadda6e366202eb1b2dfb3142b60f38bea9eaadff220411356e006e9987fc443afce7fe8cdcec73eebe0382357617ca179130fcef3a428b110ae0ba5888ef04d21dd92ddfa390ef1\n"
      ],
      "metadata": {
        "id": "nPNrzhzsInW_"
      }
    },
    {
      "cell_type": "code",
      "source": [
        "!pip install pycryptodome"
      ],
      "metadata": {
        "colab": {
          "base_uri": "https://localhost:8080/"
        },
        "id": "yX1KxG_f3GLX",
        "outputId": "6ac8abb2-163c-4b21-b23a-d78b49cd9bcd"
      },
      "execution_count": null,
      "outputs": [
        {
          "output_type": "stream",
          "name": "stdout",
          "text": [
            "Collecting pycryptodome\n",
            "  Downloading pycryptodome-3.21.0-cp36-abi3-manylinux_2_17_x86_64.manylinux2014_x86_64.whl.metadata (3.4 kB)\n",
            "Downloading pycryptodome-3.21.0-cp36-abi3-manylinux_2_17_x86_64.manylinux2014_x86_64.whl (2.3 MB)\n",
            "\u001b[2K   \u001b[90m━━━━━━━━━━━━━━━━━━━━━━━━━━━━━━━━━━━━━━━━\u001b[0m \u001b[32m2.3/2.3 MB\u001b[0m \u001b[31m29.1 MB/s\u001b[0m eta \u001b[36m0:00:00\u001b[0m\n",
            "\u001b[?25hInstalling collected packages: pycryptodome\n",
            "Successfully installed pycryptodome-3.21.0\n"
          ]
        }
      ]
    },
    {
      "cell_type": "code",
      "source": [
        "import subprocess\n",
        "from Crypto.PublicKey import RSA\n",
        "from Crypto.Util.number import inverse\n",
        "from Crypto.Signature import pkcs1_15\n",
        "from Crypto.Hash import SHA256\n",
        "d_ibrown = 0xd2508b7c0f800bbb3c1d2c757a9b5043204b2af0cd964ede0ce1a01aac9734cc6a65692da258d4b5b3e60741fce211c3a9854e37d0e2f169bfd960816cc43ba1bd7df26d5538d97ef88c63ce050bac5db3b032a41b2c3a8abd5610cc4c9b129c6f124aeb75e1d0693ea33bb7318e19684b94adbbf649ba6c1ee1bf3669945c2b14636edb73830f98b64c71ba01f8e6d781ac30138e36eac64831eda69ab3ed96de24ef1fe888e31bb99ce745e116548f1a84a2b224b3401eeadda6e366202eb1b2dfb3142b60f38bea9eaadff220411356e006e9987fc443afce7fe8cdcec73eebe0382357617ca179130fcef3a428b110ae0ba5888ef04d21dd92ddfa390ef1\n",
        "info_pk = \"openssl pkey -pubin -in pkbrown.pem -text \"\n",
        "\n",
        "run_info = subprocess.run(info_pk, shell=True, capture_output=True)\n",
        "print(\"ERREURS :\", run_info.stderr)\n",
        "print(\"Sortie :\", run_info.stdout.decode())\n"
      ],
      "metadata": {
        "colab": {
          "base_uri": "https://localhost:8080/"
        },
        "id": "6y5ckHiAIaul",
        "outputId": "1d69f55f-905c-42d1-872c-be603ef359bc"
      },
      "execution_count": null,
      "outputs": [
        {
          "output_type": "stream",
          "name": "stdout",
          "text": [
            "ERREURS : b''\n",
            "Sortie : -----BEGIN PUBLIC KEY-----\n",
            "MIIBPTANBgkqhkiG9w0BAQEFAAOCASoAMIIBJQKCAQEA8Q2TMY4y92lEfuWaDIDn\n",
            "kn+a2g0AMhdrpIfzEm8E1QHBS4tT8eqbRva4RYrw3EmFK5wInAfj0VzR5UvqeBPy\n",
            "62SO8XFzC45jcGPsAJYyEXYN6g2mtLFZPEQL7TDu5UWImmDEaOqWfRtJeB5N1pax\n",
            "3SsVPyzsl4OO5av6ySpOIW9lupmAsNvxw4/92GGSb+Doa+OnIE5+ub4k/SKRalG8\n",
            "ehvat3e4DbH0Y6lkRnL5ib9luB2C3pKpeEkKDrrPJZka42nF13pqcnRidM3JLS9G\n",
            "mv8IxR1bFwKfmniFCREsTAFzragQzxgmdRksDyaGoZy6bWOTAVAzXkFUHSbjuMpK\n",
            "6wIeQwPIugW/wsnqJgNghQ58aQAAAAA+++ATRIUM+++B\n",
            "-----END PUBLIC KEY-----\n",
            "Public-Key: (2048 bit)\n",
            "Modulus:\n",
            "    00:f1:0d:93:31:8e:32:f7:69:44:7e:e5:9a:0c:80:\n",
            "    e7:92:7f:9a:da:0d:00:32:17:6b:a4:87:f3:12:6f:\n",
            "    04:d5:01:c1:4b:8b:53:f1:ea:9b:46:f6:b8:45:8a:\n",
            "    f0:dc:49:85:2b:9c:08:9c:07:e3:d1:5c:d1:e5:4b:\n",
            "    ea:78:13:f2:eb:64:8e:f1:71:73:0b:8e:63:70:63:\n",
            "    ec:00:96:32:11:76:0d:ea:0d:a6:b4:b1:59:3c:44:\n",
            "    0b:ed:30:ee:e5:45:88:9a:60:c4:68:ea:96:7d:1b:\n",
            "    49:78:1e:4d:d6:96:b1:dd:2b:15:3f:2c:ec:97:83:\n",
            "    8e:e5:ab:fa:c9:2a:4e:21:6f:65:ba:99:80:b0:db:\n",
            "    f1:c3:8f:fd:d8:61:92:6f:e0:e8:6b:e3:a7:20:4e:\n",
            "    7e:b9:be:24:fd:22:91:6a:51:bc:7a:1b:da:b7:77:\n",
            "    b8:0d:b1:f4:63:a9:64:46:72:f9:89:bf:65:b8:1d:\n",
            "    82:de:92:a9:78:49:0a:0e:ba:cf:25:99:1a:e3:69:\n",
            "    c5:d7:7a:6a:72:74:62:74:cd:c9:2d:2f:46:9a:ff:\n",
            "    08:c5:1d:5b:17:02:9f:9a:78:85:09:11:2c:4c:01:\n",
            "    73:ad:a8:10:cf:18:26:75:19:2c:0f:26:86:a1:9c:\n",
            "    ba:6d:63:93:01:50:33:5e:41:54:1d:26:e3:b8:ca:\n",
            "    4a:eb\n",
            "Exponent:\n",
            "    43:03:c8:ba:05:bf:c2:c9:ea:26:03:60:85:0e:7c:\n",
            "    69:00:00:00:00:3e:fb:e0:13:44:85:0c:fb:ef:81\n",
            "\n"
          ]
        }
      ]
    },
    {
      "cell_type": "code",
      "source": [
        "n = \"00:f1:0d:93:31:8e:32:f7:69:44:7e:e5:9a:0c:80:e7:92:7f:9a:da:0d:00:32:17:6b:a4:87:f3:12:6f:04:d5:01:c1:4b:8b:53:f1:ea:9b:46:f6:b8:45:8a:f0:dc:49:85:2b:9c:08:9c:07:e3:d1:5c:d1:e5:4b:ea:78:13:f2:eb:64:8e:f1:71:73:0b:8e:63:70:63:ec:00:96:32:11:76:0d:ea:0d:a6:b4:b1:59:3c:44:0b:ed:30:ee:e5:45:88:9a:60:c4:68:ea:96:7d:1b:49:78:1e:4d:d6:96:b1:dd:2b:15:3f:2c:ec:97:83:8e:e5:ab:fa:c9:2a:4e:21:6f:65:ba:99:80:b0:db:f1:c3:8f:fd:d8:61:92:6f:e0:e8:6b:e3:a7:20:4e:7e:b9:be:24:fd:22:91:6a:51:bc:7a:1b:da:b7:77:b8:0d:b1:f4:63:a9:64:46:72:f9:89:bf:65:b8:1d:82:de:92:a9:78:49:0a:0e:ba:cf:25:99:1a:e3:69:c5:d7:7a:6a:72:74:62:74:cd:c9:2d:2f:46:9a:ff:08:c5:1d:5b:17:02:9f:9a:78:85:09:11:2c:4c:01:73:ad:a8:10:cf:18:26:75:19:2c:0f:26:86:a1:9c:ba:6d:63:93:01:50:33:5e:41:54:1d:26:e3:b8:ca:4a:eb\"\n",
        "hex_n = n.replace(\":\", \"\")\n",
        "n_bytes = bytes.fromhex(hex_n)\n",
        "n = int.from_bytes(n_bytes, byteorder=\"big\")\n",
        "\n",
        "e_ibrown = \"43:03:c8:ba:05:bf:c2:c9:ea:26:03:60:85:0e:7c:69:00:00:00:00:3e:fb:e0:13:44:85:0c:fb:ef:81\"\n",
        "hex_e_ibrown = e_ibrown.replace(\":\", \"\")\n",
        "e_ibrown_bytes = bytes.fromhex(hex_e_ibrown)\n",
        "e_ibrown = int.from_bytes(e_ibrown_bytes, byteorder='big')\n",
        "key_ibrown = RSA.construct((n, e_ibrown, d_ibrown), consistency_check=True)\n",
        "\n",
        "p = key_ibrown.p\n",
        "q = key_ibrown.q\n",
        "\n",
        "if p * q == n:\n",
        "    print(\"succes\")\n"
      ],
      "metadata": {
        "colab": {
          "base_uri": "https://localhost:8080/"
        },
        "id": "DmUo93pp3Nll",
        "outputId": "57f37776-53e7-4d25-ddd6-fab7621a403b"
      },
      "execution_count": null,
      "outputs": [
        {
          "output_type": "stream",
          "name": "stdout",
          "text": [
            "succes\n"
          ]
        }
      ]
    },
    {
      "cell_type": "code",
      "source": [
        "info_pk = \"openssl pkey -pubin -in pkwayne.pem -text \"\n",
        "\n",
        "run_info = subprocess.run(info_pk, shell=True, capture_output=True)\n",
        "print(\"ERREURS :\", run_info.stderr)\n",
        "print(\"Sortie :\", run_info.stdout.decode())"
      ],
      "metadata": {
        "colab": {
          "base_uri": "https://localhost:8080/"
        },
        "id": "Y3Zxdhzq4IXd",
        "outputId": "58f67306-b86e-467e-d65a-e37ea9c33257"
      },
      "execution_count": null,
      "outputs": [
        {
          "output_type": "stream",
          "name": "stdout",
          "text": [
            "ERREURS : b''\n",
            "Sortie : -----BEGIN PUBLIC KEY-----\n",
            "MIIBPTANBgkqhkiG9w0BAQEFAAOCASoAMIIBJQKCAQEA8Q2TMY4y92lEfuWaDIDn\n",
            "kn+a2g0AMhdrpIfzEm8E1QHBS4tT8eqbRva4RYrw3EmFK5wInAfj0VzR5UvqeBPy\n",
            "62SO8XFzC45jcGPsAJYyEXYN6g2mtLFZPEQL7TDu5UWImmDEaOqWfRtJeB5N1pax\n",
            "3SsVPyzsl4OO5av6ySpOIW9lupmAsNvxw4/92GGSb+Doa+OnIE5+ub4k/SKRalG8\n",
            "ehvat3e4DbH0Y6lkRnL5ib9luB2C3pKpeEkKDrrPJZka42nF13pqcnRidM3JLS9G\n",
            "mv8IxR1bFwKfmniFCREsTAFzragQzxgmdRksDyaGoZy6bWOTAVAzXkFUHSbjuMpK\n",
            "6wIeLGI6sNJAAse02Q73GpKVqwAAAAA+++ATRIUM+++B\n",
            "-----END PUBLIC KEY-----\n",
            "Public-Key: (2048 bit)\n",
            "Modulus:\n",
            "    00:f1:0d:93:31:8e:32:f7:69:44:7e:e5:9a:0c:80:\n",
            "    e7:92:7f:9a:da:0d:00:32:17:6b:a4:87:f3:12:6f:\n",
            "    04:d5:01:c1:4b:8b:53:f1:ea:9b:46:f6:b8:45:8a:\n",
            "    f0:dc:49:85:2b:9c:08:9c:07:e3:d1:5c:d1:e5:4b:\n",
            "    ea:78:13:f2:eb:64:8e:f1:71:73:0b:8e:63:70:63:\n",
            "    ec:00:96:32:11:76:0d:ea:0d:a6:b4:b1:59:3c:44:\n",
            "    0b:ed:30:ee:e5:45:88:9a:60:c4:68:ea:96:7d:1b:\n",
            "    49:78:1e:4d:d6:96:b1:dd:2b:15:3f:2c:ec:97:83:\n",
            "    8e:e5:ab:fa:c9:2a:4e:21:6f:65:ba:99:80:b0:db:\n",
            "    f1:c3:8f:fd:d8:61:92:6f:e0:e8:6b:e3:a7:20:4e:\n",
            "    7e:b9:be:24:fd:22:91:6a:51:bc:7a:1b:da:b7:77:\n",
            "    b8:0d:b1:f4:63:a9:64:46:72:f9:89:bf:65:b8:1d:\n",
            "    82:de:92:a9:78:49:0a:0e:ba:cf:25:99:1a:e3:69:\n",
            "    c5:d7:7a:6a:72:74:62:74:cd:c9:2d:2f:46:9a:ff:\n",
            "    08:c5:1d:5b:17:02:9f:9a:78:85:09:11:2c:4c:01:\n",
            "    73:ad:a8:10:cf:18:26:75:19:2c:0f:26:86:a1:9c:\n",
            "    ba:6d:63:93:01:50:33:5e:41:54:1d:26:e3:b8:ca:\n",
            "    4a:eb\n",
            "Exponent:\n",
            "    2c:62:3a:b0:d2:40:02:c7:b4:d9:0e:f7:1a:92:95:\n",
            "    ab:00:00:00:00:3e:fb:e0:13:44:85:0c:fb:ef:81\n",
            "\n"
          ]
        }
      ]
    },
    {
      "cell_type": "code",
      "source": [
        "e_waynegarrett = \"2c:62:3a:b0:d2:40:02:c7:b4:d9:0e:f7:1a:92:95:ab:00:00:00:00:3e:fb:e0:13:44:85:0c:fb:ef:81\"\n",
        "hex_e_waynegarrett = e_waynegarrett.replace(\":\", \"\")\n",
        "e_waynegarrett_bytes = bytes.fromhex(hex_e_waynegarrett)\n",
        "e_waynegarrett = int.from_bytes(e_waynegarrett_bytes, byteorder='big')\n",
        "d_waynegarrett = inverse(e_waynegarrett, (p-1)*(q-1))\n",
        "\n",
        "key_waynegarrett = RSA.construct((n, e_waynegarrett, d_waynegarrett, p, q), consistency_check=True)\n",
        "\n",
        "key_ibrown_public = RSA.construct((n, e_ibrown))\n",
        "pem_ibrown_public = key_ibrown_public.export_key(format=\"PEM\")\n",
        "print(\"clé publique d'ibrown :\", pem_ibrown_public.decode())\n",
        "\n",
        "key_waynegarrett_public = RSA.construct((n, e_waynegarrett))\n",
        "pem_waynegarrett_public = key_waynegarrett_public.export_key(format=\"PEM\")\n",
        "print(\"clé publique de waynegarrett:\", pem_waynegarrett_public.decode())"
      ],
      "metadata": {
        "colab": {
          "base_uri": "https://localhost:8080/"
        },
        "id": "v7rBAn3H3nyB",
        "outputId": "e1a1cf6c-0715-4422-d868-b4ba028f49ca"
      },
      "execution_count": null,
      "outputs": [
        {
          "output_type": "stream",
          "name": "stdout",
          "text": [
            "Clé publique d'ibrown (PEM) :\n",
            " -----BEGIN PUBLIC KEY-----\n",
            "MIIBPTANBgkqhkiG9w0BAQEFAAOCASoAMIIBJQKCAQEA8Q2TMY4y92lEfuWaDIDn\n",
            "kn+a2g0AMhdrpIfzEm8E1QHBS4tT8eqbRva4RYrw3EmFK5wInAfj0VzR5UvqeBPy\n",
            "62SO8XFzC45jcGPsAJYyEXYN6g2mtLFZPEQL7TDu5UWImmDEaOqWfRtJeB5N1pax\n",
            "3SsVPyzsl4OO5av6ySpOIW9lupmAsNvxw4/92GGSb+Doa+OnIE5+ub4k/SKRalG8\n",
            "ehvat3e4DbH0Y6lkRnL5ib9luB2C3pKpeEkKDrrPJZka42nF13pqcnRidM3JLS9G\n",
            "mv8IxR1bFwKfmniFCREsTAFzragQzxgmdRksDyaGoZy6bWOTAVAzXkFUHSbjuMpK\n",
            "6wIeQwPIugW/wsnqJgNghQ58aQAAAAA+++ATRIUM+++B\n",
            "-----END PUBLIC KEY-----\n",
            "Clé publique de waynegarrett (PEM) :\n",
            " -----BEGIN PUBLIC KEY-----\n",
            "MIIBPTANBgkqhkiG9w0BAQEFAAOCASoAMIIBJQKCAQEA8Q2TMY4y92lEfuWaDIDn\n",
            "kn+a2g0AMhdrpIfzEm8E1QHBS4tT8eqbRva4RYrw3EmFK5wInAfj0VzR5UvqeBPy\n",
            "62SO8XFzC45jcGPsAJYyEXYN6g2mtLFZPEQL7TDu5UWImmDEaOqWfRtJeB5N1pax\n",
            "3SsVPyzsl4OO5av6ySpOIW9lupmAsNvxw4/92GGSb+Doa+OnIE5+ub4k/SKRalG8\n",
            "ehvat3e4DbH0Y6lkRnL5ib9luB2C3pKpeEkKDrrPJZka42nF13pqcnRidM3JLS9G\n",
            "mv8IxR1bFwKfmniFCREsTAFzragQzxgmdRksDyaGoZy6bWOTAVAzXkFUHSbjuMpK\n",
            "6wIeLGI6sNJAAse02Q73GpKVqwAAAAA+++ATRIUM+++B\n",
            "-----END PUBLIC KEY-----\n"
          ]
        }
      ]
    },
    {
      "cell_type": "code",
      "source": [
        "with open(\"challenge.txt\") as m:\n",
        "    message = m.readline().encode()\n",
        "\n",
        "hash_obj = SHA256.new(message)\n",
        "\n",
        "signature = pkcs1_15.new(key_waynegarrett).sign(hash_obj)\n",
        "print(\"signature hex :\", signature.hex())\n",
        "\n",
        "with open(\"signed_waynegarrett.txt\", \"w+\") as sign:\n",
        "    sign.write(signature.hex())"
      ],
      "metadata": {
        "colab": {
          "base_uri": "https://localhost:8080/"
        },
        "id": "drlryGtD6HL7",
        "outputId": "ce8de2ec-43d2-4ced-edd7-075eec55fafe"
      },
      "execution_count": null,
      "outputs": [
        {
          "output_type": "stream",
          "name": "stdout",
          "text": [
            "Signature (hex) : 22d872d94905a94b1796ef300bea4bf3a846b08f1b30bcb1234bc5a474a39b47637238a99407ae20649aca9351a03aa298273ef8529f4f73007c012506a83ff4bc7a938cebed4b5f70caa14ded86779a72abce77f03721dc0573ac524fdd5deec29aee941f1ff674e8f46f0eb0d12a4f538c503f31f515bf49930a8bf63cb5d17667fd9a7ebfb1e6fba3be34cf3c9ba33453b1273f1d61475f117e13a51e6c241c9cbba7a877fa3d706e2f04c73c9990ca7471c2f17e9131cb92469d11fbf4d7d64a948d63fc19a1946fd9ab88c68d0b26b1dbadf525794543b3eda41446496968e4312227cd0c487cc7a2ed07d55a4a72e7b7c4f5db94d8b1430f1f7f9e726a\n"
          ]
        }
      ]
    },
    {
      "cell_type": "markdown",
      "source": [
        "RC19"
      ],
      "metadata": {
        "id": "VFqlnYqn88Ct"
      }
    },
    {
      "cell_type": "markdown",
      "source": [
        "AUDITORIUM"
      ],
      "metadata": {
        "id": "eQ-mizJe_NT8"
      }
    },
    {
      "cell_type": "code",
      "source": [
        "!pip install pycryptodome"
      ],
      "metadata": {
        "id": "zNneTYdXkGMI",
        "colab": {
          "base_uri": "https://localhost:8080/"
        },
        "outputId": "e5f01693-ae95-47d0-9327-61d9906f7178"
      },
      "execution_count": null,
      "outputs": [
        {
          "output_type": "stream",
          "name": "stdout",
          "text": [
            "Collecting pycryptodome\n",
            "  Downloading pycryptodome-3.21.0-cp36-abi3-manylinux_2_17_x86_64.manylinux2014_x86_64.whl.metadata (3.4 kB)\n",
            "Downloading pycryptodome-3.21.0-cp36-abi3-manylinux_2_17_x86_64.manylinux2014_x86_64.whl (2.3 MB)\n",
            "\u001b[2K   \u001b[90m━━━━━━━━━━━━━━━━━━━━━━━━━━━━━━━━━━━━━━━━\u001b[0m \u001b[32m2.3/2.3 MB\u001b[0m \u001b[31m26.2 MB/s\u001b[0m eta \u001b[36m0:00:00\u001b[0m\n",
            "\u001b[?25hInstalling collected packages: pycryptodome\n",
            "Successfully installed pycryptodome-3.21.0\n"
          ]
        }
      ]
    },
    {
      "cell_type": "markdown",
      "source": [
        "## AUDITORIUM"
      ],
      "metadata": {
        "id": "zUqNpAbWuHbb"
      }
    },
    {
      "cell_type": "code",
      "source": [
        "import random\n",
        "import math\n",
        "from cryptography.hazmat.primitives.asymmetric import rsa, padding\n",
        "from cryptography.hazmat.primitives import hashes\n",
        "from cryptography.hazmat.primitives.serialization import load_pem_public_key\n",
        "\n",
        "\n",
        "with open('pk.pem', 'rb') as f:\n",
        "    public_key = load_pem_public_key(f.read())\n",
        "\n",
        "pubkey_numbers = public_key.public_numbers()\n",
        "n = pubkey_numbers.n\n",
        "e = pubkey_numbers.e\n",
        "\n",
        "print(f\"pub key avec signature: {n}\")\n",
        "print(f\"exponent e: {e}\")\n",
        "\n",
        "message = \"I, the lab director, hereby grant nour permission to take the BiblioDrone-NG.\"\n",
        "\n",
        "\n",
        "def pkcs1_v1_5_encode(message, modulus_size_in_bytes):\n",
        "    digest = hashes.Hash(hashes.SHA256())\n",
        "    digest.update(message.encode('utf-8'))\n",
        "    hashed = digest.finalize()\n",
        "\n",
        "    digest_info = bytes.fromhex(\"3031300d060960864801650304020105000420\") + hashed\n",
        "\n",
        "    padding_length = modulus_size_in_bytes - len(digest_info) - 3\n",
        "\n",
        "    padded = b'\\x00\\x01' + (b'\\xff' * padding_length) + b'\\x00' + digest_info\n",
        "\n",
        "    return padded\n",
        "\n",
        "modulus_size_in_bytes = (n.bit_length() + 7) // 8\n",
        "print(f\"modulus size: {modulus_size_in_bytes} bytes\")\n",
        "\n",
        "encoded_message = pkcs1_v1_5_encode(message, modulus_size_in_bytes)\n",
        "\n",
        "message_int = int.from_bytes(encoded_message, byteorder='big')\n",
        "\n",
        "random_x = random.randint(2, n-1)\n",
        "while math.gcd(random_x, n) != 1:\n",
        "    random_x = random.randint(2, n-1)\n",
        "\n",
        "print(f\"masking factor random x: {random_x}\")\n",
        "\n",
        "x_e = pow(random_x, e, n)\n",
        "\n",
        "masked_message = (message_int * x_e) % n\n",
        "\n",
        "masked_message_hex = format(masked_message, 'x')\n",
        "\n",
        "with open('masking_factor.txt', 'w') as f:\n",
        "    f.write(str(random_x))\n",
        "\n",
        "print(f\"donner ceci au serveur\\n{masked_message_hex}\")"
      ],
      "metadata": {
        "id": "LEYTn3y2_Orb"
      },
      "execution_count": null,
      "outputs": []
    },
    {
      "cell_type": "markdown",
      "source": [
        "9a4bf0f0871d149c1aa4504a7fefb477da8775ce04232742957aecc8efb1cae5de96a1b4a6a29bd8109675fdec23740cb421e28fef18e88a360f0735aaae65702c8a975d2dfb67916ff93e17b47dd282cb34586d0f93649d2de7ee53566ad68ee1799e9a715ceea3428e3d5fb0fedafaeba129c543c5270e87e936c0b23182be1bfea47a3b356b40bb88cdb73bd157e1ddfd336c0c872858cdfc0389cbeef5780c5911f7bd08368ca8c20e0e6d8c0625dc06eb84b3c40e862c54c4fed3433aebe550dce80dcbf4705e35141c826ec49c86aa26e5954c6735dd07ee85642494ee004ad1723aca412102f74360b3c8343f9c78ab416cb12e291df64a3bbf411853"
      ],
      "metadata": {
        "id": "-aqlE7c_OT0f"
      }
    },
    {
      "cell_type": "code",
      "source": [
        "65cfa58f7eb5e156dfd22c33c936fa2fa7d68c63dc80e0e1cdb6b12450ec5a017ee632bf3f12ec9289ac25d81166875ffaa992b2f7fcb596f6e5af6728059656cdd1a595d9200f23c8a900225fee6e44345eb14a4ecc132b0263574ad3f5c680db728e618bf0f09c256d46d18750724ae86f070efe46c8573122aa695c4c3d54803b0221b79cff71fd1275b481ad2ef78538e64856a2650507762058260f4f430f381bf0cb258fb1ef03628050dadbf80be7b20ce98a51e9f8d5393b3695c01c6922c87ead5884bc2443c9231f18c6e3a40c4b107a309ba376500e503b4dc1b90d824b0c018527ed540ca4005885afd31f848df1531cd6e1cc7ff2a4ee5cf93e"
      ],
      "metadata": {
        "id": "0G-8IleSIMd2"
      },
      "execution_count": null,
      "outputs": []
    },
    {
      "cell_type": "code",
      "source": [
        "from cryptography.hazmat.primitives.asymmetric import padding\n",
        "from cryptography.hazmat.primitives import hashes\n",
        "from cryptography.hazmat.primitives.serialization import load_pem_public_key\n",
        "with open('pk.pem', 'rb') as f:\n",
        "    public_key = load_pem_public_key(f.read())\n",
        "\n",
        "n = public_key.public_numbers().n\n",
        "print(f\"pubkey avec modulus {n}\")\n",
        "\n",
        "with open('masking_factor.txt', 'r') as f:\n",
        "    random_x = int(f.read().strip())\n",
        "print(f\"loaded masking factor x: {random_x}\")\n",
        "\n",
        "masked_signature_hex = input(\"mettre signature maskée reçue du serveur\")\n",
        "masked_signature = int(masked_signature_hex, 16)\n",
        "\n",
        "def extended_gcd_iterative(a, b):\n",
        "    s, old_s = 0, 1\n",
        "    t, old_t = 1, 0\n",
        "    r, old_r = b, a\n",
        "\n",
        "    while r != 0:\n",
        "        quotient = old_r // r\n",
        "        old_r, r = r, old_r - quotient * r\n",
        "        old_s, s = s, old_s - quotient * s\n",
        "        old_t, t = t, old_t - quotient * t\n",
        "\n",
        "    return old_r, old_s, old_t\n",
        "\n",
        "def mod_inverse(a, m):\n",
        "    gcd, x, y = extended_gcd_iterative(a, m)\n",
        "    if gcd != 1:\n",
        "        raise Exception(f'inverse modulaire non existent= {gcd}')\n",
        "    else:\n",
        "        return x % m\n",
        "\n",
        "\n",
        "try:\n",
        "    x_inverse = mod_inverse(random_x, n)\n",
        "    print(f\"iunverse de x modulno n {x_inverse}\")\n",
        "\n",
        "    unmasked_signature = (masked_signature * x_inverse) % n\n",
        "\n",
        "    unmasked_signature_hex = format(unmasked_signature, 'x')\n",
        "\n",
        "    modulus_size_in_bytes = (n.bit_length() + 7) // 8\n",
        "    unmasked_signature_bytes = bytes.fromhex(unmasked_signature_hex.zfill(modulus_size_in_bytes * 2))\n",
        "\n",
        "    with open('signature.bin', 'wb') as f:\n",
        "        f.write(unmasked_signature_bytes)\n",
        "\n",
        "    print(f\"\\nunmasked signature (hex):\\n{unmasked_signature_hex}\")\n",
        "    print(\"signature sauvegardée\")\n",
        "\n",
        "    message = \"I, the lab director, hereby grant nour permission to take the BiblioDrone-NG.\"\n",
        "\n",
        "    try:\n",
        "        public_key.verify(\n",
        "            unmasked_signature_bytes,\n",
        "            message.encode('utf-8'),\n",
        "            padding.PKCS1v15(),\n",
        "            hashes.SHA256()\n",
        "        )\n",
        "        print(\"signature vérification successful\")\n",
        "    except Exception as e:\n",
        "        print(f\"fail signature {e}\")\n",
        "\n",
        "except Exception as e:\n",
        "    print(f\"error calcul inverse mod {e}\")"
      ],
      "metadata": {
        "id": "Ct4qJZqu_WZ9"
      },
      "execution_count": null,
      "outputs": []
    },
    {
      "cell_type": "markdown",
      "source": [
        "RC13 BROADCAST NEVERMIIIIIIIND THIS DOESNT WORKKKKK\n"
      ],
      "metadata": {
        "id": "837Q5e3DD0b6"
      }
    },
    {
      "cell_type": "code",
      "source": [
        "!pip install pycryptodome"
      ],
      "metadata": {
        "colab": {
          "base_uri": "https://localhost:8080/"
        },
        "id": "fz_ManvX_K0g",
        "outputId": "1a47081a-7d9f-41cd-f99b-59e28d0a9c32"
      },
      "execution_count": null,
      "outputs": [
        {
          "output_type": "stream",
          "name": "stdout",
          "text": [
            "Collecting pycryptodome\n",
            "  Downloading pycryptodome-3.21.0-cp36-abi3-manylinux_2_17_x86_64.manylinux2014_x86_64.whl.metadata (3.4 kB)\n",
            "Downloading pycryptodome-3.21.0-cp36-abi3-manylinux_2_17_x86_64.manylinux2014_x86_64.whl (2.3 MB)\n",
            "\u001b[2K   \u001b[90m━━━━━━━━━━━━━━━━━━━━━━━━━━━━━━━━━━━━━━━━\u001b[0m \u001b[32m2.3/2.3 MB\u001b[0m \u001b[31m29.2 MB/s\u001b[0m eta \u001b[36m0:00:00\u001b[0m\n",
            "\u001b[?25hInstalling collected packages: pycryptodome\n",
            "Successfully installed pycryptodome-3.21.0\n"
          ]
        }
      ]
    },
    {
      "cell_type": "markdown",
      "source": [
        "lamport\n"
      ],
      "metadata": {
        "id": "VzcZpFO-gL8j"
      }
    },
    {
      "cell_type": "code",
      "source": [
        "import hashlib\n",
        "import json\n",
        "import base64\n",
        "import textwrap\n",
        "\n",
        "import secrets\n",
        "from hashlib import sha256\n",
        "\n",
        "def hachage_message(message):\n",
        "    return hashlib.sha256(message.encode()).digest()\n",
        "\n",
        "def reconstruire_cle_privee(messages_signatures):\n",
        "    parties_cle_privee = {}\n",
        "    for item in messages_signatures:\n",
        "        message, signature_hex = item[\"message\"], item[\"signature\"]\n",
        "        signature_bytes = bytes.fromhex(signature_hex)\n",
        "\n",
        "        h = int.from_bytes(sha256(message.encode()).digest(), byteorder='big')\n",
        "        for i in range(256):\n",
        "            bit = (h >> i) & 1\n",
        "            indice_cle = 2 * i + bit\n",
        "            element_signature = signature_bytes[i*32: (i+1)*32]\n",
        "\n",
        "            if indice_cle not in parties_cle_privee:\n",
        "                parties_cle_privee[indice_cle] = element_signature\n",
        "\n",
        "    if len(parties_cle_privee) == 512:\n",
        "        print(\"clé privée potentiellement reconstruite\")\n",
        "    else:\n",
        "        print(f\"clé privée partiellement reconstruite: {len(parties_cle_privee)}/512 éléments.\")\n",
        "\n",
        "    return parties_cle_privee\n",
        "\n",
        "def cle_privee_en_pem(parties_cle_privee):\n",
        "    cle_privee_bytes = b''.join(parties_cle_privee.values())\n",
        "    cle_privee_base64 = base64.b64encode(cle_privee_bytes).decode()\n",
        "    cle_privee_pem_lines = textwrap.wrap(cle_privee_base64, 64)\n",
        "    cle_privee_pem = \"-----BEGIN LAMPORT SECRET KEY-----\\n\" + \"\\n\".join(cle_privee_pem_lines) + \"\\n-----END LAMPORT SECRET KEY-----\"\n",
        "\n",
        "    return cle_privee_pem\n",
        "\n",
        "\n",
        "json_1 = {\"message\": \"Aw, snap!\\nUnfortunately, this book cannot be recovered.\\nOur team of dedicated librarians is currently trying to fix the problem.\\nReason: UBNC (user brain not connected)\\nI sincerely apologize for the inconvenience\\n---\\nwarekayla, library administrator\", \"signature\": \"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\"}\n",
        "json_2={\"message\": \"Aw, snap!\\nUnfortunately, this book cannot be recovered.\\nOur team of dedicated librarians is currently trying to fix the problem.\\nReason: _Rosin_ core solder? But...\\nI sincerely apologize for the inconvenience\\n---\\nwarekayla, library administrator\", \"signature\": \"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\"}\n",
        "json_3={\"message\": \"Aw, snap!\\nUnfortunately, this book cannot be recovered.\\nOur team of dedicated librarians is currently trying to fix the problem.\\nReason: vapors from evaporating sticky-note adhesives\\nI sincerely apologize for the inconvenience\\n---\\nwarekayla, library administrator\", \"signature\": \"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\"}\n",
        "json_4={\"message\": \"Aw, snap!\\nUnfortunately, this book cannot be recovered.\\nOur team of dedicated librarians is currently trying to fix the problem.\\nReason: somebody was calculating pi on the server\\nI sincerely apologize for the inconvenience\\n---\\nwarekayla, library administrator\", \"signature\": \"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\"}\n",
        "\n",
        "json_5={\"message\": \"Aw, snap!\\nUnfortunately, this book cannot be recovered.\\nOur team of dedicated librarians is currently trying to fix the problem.\\nReason: Borg implants are failing\\nI sincerely apologize for the inconvenience\\n---\\nwarekayla, library administrator\", \"signature\": \"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\"}\n",
        "\n",
        "json_6={\"message\": \"Aw, snap!\\nUnfortunately, this book cannot be recovered.\\nOur team of dedicated librarians is currently trying to fix the problem.\\nReason: Change in Earth's rotational speed\\nI sincerely apologize for the inconvenience\\n---\\nwarekayla, library administrator\", \"signature\": \"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\"}\n",
        "json_7={\"message\": \"Aw, snap!\\nUnfortunately, this book cannot be recovered.\\nOur team of dedicated librarians is currently trying to fix the problem.\\nReason: Sysadmin didn't hear pager go off due to loud music from bar-room speakers.\\nI sincerely apologize for the inconvenience\\n---\\nwarekayla, library administrator\", \"signature\": \"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\"}\n",
        "json_8={\"message\": \"Aw, snap!\\nUnfortunately, this book cannot be recovered.\\nOur team of dedicated librarians is currently trying to fix the problem.\\nReason: Maintenance window broken\\nI sincerely apologize for the inconvenience\\n---\\nwarekayla, library administrator\", \"signature\": \"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\"}\n",
        "json_9={\"message\": \"Aw, snap!\\nUnfortunately, this book cannot be recovered.\\nOur team of dedicated librarians is currently trying to fix the problem.\\nReason: halon system went off and killed the operators.\\nI sincerely apologize for the inconvenience\\n---\\nwarekayla, library administrator\", \"signature\": \"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\"}\n",
        "\n",
        "json_10={\"message\": \"Aw, snap!\\nUnfortunately, this book cannot be recovered.\\nOur team of dedicated librarians is currently trying to fix the problem.\\nReason: The Usenet news is out of date\\nI sincerely apologize for the inconvenience\\n---\\nwarekayla, library administrator\", \"signature\": \"5f67b86541f0fdb74d430b5f557b1a499274eee6d880e51921a9c3bb3ba5cc851363dcf399e919e36b4da25a53e09f9a60c332ddc33aaacbebf85fb26ffebbb9f287f2dc464041f6d4af6e755ee349cfd4a5a935ec65ad5e45ec3c096f185597d33742dfd9c1194840e4daf613535c045ee5c1df6053874f2bddeceea9add93da4bdbb804359feed0e729614eb0ebf564736f91649f4f14e5b52bba3dbc9b95ff1fb398031501d5cf13556cebe541ba92b776ad9871091a0e5e9c1e50eccc82af48821a3f3e1ba94bf387b928dfea5fa78915fe99e80aa74c3a6b947f03015ac2af51ce22dc63858a8d25d60cfcdaa7ed22e90ceb41bbfd2e80b1b66b2f9eeb4d2eaf904e128f6cd4178d71bd945bae3eb74812b78e516d09f5418200013c6a5c8a22a7391c5b407daa3727035b80b21ccbbba42f453375a0e593cd6d722de7181c1ac391d2483a9acc84a58a2040ffa4399012845d20de1c075d1b25caef3a3245690416bbdea4d7a64fe81043e40b2a9daae9509b12e8340874e1b0b488ca2f13d6a04671745ae5f8c0273eb1e598fc796e4765366d599884e7078b9919170b028bcaae8e51d951b73e92f74c34b0513b3a753067add8ad66c8f2ff844313f2199ee641b30bccb835be7ed39abd0c41bf531bb2192f63f62d9fc839dbbe299d404326215fbe29bd7189235f9f5c66e5c676807c012cfa8b5bbcd68a0766b0beb7c7bc6dc3da6c36c9f3c75dc5332c377ad56f1c09620bd4fbdd61d93d5ffaa794e0b6167fbe441d5c8020cb00fe43e435418388794a2f61d1d91f9e197be7dfa19d80278d50bbb5d891238706b767684473efd6b684cf95c4ff7cc0a6786e4d3ca294c3ed1132ee320d02110b55083e3e0e04c1f29cb6aa1ac1084d53a72df11715376ef5b37f9587cd02e0657323757fe51ed41158e0c44d54be4a06efd4f44f6b8b3e51b6e740e64acb9e0eb37c0b88a674722743571c1980604328f87db5cfeaf4e087d64f10ad37782cce0f69b28dc84da50d08f9fc74d7da90f434e10dc900aba7ddf05649d185290cff58f9c49605733ea4ef30943d6cb3ce065c2334ba7f879ed20c410b16de83ba86fa9f8817daaa240daf7ee2b40505b43ddc0f6707572e19b6789efa02d73d0951c9b8aef5a1a4f71b35e478639cc50cd9354082ddb6fd7ee5e0989c6684f002911e1b8fc22a6ec37724b64673ebe660f253263646f263ed4fe18334e2dc4d74f2154fa1ee6cbee9fc24b6e0ab62f11d6cc066c9851a6a2f3625fc88b2886dd0a4f15fc954bc1ec77209e21d918ec10183db79b489dd24761cffb72072bdf4d588abb442350f393ff7aa23bbb22825f8ce542103419b415430f030bc5e6e235e33286238ce29fd7e45b2aa391ebd8232dc07414e106dfce30c1cfe8fbdfa96055258fa84a77995c6293a7322cda186e769978057d39237548c9d3734f9494e1e39681636acf6e1318500b0a269ddeb33c592e468938f7d7cb803d9f4b17877a86ff7ac9448fb2be84cbbd6ee15713847ff88d80b9911ced85ee308bd0b46ba06270885477d8b90cfdefeb9bfe41e5a9aafb0352bc6fd2fece34887eff9e74d5ade050ceb9c5dcf1ea3f5558541e20fa6c9cf413994bd38f9cfc1984af1962ab98f893b16ebdefb15f466e9e4fad9e645f86caef5dcd0ac7dd18d56618bfb0fea1794a93f45b71572ca97ad4cc88b3ba21b543e8c8f03904666221fb04ef2c3cfc0663069c4805895b148789261bf1a88a7348db2b395f579d31c6f27f83844aca9e4a9e8086df44c725efb935310a68147d00c6dba35d9a1e8a3f513316d572ea3f46ad524f64797aca05461368a52edd20623b32c3771eb7f9e3f8771ec9bfe93713ba8c59a06409d2a947a221d9170ae889db424b08fff71f91b0913dc22c6cd3f9d642d76d651a6fc2637684632700e1db7fd171e021706a0ee3c744a7f7e869f2e3a9021419c33d0d630bb577c5e3315b8a7084f525c3eb515dd5119c601f52e2144ed7ae607ae3846ae9add79a2d7bd6321878a697a6c5ae8d91bafcd96c73986338470d3eea3b0c54ee196e0b2456e1162082d77bbd81a5a1975456ebdefe6a0fd1aa71b7b66ef7bdbbeb4363b10d7b8fbf3a437bd90f8eac4b96a9254a204980b6d1b2ab31cf11aa5b3ed47134394ef9fcb0188551c49c73a66d0d14d3e5b03545cb175607955cb334b46a4731e826d237dbaebc38800466547f1bf2f756157489e8a8ad9d09fbd1a1c770311fe85f298629e3d2bde45c51ec2211bff423609779296573d23f98371c107d12874c032032a95eb5c048e7272edf51236fdc819d75ffa17d52ef1c9fc5dd053a0119e377d64f11b0837fb1faabb8a832bb07f0de4856cc9e46b9f5da30a2c71f0490dae8d028e8fed453315f65d0f13dfff82da8f13bd69783a7fe2919a8de6d0fc67ada63709fc9a5ac1e84e41dfbfa26e24b66400c10a5b5b71669d71c46e92439ca8012bf9b5d42032444121d0da0e9c32ec1731a460fd8cb49c286c256c1eb9ec13b6921dd53e884b482146ac54551742028c3ba3a934fad58ddbc64ba2e3ef10ad5dd4d3bb9fa838e0770a237ae017a7d989dd8e8a09c9a507d4c21c24600b0f36470752fc0c96f1224c4025d999789b49de737a5eef5e80b23cfdadabd72835ff9c8d6b927ac7d6b89dbc087dfb5d944f60d0901658005df9bd88a63f0c4942a651a1b4e394903bccfad305064d19d09f241f2f2bd5610ef5fd9f8ee6a017c347b6404379d31dbb705d256fe268b39df0ae50b6a4507e389880b856f9e95688556db02561ee23d6f4dfe20915cc12d1bfa234bb92ec904e15aa59fa942024bab3606a640fd613fb91b34766b79bdb2ce86e8690efeb3b1441ff41f2e22070d8c98bde978f915993591ebf90096f62919c3cabf8b8a52256bc1096f384610a39adeb81bd0841b8ef5972f8427dcbc27ab1640355ee025c026e0a0c66a8875ad2b0059c960f4c7454e08a9ab6cb78f9627bab4cc12bc680342bd2638ca1a2b2c10c41920ffc57d360245d242aabd06d4c7d2b7a1e9bb2b90ae1781cb01875b6e5c98e9fbb6c953bea76066560da61ecbf0db9dc4576ba45481f4477ad6e4ccb4dea80f736d814496126501ad3fe9483955b22e35fa8ab32d6c8a7cda38dbc95ed09dd6be0e3fed800307f4669ffd4ab6b255dd915650f7495ac2d796ab5a939cb0fe8bacc1c127b438dea96bc7595244f0991725496491ec10f76636a00a85e4ee1873e8c98a2d47103bee478a46d6f3d011a80db5de7bbda837e14f12d8c4bc1ee29a59f418b00c26f360d18534d396cdd73c6eb4d064489e2a173c9d1207ad510ed9bdaae3a37905f92592bfe28512670f820a13e061bf516f6d50f48a8ca784a58be5ee3ef0e18a4658c55d627c1bac5f9eee5e04b4c5c27fac4e5d3aab28364c00ae18355323b5611364857025cc5af72b61786cdf94151058233fcf1497d3a5aa522d7ed25b71d4559552c98e933d0503615aeaab4ba656cf820fde4d56db7d1db594c1dd674927eecd248c284d71db03f61afc77ccf501b6a5b0afbacfa41aab7c0157cb3078122e40bf9b6f906cb71594b284a58b13b8aba77b6f4f884f245f3888351a2cafd314202e126ce272178fb23aa1398f753bc3b506747174047542fe25591a4bbf91173614849608abc8c37c278099f142acdfe07bd3cb66d49ae44709d540bc9c1493bcb3b1f9e6df123c0eaa302d07bc8edc2aa663c054aaab8c8e9f80c72a5676c04ac23830bb4040630d73ba277510c9746ef50ba353a036ad07956338baa6b05a20e33962b442da77c1e3281c10e1e9b26a8d4d7e5f10b639397a2cc50fb7f656bb842a16c19cbf3c2c371241440114a4ecda2eb2686b388c9a8ba5021cb917c06552f25889417d45fcb157435098f6c0d39a8d3deadcf1ab22b7b7b9259e36ca1cfcea94d0dae52ecffabeea27e4cb630f7399a095f5da8b4aa86e1e5784d35445e4d6ac649f2ea9fc1f83470b75998f8cfbdeca35855aaf409d25e8f8635e7554497a9844084ede00de5a4c1da4ff7cf41b692ef29770a53e131326d958788d34964c29e79c35f253e02f140a0d0c232b64759c40193364b526a0a8e8a4ebcf74a93bdef387e046f60a0b9d7720ddbf5bcb7c260863e1db682d939c98ba8fb804128f9f1817c7eb52d613bc4a23c209893f639d1936afff55b303159209a959784165711e095c515d01007e45eebb8c74ecab0929fa1650217b08d7fdb780923f97c54429bb77238b51bbb77ed019922c629285a04b24d3ab2c0467a010f9de27d0f167aa9c664875472aabfc448a3ad841848d7fce2b92411c1d55dd98e51b4bb327882aea4cab0f453ddf0c801c3bf5463430a7bf38ecdd6795a23cc6eba492810372a0c30bc9be37a409f131dac88a73360b7a7eaadc612b8be46cbb0a11fe8425d2d9b116eebbc89d2de4f73937077d9d4444239b61bc09cca653585cae4db8121908cb496065627c7f4b628923fd57feeffd9f1f0b3249e5e63e36508fa8c49892eca4bfbbbbdbef66d14621def200a6eaba6f201364feb42f1b0b9bf07dc858d89ee7c44d46aeafbba935759629e9a7a4c8e159b90b78a3e05eb8b2568bad2b20c5d0274d5d2d6e0f3bbf31ccee1625ec83c1cf8ddb396b9b9d7aab39dc5b5800f001b52e892ea51cd38edfcfe2bd70d3e573315f967337674168228dbac42898b3a8fa03eb42938eb9abdcf34b3573a06c3284f1fdf811745268809a205708a9306259f6e61d5670b9d3d223572bc0aa69213b8c30983043c2a145e69a2b82d7ea2886bd296d13ea153e30dfcd92aaa368d26546c54194f21af5fb263d0f247cd7736f08fd8dce6686a225eee79c9800f8b091fd6bbc6f3099085bcaa66869a0d3d4396d1466c2db7ababd026abcbcaef07f7b67832af8225ff6cd39919580720d0f3fa17be8c70109883ffd09f25e9a9a3119f9622fc26814ee33367af1a279a91e6635429001dc62202887b60da7193dfd4a32ccd034e338aebaf9bde6c20eb998160c0d824f01d19b05231b6f095aafeab2ec868d4f3358cc38e274499419961f1795bc10a1b7bcbbc3e9628533920762c69ee7b3a5c5150a5cd3be0b643712541e91ff347f0b96e38309a6aa9c8e3f9669fbd9d1bdc7bbd4ae1c889db3d6b87cd9e422b925c352b5f92f7ac9743e03755ceaee3ec513c1809438e25377ea3ee3f65e7315b7f40b9a4b9b83f042a0b4a25a69b14664b8b1cd9df85c3b57a7fdc7ef4b93d8cff2deb931e4a205d0d67020707ce64a766c38e74c20c61ea4d21e34c6d9a68632f7ee198b7528833a29e4c7b4e2696a34ee50d1797f06c6ec5cb907232c4215c6c4c0ae96b323471434193b116cc80f1aea1a4fc2527a3b5df4c36856d4c38d9c538ff2904a9a2f002babc7d40b5782266ce512dadda3048f9e62ec95121d03920ab9aed7431fa809bdf9400ece014d30504701a12a31746906a4bd969d4aeadf6d2e141ac7ff9e3c7fed93b5d1994bde5d13a1fb280143aad3a8f53e31bd7ca99f74c297f158cc6fc5ac95ae24c545e9141ba1e0a118d19bf2ae1fb3881f45495b862fb2086f57e09c5bae7c02654d5a21f738283e8aec7ffd04ecfe0b355ad9122fe63b1fbc0888bad5165193d2613d292fc3bcbd74748d0612f179020b3f35a17e37f670266a9adfc80bae2f8cd49d824ddc459e4086a4f0c58efd4affb63a450aa034b174af07be082a9c32f177ac022abbe966874dffb020ae953827425191c9e0365ccbff29782d823e36b23b5bde74ded328417ffa10166368a129790e796719fea5bdb07b2568221d5b7483a3a0ed561c767fb83dba95e0d074f103acd617ef2839377a0b2644b47e4ad3abfad01a9209755efe3ffc913a77eab9de2b5a6082a283fff4e885bfcbf014bd0649e277c04a9e61cb1eda10ca6459bba143814a25936343617f951dc3cae841b1e323a359dd9a06751d6a2f9c8ef1652cc90f553154279bc9da30b23dfa49f1ef87f16e3dab69da032d4633bad46c8cda91b79ae077f7c79c41f65bbfe7ffeced24db4e9736055945fd30e53eb249e38ef2fb2ebc9cb22f602c27383a71ec01fde80665c0fe19cd8640b20a57c6ae8072ac16cfec8b92a6e2ddfcd0e6edac4ee310657ad36702938827fb65c225d74821fb2815284fb38bd14c916628b91020740c735ab2b17f1880579031c964cf949b23241a4f87f56ffe94eeef5d04bb07e60872f26e5452352611c7625f3186a0be4bafb9d94abccc70bf9c0d42625064f7a1626a51ed65291f3cdaf95d2e8d166903090fc72c16570bd95c936e3dadc9deb7a8eb88033c00f717857f8b3e19071d0b40e4076c5fab70b9d1192e2196cd71950612e2e4001aad78374daecda04b597111adad946f934d83aa97bf08abe439028eed3218eec84fd8d8214ff4a3eb6fe1fa4739fc89ada60423f8d63e45cf47058b1f4bb3f9c030b235ce09dfdff0f7c41d1c482ca693ee563b41bcd6d140e0d0f55d7ee6d3002cd65848560a683dbbe5670a88aa2c45252ee4dcd24a66f6c294d4cf8a7e9b387b86dab73fc59ac1bb3987927d0529f24a5474bf3cc5afd7ff548ea88d68491e1b17a57e80423236143d15999b74b77e42d4ea2f1cbd8bf89f5063483df68c5d42d66c5a35ef323a4d2d302ca02c0279fc1399a7c281d974f640a095ada121a4d11c81c21cdf9e6820a10c88c848e7e9450b7187c0728bfb73edcf6be56ab202875e277621d2ee2882e4a7f0258cb21320a77a42542657b348b624fb20dd5db76d866ad8a3a95782bb1f50c40246c0fd408c5aaba3d953c12cc5e7532b5bec12d279177de1a440f099d1b021a5450c5e6f73643cb90376f9e5b2511e5dcc85614b851250c136f09464ec9196692eaf5ce6d5e41003587fbe11b1b1dec56c4e04cf842c8d463b6653d077c15778a3591a187e2526c3ade5bb0246daf341e2a91ff1069eeda243703009b86da253677e73cb67c400066cc077f6c5aa1faca8630a6babd6c49c2690c698a51750472a1074b0c8cffaf10899e727cb04e8b819ce171d483411ce1f44fe83598b6cca6dce13a8598532c782f6eeaf551bb94cdc6b40a7869591c2f5cadcde68a687bc99bf2289829863e7a8ade023970c9689ab6a5f00c7a88a3e8034a96a892dbfbce71aeb49d2f4d73c3a18ebb8a49dd7340c3bf8f05ef50211dff1257f6f88e9476e983d7549a44910de88047d6295e18d80b3d91e048740998b8f6aceb40c67cfc87536e2cd907920767ff70f74b2878bf6d5409fe925f157f01b09bba9048e2c7ee081f8250e68ee41649ccf480d9b323b381a93ab8c5c6f51ee28add860c7890cebe7f1be9b1883919518c70bd1409141ff8fb270f42898e42efbdb833ca96820c70b5cf80b4d6f35696edb06b9ecf252cc9857bf1f93fc579fa63bc0642aaed860035d4a633d1ca0ab2a9c03a762df3aacf1aa1afca2cebfdd8cd2d482bcc9cbee1f2935177b0f45861624eef7a66fbbaae920c35fae4e837e66768ab7b4f27a48743eb1eb6c1290d0401d9d2d881d87976a88674aeaff3b455cd670a21e007e6e88de26b1442fb5d0f4c808157076cd70f8a6d12bc87a62ca74bd3ce2c446d0e4011ec67d8f2be5ce2fb288bae0235aa5f3e6f86896bb68700f61a4bba04812c0f126229b46dc3e1ea2721c06b783aa1194b698ebb003124a0d255210a4b87fd17aab200c3264c1be05dcf2f7c5842e67fb0b2976f362f82197129100a1e32f50172e0d9d1313d80f4b3703b66b09f442ff11420dd903f76386d5c725742ad740470b9aec8ed0cb93be10c9a4ab00aedb47390a87077337229927ad1f7d3f1109ee4f4cb29aad6f5af4a8f40f134f5c3d9cd15310cd4620862a1945a7a6b737499070b9e3de6f99706b83490aa738de0390263391175b01be56877c36dd2744386ae4ac97f060b6975fa630579de2879d4380224754aa23bab6ec4dbf68d668527ebea782fd5dfd2a573687f1303b9ef5fcd760288949397dda8b712c32ab9a4b9d3657429e1019ea027593d8d5e8a1dcb22530493d70f2336630748370ca7012ef32641322e8170d6e08d4cc9371ad612f7f9a228383421aaccd68d90c082a3a3ad305bf2262f6e0ee124598a5cbc29b282fa0497161e6c3ebaee100d55437c29cbf739f2b683a58a2aac70ea798ae4df166904d926a2c449360d37378943a2c08e1795cb9bf80b7c079791d058576345763c69447c95bcd4b912aebeaccab8d46c945a7e27efcb4e4da9899e7a31e7e31ae4449321201706942d3ae1bf38f9b3fb1773d6188714b31cd9e0125b8af2d5bf3fc8d8cef21e22f5392bc1fa759beef120d0b3fda447a004273b2d645dd67d236f70b6de38c89dcb4b44e017199ae17fcf24cafae4996de595d04d38a76c70aefb2b6bcff60aca7a483bf58d1b6adb0e5c1319232c0f5453f6d4d679d27fd10be1f3f8aeb9590062853b14aa61513137f98fcd510f4341e843a50345bd8d7f53c47f5412b29b774428d1abfd3ae586bca809ebbfa05dd0213c11cef8876972032cc86f9abfdbf9785db409d8bf68df7de27717af2279647e6317179783f760a5eeebb84b3a481ad8ad80c897a955aa69924ef5f97a5012039e6db1c5f800c257aa1d75139467d2d1d4ff3a2f46d22e98cb0f39ab941da0652d1f1811c5e96ed8ed921700589e0c699026d80274c04652fe1ed29af1c054a50c7579f3337718a9b85031ff118499cc3305826e5f1a8abd1fbdc56593f646256c489608843e3e9ff09b02c0847fde93370eec01f765aabfc328b0d0a58142ec64db5d9dd008bdaf90a0e05eb7c23700e6ad18efe2a7caad163bd423b0e838261654b2063cffdd2bfafe9d84424791c8d932ad391aaf11a29a1837648afd471d43c9933918153a00e062d633905f2a0350877fcb08261988f83367ed0785daa1bbe021b3767c6013db41e5472ad70d74cc7a57911230ca063ab4f97efeb0b623d59881f38c9eebfd0188fa9822719058cf8fd73362362ac8e5cbf59ee234a474a49bbf204b155a875a3644073aa9770d093226a319b44c1898a9d0a860befbb9602157fed0ca4870a3457eca12ea58a86a94d9dee76e310c50162d69fb1c7db0f56d20915df3447985801264a140ea20c79791ce4701433002c835eb20f050d72af3e0f252cdf5aa6e98188090df5fa4d77bfe33f130ae14625e9e195db5fa5aef0df0870d688025ff294e67d98ebfd39d027f2c6c09bbee2ff65c49d054888daa951fc62f8631b09d663513de871757c27e10f2d4406cbe3736a2f3bd31304563992a3ec7e6c93d4d107cd822d00f500454f1b5b5b4b3b7640e8bd7259f0c10e22b0bae46803236ce846fe39c38e6ab874fe90d38ef97cb15ee28e39934330eb1f8d983f80a521f867e2e84d2d71f266e05a299627784424dbcee6eebd6092848bcf59a33e1596e68cd1fff96a2eb985376a115102ab70abc13c017a923530aefca3910503e732d28760bdb1aea3b50d212d3d9984c384e03763de03beb31303561b098057fabffb6c1f3cf822856948667588c12a74c0dd23de0abe202d9ebfc989e01aa48b9d53ac639d45e1067e5689addb6374ae612e63b9812191c59a56f62ed05a8211c677a579f4278f06a4161dd0490f30c20d739b50ec9e8cd8c4c938e2527564f0fb9c6edf140aa0f1a65e2a5103af69e75f296318e25f318cbbc35e1b68ac92ec7ed559908b37a0a2efc7dd8aad36bbd5b1e3df86a5e25f12fb7ebe05490ff17e6df2dd287ff17b1b01d5a3692e7c5e3f9806737261d8cf177c5045286ff75a141fa67dda6656b2f4b8ebf1d5be7212fa2d0b722d8944e2f23e16fe3caf8512c309efb7b1ed9ade334836bf90a619b6c91943533cbcd8976a08c4e4bf2596a4b74a67ca76e97f393c9b4c6e6522414c250620fe55538234387ec101da7865f05e67c53aca37eaab340661f4bf50c8febffb45f56909f1e1525e1ea820dad0b44e148c320ff113f4e12ec176925fec3ed06cb56618807eb1267b0b97fe20104d1d6f32354d30b60d62168a0ba6b5d8cee0f0453bfdd01a7903ec4d2ee7b5619a94d7b20ae0ea96252927396c5282a03aac9ba083083f93ea586b0655cdcc3b83982aade2592fcae0d7598f0533d026fd6fe2d0c92f4d8f6bf68d7da4fffa8ae0e2dc5b58f9b63d440e02231bc656a4b4504abf5db5bec32fa310d0535672f51fb53645d72fc30766b1ced2ad1851a80998264c10cc0d65c87cf2a72567c4f97fd8b018a055380d8685028fd82339ef5380c71bea97b84f60d397a24a3ce8682d6ce662f555bffb2a22067021bac40393194876ae5cb3af9fd2109835d35e67ddb5fdc9cb348976eca265075093b4f1b07559c631b35da1e85d24c54e02f0ea76829c527a337b9ee6a0eea8bf64940bc20b4b625aef00827dbf95c4d4513c9ee06154afaf18495821ce893c59231b7b115463c0c39f059ae775eb5e794a4bcdf0e6b82c20d4630b7961422be37fc3338d75b081388221edd67d492b452095eccf66ffb72af7a950bad2208df6532657e806c91441bda52c34c65a473c0d0d726931dcb99f55920dc134241a4db8a3aff83e26adddfe1f94f3cae495a3da4a9a50e30be7b83f7e34deecb1431efd1832c38dbba3c0a0d60063712587c7853af2ac19c8c64bf673511323f9c6af9f6c42ec2c148038b9f9dc9f2731278e69f7e6b8d950356c8e20f9b0b6313086f256842edcb11d3b0c652ae49884b096a45d6a0232bf2495bd9d8aa064f861918690618923147b7de3de7d942f77bd6386235f1f2491a91e91fe25058f3aa3dddcdfdaee7d1d373399d18a2e51cf5713953d71a233d6d3f2e6c1c2082fdb7629c444fd6ade3ce5fb8a49895acceadcffd547023cd55d118f0e68483089a43eb3f59bc753158e9295b3b333fcdde98cf9972841290ebd6bd5d77f676f81be9a03fc261992024f5e7a791a187816b55f404395410db8b785f2ea6cf3b8008311129fd003c55b05e4ca64caa03ee92a1eda1dcb136248c6a7df5f1be8592ecf9aadd20a254feb16cd62c1a25a9f7916208d05fec501551106533c770047f8bcd3e96b21735e2a8fa0f230cacf587df9473c8186a0a7f359fd17cc65cb85800dac1fb21d87b9721c8b1dc6ba8a865a72499d345b535795006a13e8b67a4b04643e90001eb8e371b36e34b300b5d7864ba792d13b0a07d43a39643fe11af01c847e1a26a8fbf1225a229f38717daee694cc5d28564afe270c6e2ea49b57e31cc028eb80f0eb030b5a5cb23352daa5127517a40e6e1e88d9c30fab60733ca1b4b1bce17881f1ac397313db53e9bf9cdc49a8bb4b8ae5a968957bbc09076f2fade22852facb110acbbe3fec7707e97b7f4d1c5fe5f2397c934ba5d1d31a6f8d68b020cc562704d64069bb9a26e38726ea673dfdcbd495797a74ece493f69bd3a48b29d86b70c300a191edf3857ae149c3c6c45c0d4ef4d825d1031a482d1c770cfcaebaf62332d73d7d6a38b552cf847881db54bd31cfd121cde654c674b40c2452e958af967bae0a3c6e2025f7b2eb\"}\n",
        "\n",
        "json_array = [json_1, json_2 , json_3 , json_4 , json_5 , json_6 , json_7 , json_8 , json_9 , json_10 ]\n",
        "\n",
        "\n",
        "parties_reconstruites = reconstruire_cle_privee(json_array)\n",
        "print(parties_reconstruites)\n",
        "\n",
        "# cle_privee_pem = cle_privee_en_pem(parties_reconstruites)\n",
        "# print(cle_privee_pem)\n",
        "\n",
        "class LamportKey:\n",
        "    def __init__(self, key : bytes):\n",
        "        self.key = [key[i:i+32] for i in range(0, 16384, 32)]\n",
        "\n",
        "    @classmethod\n",
        "    def _prefix(cls):\n",
        "        return f\"-----BEGIN {cls.KIND}-----\"\n",
        "\n",
        "    @classmethod\n",
        "    def _suffix(cls):\n",
        "        return f\"-----END {cls.KIND}-----\"\n",
        "\n",
        "    def dumps(self) -> str:\n",
        "\n",
        "        payload = base64.b64encode(b''.join(self.key)).decode()\n",
        "        middle = '\\n'.join(textwrap.wrap(payload, width=64))\n",
        "        return f\"{self._prefix()}\\n{middle}\\n{self._suffix()}\"\n",
        "\n",
        "    @classmethod\n",
        "    def loads(cls, key : str):\n",
        "        prefix = cls._prefix()\n",
        "        suffix = cls._suffix()\n",
        "        if not key.startswith(prefix):\n",
        "            raise ValueError(\"orefix where???\")\n",
        "        if not key.endswith(suffix):\n",
        "            raise ValueError(\"suffix missing\")\n",
        "        payload = key[len(prefix):-len(suffix)]\n",
        "        return cls(base64.b64decode(payload))\n",
        "\n",
        "class LamportPrivateKey(LamportKey):\n",
        "    KIND = 'LAMPORT SECRET KEY'\n",
        "\n",
        "    @staticmethod\n",
        "    def keygen():\n",
        "        return LamportPrivateKey(secrets.token_bytes(512*32))\n",
        "\n",
        "    def pk(self):\n",
        "        pk = b''\n",
        "        for i in range(512):\n",
        "            pk += sha256(self.key[i]).digest()\n",
        "        return LamportPublicKey(pk)\n",
        "\n",
        "    def sign(self, m : bytes) -> str:\n",
        "        sig = b''\n",
        "        h = int.from_bytes(sha256(m).digest(), byteorder='big')\n",
        "        for i in range(256):\n",
        "            b = (h >> i) & 1\n",
        "            sig += self.key[2 * i + b]\n",
        "        return sig.hex()\n",
        "\n",
        "\n",
        "class LamportPublicKey(LamportKey):\n",
        "    KIND = 'LAMPORT PUBLIC KEY'\n",
        "\n",
        "    def verify(self, m : bytes, sig : str) -> bool:\n",
        "        \"\"\"\n",
        "        Verify a signature using this public key\n",
        "        \"\"\"\n",
        "        bsig = bytes.fromhex(sig)\n",
        "        s = [bsig[i:i+32] for i in range(0, 8192, 32)]\n",
        "        h = int.from_bytes(sha256(m).digest(), byteorder='big')\n",
        "        for i in range(256):\n",
        "            b = (h >> i) & 1\n",
        "            if sha256(s[i]).digest() != self.key[2 * i + b]:\n",
        "                return False\n",
        "        return True\n",
        "\n",
        "\n",
        "print(f\"taille de la liste : {len(parties_reconstruites)}\")\n",
        "pk = b''\n",
        "for i in range(len(parties_reconstruites)):\n",
        "    pk += parties_reconstruites[i]\n",
        "cleprive = LamportPrivateKey(pk)\n",
        "\n",
        "print(f\"clee publique : {cleprive.pk().dumps()}\")\n",
        "\n",
        "message = \"limey buses masts stoae craps\"\n",
        "message_bytes = message.encode()\n",
        "\n",
        "signature = cleprive.sign(message_bytes)\n",
        "print(f\"Signature hexadécimale : {signature}\")\n",
        "\n"
      ],
      "metadata": {
        "colab": {
          "base_uri": "https://localhost:8080/"
        },
        "id": "wwOkjIP6gM72",
        "outputId": "0310808d-7dfa-41a3-fa37-0db75fc44306"
      },
      "execution_count": null,
      "outputs": [
        {
          "output_type": "stream",
          "name": "stdout",
          "text": [
            "Clé privée potentiellement reconstruite.\n",
            "{0: b'\\xbf:\\xa8\\xc6\\xd1>M\\x91\\xb0\\x9d\\xa3\\xcdu\\x19\\xcc\\xdf\\x9cT\\x9d\\xfa\"\\xd6-\\xa6\\xb27\\xe5/\\x11\\xbf\\xce\\xb5', 2: b'\\x13c\\xdc\\xf3\\x99\\xe9\\x19\\xe3kM\\xa2ZS\\xe0\\x9f\\x9a`\\xc32\\xdd\\xc3:\\xaa\\xcb\\xeb\\xf8_\\xb2o\\xfe\\xbb\\xb9', 5: b'\\xf2\\x87\\xf2\\xdcF@A\\xf6\\xd4\\xafnu^\\xe3I\\xcf\\xd4\\xa5\\xa95\\xece\\xad^E\\xec<\\to\\x18U\\x97', 6: b'\\xdb\\xc3Ik\\x15\\xe3G\\x05\\xca\\xe6\\x13\\xfe\\xaa1\\xdc\\x7f\\xc9\\xf7\\xf2\\xda\\x86\\x91s\\x87.\\xb8\\x12Ie\\x9a\\xc2J', 8: b'\\xa4\\xbd\\xbb\\x80CY\\xfe\\xed\\x0er\\x96\\x14\\xeb\\x0e\\xbfVG6\\xf9\\x16I\\xf4\\xf1N[R\\xbb\\xa3\\xdb\\xc9\\xb9_', 11: b'F\"\\x16\\x0fJ\\xc2\\xa6zUb\\r)\\xf8\\x00O\\xf9L\\x993I\\xcd\\x86\\xd0\\\\\\x9d\\xcb\\xcag\\xbb^\\xcat', 12: b'z\\xaa$\\xbd*\\x8b3\\x10\\x13\\xaff<\\x06\\x86\\xe9\\x06\\x0e\\xef(\\xc2-v9\\xa3\\x88\\xc0A\\xed\\xf9e\\xda\\x0c', 15: b'*\\xf5\\x1c\\xe2-\\xc68X\\xa8\\xd2]`\\xcf\\xcd\\xaa~\\xd2.\\x90\\xce\\xb4\\x1b\\xbf\\xd2\\xe8\\x0b\\x1bf\\xb2\\xf9\\xee\\xb4', 16: b'\\xd2\\xea\\xf9\\x04\\xe1(\\xf6\\xcdAx\\xd7\\x1b\\xd9E\\xba\\xe3\\xebt\\x81+x\\xe5\\x16\\xd0\\x9fT\\x18 \\x00\\x13\\xc6\\xa5', 19: b'\\xc8\\xa2*s\\x91\\xc5\\xb4\\x07\\xda\\xa3rp5\\xb8\\x0b!\\xcc\\xbb\\xbaB\\xf4S7Z\\x0eY<\\xd6\\xd7\"\\xdeq', 20: b'\\x81\\xc1\\xac9\\x1d$\\x83\\xa9\\xac\\xc8JX\\xa2\\x04\\x0f\\xfaC\\x99\\x01(E\\xd2\\r\\xe1\\xc0u\\xd1\\xb2\\\\\\xae\\xf3\\xa3', 22: b'w\\xf3\\xf2\\xf4J\\x16\\x85/\\xd7?\\xb5(\\xe3\\t\\x17(\\xc6\\xc8\\xc0\\xc7|t*\\x04\\xc3\\xc3\\x10}\\x04\\xbc\\x0b{', 24: b'\\xf1=j\\x04g\\x17E\\xae_\\x8c\\x02s\\xeb\\x1eY\\x8f\\xc7\\x96\\xe4vSf\\xd5\\x99\\x88Npx\\xb9\\x91\\x91p', 26: b'\\xdd\\x9bO\\xaa\\xe7?\\x0f\\xb3\\xe9\\xf0\\x15\\xfb\\x0c\\x97\\xc4[\\xb8\\x00n\\x18\\xa0\\xbf^\\xe5D\\x02\\x9fU\\xb9\\xad\\xedx', 29: b'{\\xf5\\xf8OB\\x96%\\xc3-\\x16\\xf9j\\xae\\x9b\\xd5\\x07\\xebJ\\xc4\\xfd\\x7f\\x13\\xb9\\xe1P\\\\\\xf8\\xe5\\xc2\\xf7\\xc3\\xf7', 31: b'\\xd4\\x042b\\x15\\xfb\\xe2\\x9b\\xd7\\x18\\x925\\xf9\\xf5\\xc6n\\\\gh\\x07\\xc0\\x12\\xcf\\xa8\\xb5\\xbb\\xcdh\\xa0vk\\x0b', 33: b'\\xeb|{\\xc6\\xdc=\\xa6\\xc3l\\x9f<u\\xdcS2\\xc3w\\xadV\\xf1\\xc0\\x96 \\xbdO\\xbd\\xd6\\x1d\\x93\\xd5\\xff\\xaa', 34: b'5\\xc7\\xd7\\x07\\x1e\\x10\\xe5}\\xbeb\\xe2\\x18:\\xecQMD@\\x8a,\\x7f&\\xf5\"&\\xf3\\x1dO\\xf1\\x1fg\\x1a', 37: b'\\xb3\\x8d{\\xe6G\\x19\\xee\\xc2JS\\x1a5\\x88\\x17S\\x9fEJ\\x8e\\xc8l|_P\\x98\\x90c&\\x98\\x08\\xf6\\x87', 39: b'\\xab\\x04_\\xf3\\x1c\\xd9G\\x0e2u\\x1c\\x97\\xd4\\x17v\\xaez\\n8\\x82\\x85Np]y\\xc2u\\xfc\\x075\\n\\x1d', 40: b'\\xb6A\\xbe\\xd8\\x1f\\xc0\\x13-\\x1f\\x10\\x81N\\x90\\xcc\\x02\\xd2H\\xa4\\xca\\x10\\xdf\\xfa\\xd0X\\xc7\\xc4\\xfd\\x92\\x91C\\x18@', 42: b'D\\xf6\\xb8\\xb3\\xe5\\x1bnt\\x0ed\\xac\\xb9\\xe0\\xeb7\\xc0\\xb8\\x8agG\"t5q\\xc1\\x98\\x06\\x042\\x8f\\x87\\xdb', 45: b'\\\\\\xfe\\xafN\\x08}d\\xf1\\n\\xd3w\\x82\\xcc\\xe0\\xf6\\x9b(\\xdc\\x84\\xdaP\\xd0\\x8f\\x9f\\xc7M}\\xa9\\x0fCN\\x10', 47: b'\\xdc\\x90\\n\\xba}\\xdf\\x05d\\x9d\\x18R\\x90\\xcf\\xf5\\x8f\\x9cI`W3\\xeaN\\xf3\\tC\\xd6\\xcb<\\xe0e\\xc23', 48: b'\\x1c\\xf2q]\\xf3\\xc4\\xfa\\xa5\\x16i\\x89\\xc7\\x84_\\xd9(V\\x91\\xff$x\\x956\\x9c*\\xd0\\xfb\\xeb\\xb5\\x1a%\\n', 51: b'pur\\xe1\\x9bg\\x89\\xef\\xa0-s\\xd0\\x95\\x1c\\x9b\\x8a\\xefZ\\x1aOq\\xb3^G\\x869\\xccP\\xcd\\x93T\\x08', 53: b'-\\xdbo\\xd7\\xee^\\t\\x89\\xc6hO\\x00)\\x11\\xe1\\xb8\\xfc\"\\xa6\\xec7rKdg>\\xbef\\x0f%2c', 55: b'do&>\\xd4\\xfe\\x183N-\\xc4\\xd7O!T\\xfa\\x1e\\xe6\\xcb\\xee\\x9f\\xc2Kn\\n\\xb6/\\x11\\xd6\\xcc\\x06l', 57: b'\\x98Q\\xa6\\xa2\\xf3b_\\xc8\\x8b(\\x86\\xdd\\nO\\x15\\xfc\\x95K\\xc1\\xecw \\x9e!\\xd9\\x18\\xec\\x10\\x18=\\xb7\\x9b', 58: b'H\\x9d\\xd2Ga\\xcf\\xfbr\\x07+\\xdfMX\\x8a\\xbbD#P\\xf3\\x93\\xffz\\xa2;\\xbb\"\\x82_\\x8c\\xe5B\\x10', 61: b'\\xab\\xa1h\\xf6\\x9e\\x1e\\xe0\\xb9fu\\xc8H\\xdf\\xff]L\\xf9\\xb1\\n\\xc2w\\x0fg\\xc74\\xdb\\xc1\\xb6>\\xba\\xaa\\xd0', 62: b'\\xb8yz\\xbb\\xceO\\xfb\\x7f`\\xa4\\x9f\\xf4\\xd1\\xeejs\\x05\\x9e\\t\\xdbW\\xa4&{\\x9a\\x91z#\\xd0h\\xcdO', 64: b'O\\xbfg\\xd9\\xa3\\xfd\\xe3\\xadL`F\\x11\\xf0\\xf9\\xdcN/\\x8f\\x8e\\xd7\\x08\\xea\\x87\\xe4/\\x1an\\xb7w\\xaf^\\xab', 67: b'\\x898\\xf7\\xd7\\xcb\\x80=\\x9fK\\x17\\x87z\\x86\\xffz\\xc9D\\x8f\\xb2\\xbe\\x84\\xcb\\xbdn\\xe1W\\x13\\x84\\x7f\\xf8\\x8d\\x80', 68: b'\\x83xcg\\x8cK\\xd2\\xa6\\x10R\\xb7\\x06\\xe1I$t\\x7f\\xf2\\xbb\\xaa\\xf8[\\x1f\\xb9g\\xa9\\xd30\\xd8MHX', 71: b'D\\xecT\\xc8\\xb3\\xd3\\xf8DIp\\xc6lj\\x17\\xb0DQ|(\\xd4_\\xeb\\xc7\\xe1*;\\xf5\\x03\\xc5\\xcdqh', 73: b'\\x15#Q-\\xedL\\x02\\x8ed5=\\xe3\\x10m;\\xe4\\x07A\\xe9\\xf29\\xa1T&\\xf3\\xad\\x8d\\xfce\\xbb2u', 75: b'\\xca\\xdd\\xf3\\xa5\\x94\\xa4\\x15\\xfa\\xdb\\xac?D\\x15\\xa2\\xa4\\xb0\\xc9\\xa7r\\x13gm\\xb7\\xef\\x98\\x86\\xdcr\\xfc\\x1fF\\x97', 76: b'\\xc8\\xf09\\x04fb!\\xfb\\x04\\xef,<\\xfc\\x06c\\x06\\x9cH\\x05\\x89[\\x14\\x87\\x89&\\x1b\\xf1\\xa8\\x8asH\\xdb', 78: b'+9_W\\x9d1\\xc6\\xf2\\x7f\\x83\\x84J\\xca\\x9eJ\\x9e\\x80\\x86\\xdfD\\xc7%\\xef\\xb951\\nh\\x14}\\x00\\xc6', 80: b'|\\xc6BQ\\x1f\\xca\\xdd:\\xe5w\\xbeFY\\xb4\\x1c\\x82\\xb8\\xfbn\\xa7l\\xf6r;\\xe2\\xc9\\xae\\t$\\\\\\x8c\\xb8', 83: b'2\\xc3w\\x1e\\xb7\\xf9\\xe3\\xf8w\\x1e\\xc9\\xbf\\xe97\\x13\\xba\\x8cY\\xa0d\\t\\xd2\\xa9G\\xa2!\\xd9\\x17\\n\\xe8\\x89\\xdb', 84: b\"BK\\x08\\xff\\xf7\\x1f\\x91\\xb0\\x91=\\xc2,l\\xd3\\xf9\\xd6B\\xd7me\\x1ao\\xc2cv\\x84c'\\x00\\xe1\\xdb\\x7f\", 87: b'\\xd1q\\xe0!pj\\x0e\\xe3\\xc7D\\xa7\\xf7\\xe8i\\xf2\\xe3\\xa9\\x02\\x14\\x19\\xc3=\\rc\\x0b\\xb5w\\xc5\\xe31[\\x8a', 89: b'\\x98\\x1a\\xbc\\x07y\\xfe\\xd6\\xd3\\xdd\\xf4\\x06\\xb3*\\x1f\\xe7\\xf6yk\\x1e@fc%\\xe4\\xd3*W=\\x1f\\x15\\r\\x8c', 90: b\"\\x0b\\x83E\\x1c\\xa99\\xa0\\x1b\\x19'\\x9d#\\x89\\x14\\xbel\\xe9\\xfca\\xc7\\xd9g<r\\x82\\xb9\\xbf\\x8d\\xaa?\\xb9\\xaf\", 92: b'/=G\\xabNv\\xce#\\xa6\\x92\\x0e^\\xbc:\\x0b\\xdd\\x83\\xa7\\xa3\\xad`\\xb0\\x00\\x94\\xef\\x8f]\\xe9\\xd9\\x8d\\xfe\\xf8', 94: b'\\xbf:C{\\xd9\\x0f\\x8e\\xacK\\x96\\xa9%J I\\x80\\xb6\\xd1\\xb2\\xab1\\xcf\\x11\\xaa[>\\xd4q49N\\xf9', 97: b'\\xfc\\xb0\\x18\\x85Q\\xc4\\x9cs\\xa6m\\r\\x14\\xd3\\xe5\\xb05E\\xcb\\x17V\\x07\\x95\\\\\\xb34\\xb4jG1\\xe8&\\xd2', 98: b'7\\xdb\\xae\\xbc8\\x80\\x04fT\\x7f\\x1b\\xf2\\xf7V\\x15t\\x89\\xe8\\xa8\\xad\\x9d\\t\\xfb\\xd1\\xa1\\xc7p1\\x1f\\xe8_)', 101: b'\\xea\\r2\\xf4\\xe0\\xc8T\\x8dN\\x10\\xab\\x9f\\rs\\x86<&D?\\x11\\x92`\\x8e\\x84HG\\x8d\\xb4@vd\\x9b', 102: b'\\x13\\x142_\\xaf).\\xc8\\xc2\\x06\\xb5\\x87\\xa2q\\x97H\\xf7\\xf8O\\xe8JGYS\\xb7\\xa5d\\x9d\\xb08\\x05Z', 104: b'\\xd6O\\x11\\xb0\\x83\\x7f\\xb1\\xfa\\xab\\xb8\\xa82\\xbb\\x07\\xf0\\xdeHV\\xcc\\x9eF\\xb9\\xf5\\xda0\\xa2\\xc7\\x1f\\x04\\x90\\xda\\xe8', 107: b'\\xd0(\\xe8\\xfe\\xd4S1_e\\xd0\\xf1=\\xff\\xf8-\\xa8\\xf1;\\xd6\\x97\\x83\\xa7\\xfe)\\x19\\xa8\\xdem\\x0f\\xc6z\\xda', 108: b'cp\\x9f\\xc9\\xa5\\xac\\x1e\\x84\\xe4\\x1d\\xfb\\xfa&\\xe2Kf@\\x0c\\x10\\xa5\\xb5\\xb7\\x16i\\xd7\\x1cF\\xe9$9\\xca\\x80', 110: b'\\x12\\xbf\\x9b]B\\x03$D\\x12\\x1d\\r\\xa0\\xe9\\xc3.\\xc1s\\x1aF\\x0f\\xd8\\xcbI\\xc2\\x86\\xc2V\\xc1\\xeb\\x9e\\xc1;', 112: b'i!\\xddS\\xe8\\x84\\xb4\\x82\\x14j\\xc5EQt (\\xc3\\xba:\\x93O\\xadX\\xdd\\xbcd\\xba.>\\xf1\\n\\xd5', 114: b'\\xddM;\\xb9\\xfa\\x83\\x8e\\x07p\\xa27\\xae\\x01z}\\x98\\x9d\\xd8\\xe8\\xa0\\x9c\\x9aP}L!\\xc2F\\x00\\xb0\\xf3d', 116: b\"\\xd8\\xe21\\x94\\xa9\\xa6\\x98H\\xbe\\x05\\xa9Y/Z\\xa9\\x8a\\xaa'%|\\xeb\\xba\\x90\\xea\\xe9\\xc5@\\x8f\\xed\\x9a\\x97\\xd2\", 119: b'\\x90\\x8fh\\x9ab[,\\xa4;h\\xa4{\\\\{\\xcd?%\\xd7 \\x02\\x91:\\xa6\\xd4\\xcc\\xf4\\xbb\\xccb\\xeb\\xd3\\x01', 120: b'b\\x13$)A\\x12\\x15\\xbb\\x0e\\xe0#\\xc6\\xc3(>S\\xd7v\\x1a\\xdb\\x9c\\xff\\xd1\\xe2\\xd48X\\x82\\xd0\\xefv*', 123: b'd\\x047\\x9d1\\xdb\\xb7\\x05\\xd2V\\xfe&\\x8b9\\xdf\\n\\xe5\\x0bjE\\x07\\xe3\\x89\\x88\\x0b\\x85o\\x9e\\x95h\\x85V', 124: b'DZi\\xa5\\x05\\xc1\\xac\\xac\\x89\\x86\\xd9s\\x8c@\\x80\\xa4\\xeb\\xf7\\x84\\x88x}D7\\xa6\\xc2\\xca\\x003\\xcc\\xa0\\x9b', 127: b'\\xdd\\xac\\xa1h,\\xeaV?\\xf6%\\xa3\\xa2\\xf3p9^\\xbd\\xed98\\x8a\\xe3\\xdc-.\\xcc\\x8e?\\xd87|j', 128: b'\\xbd\\xe9x\\xf9\\x15\\x995\\x91\\xeb\\xf9\\x00\\x96\\xf6)\\x19\\xc3\\xca\\xbf\\x8b\\x8aR%k\\xc1\\to8F\\x10\\xa3\\x9a\\xde', 131: b\"\\xb8\\x1b\\xd0\\x84\\x1b\\x8e\\xf5\\x97/\\x84'\\xdc\\xbc'\\xab\\x16@5^\\xe0%\\xc0&\\xe0\\xa0\\xc6j\\x88u\\xad+\\x00\", 132: b\"\\xd1\\x92`\\xab\\xe4\\xbb\\xb9\\x80'7\\xce\\x06\\x12\\x00\\xd9\\x0b\\x8eq\\xf9\\xbf\\x03\\xeb7-IB\\xdd&\\x0e\\xd1\\xf7\\x8e\", 134: b'\\x19 \\xff\\xc5}6\\x02E\\xd2B\\xaa\\xbd\\x06\\xd4\\xc7\\xd2\\xb7\\xa1\\xe9\\xbb+\\x90\\xae\\x17\\x81\\xcb\\x01\\x87[n\\\\\\x98', 137: b'\\xe9\\xfb\\xb6\\xc9S\\xbe\\xa7`fV\\r\\xa6\\x1e\\xcb\\xf0\\xdb\\x9d\\xc4Wk\\xa4T\\x81\\xf4Gz\\xd6\\xe4\\xcc\\xb4\\xde\\xa8', 139: b\"\\xbf^#<r)\\xd0\\x15\\xb7Zt\\x1f\\x0b$;\\xce'\\xd9\\xa9\\xebE#\\x8d\\xbc\\re\\t\\x80o\\xc1\\xa3\\xa0\", 140: b\"\\x1dx\\x1aE'gM#%7\\xda\\xcb5\\x87\\xadX\\x19\\xf8FA\\xa6b\\xfb\\xa2\\xc7\\xb9`{xv\\xc6\\xd7\", 143: b\"\\x8b\\xac\\xc1\\xc1'\\xb48\\xde\\xa9k\\xc7YRD\\xf0\\x99\\x17%Id\\x91\\xec\\x10\\xf7f6\\xa0\\n\\x85\\xe4\\xee\\x18\", 145: b'\\x00K\\x88\\xfaQ\\xce\\n\\x8a\\xcd\\x8fk.\\xaa\\xb3\\xf9V\\xdd\\x14\\xba\\xceB\\x08\\xeb\\xa3\\xfa\\r\\xd9\\xb5?\\xcc\\xfd\\xef', 147: b'\\x9aY\\xf4\\x18\\xb0\\x0c&\\xf3`\\xd1\\x854\\xd3\\x96\\xcd\\xd7<n\\xb4\\xd0dH\\x9e*\\x17<\\x9d\\x12\\x07\\xadQ\\x0e', 148: b'*I\\xb6\\x04R\\xffF\\xfd\\x16v\\x82\\xb1g$k\\xbd&#A\\xea\\xad\\xf8\\xba\\xdd;\\xd8!S\\xafh\\x16\\xc0', 150: b'\\x08\\x85o\\xa0\\xdf\\xb6\\xfd\\xd1Ngq\\x9eAY\\x1f\\xf7=p\\x90\\xef\\xf6\\xcc\\xa3\\x9f:r\\x00\\to-,\\x99', 153: b'\\x89r\\xc8<\\x13>/m\\xb6\\xab\\xbb\\xb3\\x9e<\\x0b\\xd2:\\x8a\\xfc\\xc8\\x817\\x82\\xa4\\xbd3\\xc2\\xaf)\\xd6\\xbc\\xc4', 155: b'\\xaaR-~\\xd2[q\\xd4U\\x95R\\xc9\\x8e\\x93=\\x05\\x03aZ\\xea\\xabK\\xa6V\\xcf\\x82\\x0f\\xdeMV\\xdb}', 157: b\"\\x1d\\xb5\\x94\\xc1\\xddgI'\\xee\\xcd$\\x8c(Mq\\xdb\\x03\\xf6\\x1a\\xfcw\\xcc\\xf5\\x01\\xb6\\xa5\\xb0\\xaf\\xba\\xcf\\xa4\\x1a\", 158: b'\\xab|\\x01W\\xcb0x\\x12.@\\xbf\\x9bo\\x90l\\xb7\\x15\\x94\\xb2\\x84\\xa5\\x8b\\x13\\xb8\\xab\\xa7{oO\\x88O$', 160: b'\\xcen@\\xd8\\xd3\\x9b\\x89\\xb8\\x90\\xbaSSX`W^\\xb0G\\xa7\\xd7Us^\\x99\\x82}+\\x8a~\\xa3\\x91\\xe5', 162: b\"B\\xfe%Y\\x1aK\\xbf\\x91\\x176\\x14\\x84\\x96\\x08\\xab\\xc8\\xc3|'\\x80\\x99\\xf1B\\xac\\xdf\\xe0{\\xd3\\xcbf\\xd4\\x9a\", 165: b'\\xe4G\\t\\xd5@\\xbc\\x9c\\x14\\x93\\xbc\\xb3\\xb1\\xf9\\xe6\\xdf\\x12<\\x0e\\xaa0-\\x07\\xbc\\x8e\\xdc*\\xa6c\\xc0T\\xaa\\xab', 166: b'T5\\xe0\\x16;\\xd2\\xd3\\xc0zB\\x82\\xeb\\x17\\xcc\\xbbMGB\\x88\\xe3\\xb4\\xdaS\\x15\\xd1\\xa3\\xe2\\xb8K\\xc4\\x16\\xe0', 168: b'\\xad\\x07\\x95c8\\xba\\xa6\\xb0Z \\xe39b\\xb4B\\xdaw\\xc1\\xe3(\\x1c\\x10\\xe1\\xe9\\xb2j\\x8dM~_\\x10\\xb6', 170: b'\\xc9\\x01o\\x1a\\xf6\\xa3CO\\x0b\\xca\\x0e\\xd7\\xb1r\\x95\\xea\\xbc\\xe8\\rtE2\\xfcEI\\x051\\xee\\xdf8X7', 172: b'\\x8c\\x9a\\x8b\\xa5\\x02\\x1c\\xb9\\x17\\xc0eR\\xf2X\\x89A}E\\xfc\\xb1WCP\\x98\\xf6\\xc0\\xd3\\x9a\\x8d=\\xea\\xdc\\xf1', 175: b'\\x8b\\x88\\xa0\\x19\\xb2\\x80\\xaf\"1\\x91\\xda5\\x00\\xc9\\xa0&0\\xb9\\xdf\\xc5\\x92\\x82z#SY\\x96\\xf0\\x04\\xc7a0', 177: b'\"O\\xe5\\x1d\\x84\\x0c\\x1b 4\\xf0E1\\xd8\\xc8\\x89\\xa8\\xec_\\x0b\\xf5 \\xcf\\\\\\x16xK\\x02M\\x01\\xee\\x1b\\x98', 179: b'\\x88>)O%g!$\\xe3\\x04\\xe6\\xfeC\\xcbhJ\\xa7&\\tY\\xb6\\xc5\\xe3\\xb2a\\x82DZ\\xca\\x86\\xf9 ', 180: b'\\xe6\\xe0\\xbf9;\\x96\\x92\\xdd\\x16@\\xca/T\\xe9?w\\xe5b\\t\\x10w8\\x89\\x1e\\x9a\\xc8\\xc8\\xfd)\\xa0_\\xff', 182: b\"{'n\\x8c:#\\x0c\\x85\\x92\\xfeT.\\xfc\\xdft\\xc51\\xe2\\xe8\\xee4[M\\xfdC\\xdd\\xf7\\xbe.\\xebO\\x01\", 184: b'\\xdbh-\\x93\\x9c\\x98\\xba\\x8f\\xb8\\x04\\x12\\x8f\\x9f\\x18\\x17\\xc7\\xebR\\xd6\\x13\\xbcJ#\\xc2\\t\\x89?c\\x9d\\x196\\xaf', 186: b'\\xe0\\xc8\\xae\\xca\\xb9\\xce]\\xeb\\xea\\xdd)\\x8f\\x8a\\x17H,\\x8d\\x8e\\x9d\\x1a\\xe15\\x9e\\x1f_3~\\xb3$\\x97U\\x92', 188: b'P!{\\x08\\xd7\\xfd\\xb7\\x80\\x92?\\x97\\xc5D)\\xbbw#\\x8bQ\\xbb\\xb7~\\xd0\\x19\\x92,b\\x92\\x85\\xa0K$', 191: b\"\\xd3\\xab,\\x04g\\xa0\\x10\\xf9\\xde'\\xd0\\xf1g\\xaa\\x9cfHuG*\\xab\\xfcD\\x8a:\\xd8A\\x84\\x8d\\x7f\\xce+\", 193: b'\\x81\\x07\\xf2\\xc5\\xc9\\xb6q\\x80\\x93\\xdfV\\xd2~g\\xe3\\xf2\\xb4)\\xa1\\x90\\x88\\x9dU\\xf01\\x07\\xdb\\x1d\\x9cd}\\xa8', 194: b'\\xf5\\x14\\xc5\\xd9\\xdc\\xfb\\x0c\\xfe#98\\x9e\\xd1\\xb0\\xcb\\x10\\x9c\\x11\\xf1\\x80I\\x92\\xea5\\x9d\\x7f\\xf0\\xbf\\x16\\x14\\xc4\\xaf', 196: b'\\xc9\\x13\\x932\\x0c\\xc3\\xbf\\nr\\x91$[\\x0c|\\x8de\\r\\xc3\\xd5\\xb5\\x13\\x0c\\x94\\x0b\\x91\\xfes~\\xdeHL\\xa6', 199: b'a\\xbc\\t\\xcc\\xa6SX\\\\\\xaeM\\xb8\\x12\\x19\\x08\\xcbI`eb|\\x7fKb\\x89#\\xfdW\\xfe\\xef\\xfd\\x9f\\x1f', 201: b'\\x0b2I\\xe5\\xe6>6P\\x8f\\xa8\\xc4\\x98\\x92\\xec\\xa4\\xbf\\xbb\\xbb\\xdb\\xeff\\xd1F!\\xde\\xf2\\x00\\xa6\\xea\\xbao ', 203: b'\\xae\\xc2\\x14\\xa5\\xedx\\xb2\\xfaPNs\\xa2\\xc7\\xf6\\x19\\x07\\\\bg\\xfc\\xeb\\xf8^\\xd2h\\xe9_\\xc6)\\xb3>z', 204: b\"\\xb9\\x0bx\\xa3\\xe0^\\xb8\\xb2V\\x8b\\xad+ \\xc5\\xd0'M]-n\\x0f;\\xbf1\\xcc\\xee\\x16%\\xec\\x83\\xc1\\xcf\", 207: b'\\xa5\\xb1o\\xf0 \\x1e\\xc8ku\\xfd\\xcfaD\\x12\\xd8Q\\xbc\\xd3E@N\\xf8\\x8b5\\xb0Z\\x87\\x82\\xd7\\x98iu', 209: b']Y\"a_V\\xe2\\x83\\t\\x1c7\\xcb\\xeet(u.t/XMb\\xf3\\x95\\x1a\\xffF\\xc2\\xf9O\\xf14', 210: b'\\xed\\xd0\\x0e\\xe7J\\xde\\xc8ZP\\xdfT\\xd6u\\xf8m\\x08\\xa0\\x83\\xfd.]\\x0b_\\x14\\xb4U\\xbd\\x95m0\\xfev', 212: b'\\x86\\x14\\x92\\xc7;\\x1a\\xa8\\xe1\\xa0\\x19#,s\\xe7$\\xbdHP\\xa9\\x9a\\xb9\\x9c\\x1c\\xbbz\\x90\\xbc\\x0bJ\\xee\\xf3\\xc6', 215: b'F\\xc5A\\x94\\xf2\\x1a\\xf5\\xfb&=\\x0f$|\\xd7so\\x08\\xfd\\x8d\\xcef\\x86\\xa2%\\xee\\xe7\\x9c\\x98\\x00\\xf8\\xb0\\x91', 216: b'c\\xf7\\xff \\xd2\\x83\\xaa\\xae\\xd8\\xa8\\xbaT\\xf7\\xd3\\x00\\x0fV\\xdc\\xc83\\xef<\\x8e[\\x0b\\x99\\x99|\\xdd\\x9a\\xbf\\xf5', 218: b'\\x9a\\x13\\xaaS\\xf7!\\tlm\\xa7\\x87\\xa9+\\t\\xe7sz\\xd3\\x16_\\xc1g\\xe4wu\\xc0\\xf0\\xb12\\xc0\\xebT', 220: b'\\xf9b/\\xc2h\\x14\\xee36z\\xf1\\xa2y\\xa9\\x1ef5B\\x90\\x01\\xdcb (\\x87\\xb6\\r\\xa7\\x19=\\xfdJ', 223: b'2\\xcc\\xd04\\xe38\\xae\\xba\\xf9\\xbd\\xe6\\xc2\\x0e\\xb9\\x98\\x16\\x0c\\r\\x82O\\x01\\xd1\\x9b\\x05#\\x1bo\\tZ\\xaf\\xea\\xb2', 225: b'\\xec\\x86\\x8dO3X\\xcc8\\xe2tI\\x94\\x19\\x96\\x1f\\x17\\x95\\xbc\\x10\\xa1\\xb7\\xbc\\xbb\\xc3\\xe9b\\x853\\x92\\x07b\\xc6', 226: b'R1a\\x9bM-\\xdf\\x1d\\xfeE\\n\\xbf\\xe5\\xad\\xd9\\x81\\xffuk\\xf2\\xc6(\\x00\\xfd\\xbb=\\x9dl9\\x1a\\x1d\\x14', 229: b'#$&\\xa7P\\x0c\\xcb|c\\x1f\\xc5\\xf7\\xa5\\xb9\\xa4_\\xcc\\xf5{\\xae> \\xf5]\\x8e\\xceL\\x9ai\\x9ewD', 231: b'\\xea\\xee>\\xc5\\x13\\xc1\\x80\\x948\\xe2Sw\\xea>\\xe3\\xf6^s\\x15\\xb7\\xf4\\x0b\\x9aK\\x9b\\x83\\xf0B\\xa0\\xb4\\xa2Z', 232: b'i\\xb1Fd\\xb8\\xb1\\xcd\\x9d\\xf8\\\\;W\\xa7\\xfd\\xc7\\xefK\\x93\\xd8\\xcf\\xf2\\xde\\xb91\\xe4\\xa2\\x05\\xd0\\xd6p p', 234: b'|\\xe6Jvl8\\xe7L \\xc6\\x1e\\xa4\\xd2\\x1e4\\xc6\\xd9\\xa6\\x862\\xf7\\xee\\x19\\x8bu(\\x83:)\\xe4\\xc7\\xb4', 237: b'\\x07\\xf5\\xee\\x1fs\\xee\\xbe\\x93\\xb7\\x08\\xa0\\x85\\xae\\xac3\\x83\\x18T\\xa9\\xfe\\xec\\xcf\\xefJ\\xebY*\\x0bu_\\x04D', 239: b'BP_\\x17:\\xd6\\x13b\\xf9\\x95\\x02Z\\x9c\\x107\\xa56\\x15R\\xf9k2\\xd3\\xa0=\\xf2eTXN=\\x91', 240: b'\\xeex:\\xaa\\xfc\\xba\\xba\\xb3.\\x93\\x18\\x8dXp\\x89\\xd0L\\xc5\\xb3\\x03\\xdb\\xda#k&\\xec\\xa5\\xec\\x8d\\x9f\\xfc\\xf7', 242: b'\\xce\\x01M0PG\\x01\\xa1*1ti\\x06\\xa4\\xbd\\x96\\x9dJ\\xea\\xdfm.\\x14\\x1a\\xc7\\xff\\x9e<\\x7f\\xed\\x93\\xb5', 244: b'K\"\\xf0\\x03\\x9e\\xe2\\xaa\\xa9@\\x1bR\\xd7\\xdfbf\\xfbZ\\x9a\\x1e\\xc2 k\\xa2n\\x97\\x01\\xc1\\x8c\\xed\\x83\\x01\\x11', 246: b'\\\\\\xbb\\x88~G\\\\^\\x8f\\xbb\\xc8\\x94TD_\\xa4\\x05\\xcb\\xc5n\\xdf\\x8a\\xdb\\x05u\\x0e\\x9d\\xc5K\\x1f\\xd9N\\x82', 248: b'rnQ\\xb7\\x99r\\x18\\xe0\\x8ff\\xbf\\xa8\\xa2\\xf84\\x1a{\\r\\xef\\xe8I\\xb5s\\x86\\xa8e\\xb1o\\xb79Z\\x1d', 251: b'\\x93\\xd2a=)/\\xc3\\xbc\\xbdtt\\x8d\\x06\\x12\\xf1y\\x02\\x0b?5\\xa1~7\\xf6p&j\\x9a\\xdf\\xc8\\x0b\\xae', 252: b'\\x01\\x99U\\x86\\x9d\\t\\xfa\\xec\\x1dr\\xf5+y\\x9f\\x0e=r}\\xa6\\x19{k#Z\\x1d\\xe7\\x8a\\xf2?s\\x83H', 254: b'T\\x9c\\xa3b)-\\xa8/\\xbab\\x9a\\xa3aN\\x86\\xe6.N\\xa9\\x1e\\xe9\\xd6\\xb3\\xec\\xea\\xc6\\x17Ni\\x17h\\xbe', 257: b'6\\xb2;[\\xdet\\xde\\xd3(A\\x7f\\xfa\\x10\\x16ch\\xa1)y\\x0eyg\\x19\\xfe\\xa5\\xbd\\xb0{%h\"\\x1d', 259: b'\\x00\\x8f\\xd9\\x82\\x9d\\x874U(\\x874\\x9b\\xab\\x15\\xa8t\\x8d*\\xa6\\xfdW\\x0fGY\\x19^_\\xd1\\xae\\xed\\xa1\\xd4', 261: b'\\x1c\\xfcn\\t\\xfeO\\xaa\\xd7\\xd4sk\\x8a7\\xe7k!\\x92Jv_\\x84P\\xce\\x01l\\xf7\\xab.k\\x9f\\xb1a', 262: b'FH\\xc5x\\x14\\x87cH\\x03i\\xfc\\xccJ\\xb2\\r\\xe0/\\x91\\x9e\\x9b\\x03\\xd4\\x9c\\xc6\\n\\xcc\\x8b\\xc5&\\xee\\xd5&', 265: b'k@\\xc5\\xc2\\xa1\\xcb\\xa9\\xb9;\\xc4;\\xdb+\\x16[\\x0f\\xad\\x93W\\xbd\\xa1\\xc6\\xfe\\x81\\xe7{r\\xc4~\\x7fu\\x1c', 266: b'\\xeb\\x02h\\x1d\\xa4\\xb8\\xef\\xb7\\x84\\xfe\\x0bXg\\x97$\\xc7\\xdakQ`[\\xa4\\x80\\x14\\xa0\\xa7\\xfa\\x96\\xb9\\x18\\x97T', 269: b'G;\\xdba\\xd7_l\\x1c\\xe64\\xea$L1\\xe0\\xf8\\xea\\x1bp\\xc5\\xd2[Q\\xbeE;S\\x8e\\x98\\x95.\\x05', 270: b'\\xec\\x01\\xfd\\xe8\\x06e\\xc0\\xfe\\x19\\xcd\\x86@\\xb2\\nW\\xc6\\xae\\x80r\\xac\\x16\\xcf\\xec\\x8b\\x92\\xa6\\xe2\\xdd\\xfc\\xd0\\xe6\\xed', 272: b'\\xf3]t:\\x92\\x99\\x91\\xcaE\\xe8\\xf0\\x1fc\\x7f\\x89\\xf3\\x97h\\x83\\x11\\xa5\\x02\\xe4\\xdc\\xbbG/\\x17\\xcf5X=', 274: b'\\x10 t\\x0csZ\\xb2\\xb1\\x7f\\x18\\x80W\\x901\\xc9d\\xcf\\x94\\x9b#$\\x1aO\\x87\\xf5o\\xfe\\x94\\xee\\xef]\\x04', 277: b'\\xbb\\x07\\xe6\\x08r\\xf2nTR5&\\x11\\xc7b_1\\x86\\xa0\\xbeK\\xaf\\xb9\\xd9J\\xbc\\xccp\\xbf\\x9c\\rBb', 279: b'\\x9dQ%`g\\xab{\\xa4\\x91t5x\\x10\\xad\\r\\xe2$.\\x8f\\xf2\\x11\\x08j\\xb0\\xf2F\\x85\\x9d7\\xfa\\xb9\\xc0', 280: b'\\xad\\xc9\\xde\\xb7\\xa8\\xeb\\x88\\x03<\\x00\\xf7\\x17\\x85\\x7f\\x8b>\\x19\\x07\\x1d\\x0b@\\xe4\\x07l_\\xabp\\xb9\\xd1\\x19.!', 283: b'\\x96\\xcdq\\x95\\x06\\x12\\xe2\\xe4\\x00\\x1a\\xadx7M\\xae\\xcd\\xa0KYq\\x11\\xad\\xad\\x94o\\x93M\\x83\\xaa\\x97\\xbf\\x08', 285: b'\\xab\\xe49\\x02\\x8e\\xed2\\x18\\xee\\xc8O\\xd8\\xd8!O\\xf4\\xa3\\xebo\\xe1\\xfaG9\\xfc\\x89\\xad\\xa6\\x04#\\xf8\\xd6>', 286: b'1\\xd8[E\\tC{\\x96}\\xfec\\xbc\\x95\\x80\\x94\\xe3\\t~\\xc9/G\\x85\\x9f\\xf1\\x92\\x00\\xb7g\\xc5D\\xa6>', 289: b'U\\x8f\\x901TcJ\\xe7\\xa8\\xac\\x0b\\x02\\xb6\\xca\\xac\\xa0\\xeb\\x84\\xb9S5~\\xb3\\xdaxeY\\xd0\\xe0\\xf4V/', 291: b'f\\xf6\\xc2\\x94\\xd4\\xcf\\x8a~\\x9b8{\\x86\\xda\\xb7?\\xc5\\x9a\\xc1\\xbb9\\x87\\x92}\\x05)\\xf2JTt\\xbf<\\xc5', 293: b'\\xaf\\xd7\\xffT\\x8e\\xa8\\x8dhI\\x1e\\x1b\\x17\\xa5~\\x80B26\\x14=\\x15\\x99\\x9bt\\xb7~B\\xd4\\xea/\\x1c\\xbd', 294: b'\\x8b\\xf8\\x9fPcH=\\xf6\\x8c]B\\xd6lZ5\\xef2:M-0,\\xa0,\\x02y\\xfc\\x13\\x99\\xa7\\xc2\\x81', 297: b'\\xd9t\\xf6@\\xa0\\x95\\xad\\xa1!\\xa4\\xd1\\x1c\\x81\\xc2\\x1c\\xdf\\x9eh \\xa1\\x0c\\x88\\xc8H\\xe7\\xe9E\\x0bq\\x87\\xc0r', 299: b\"\\x8b\\xfbs\\xed\\xcfk\\xe5j\\xb2\\x02\\x87^'v!\\xd2\\xee(\\x82\\xe4\\xa7\\xf0%\\x8c\\xb2\\x13 \\xa7zBT&\", 301: b\"\\x8eD\\x01|\\xc7\\x81.\\x84\\xb1\\xbc\\xca\\x11d\\xd57 K'L,\\xf2ji\\x98\\x98\\xd7\\xa5g\\x03\\xef\\xd2=\", 302: b'S\\xc1,\\xc5\\xe7S+[\\xec\\x12\\xd2y\\x17}\\xe1\\xa4@\\xf0\\x99\\xd1\\xb0!\\xa5E\\x0c^osd<\\xb9\\x03', 305: b'\\x07\\x0c\\rsa\\x9e\\x177\\xde\\x06\\xcb\\n3\\x19\\xfc\\xd2(\\x96*\\x87:\\x0f\\xddR\\xf7Q\\x1b\\xbfJ\\x94W\\r', 307: b'\\x7f\\xbe\\x11\\xb1\\xb1\\xde\\xc5lN\\x04\\xcf\\x84,\\x8dF;fS\\xd0w\\xc1Wx\\xa3Y\\x1a\\x18~%&\\xc3\\xad', 308: b'\\xb4\"/\\xa5\\xd1\\xa4\\x98\\xc0~xc\\xa53\\x19\\xbc\\x9e\\x199t~\\xc7\\xf8M\\x90r*\\xb5&7\\x0b:F', 310: b'\\xc0w\\xf6\\xc5\\xaa\\x1f\\xac\\xa8c\\nk\\xab\\xd6\\xc4\\x9c&\\x90\\xc6\\x98\\xa5\\x17PG*\\x10t\\xb0\\xc8\\xcf\\xfa\\xf1\\x08', 313: b\"\\x99\\xe7'\\xcb\\x04\\xe8\\xb8\\x19\\xce\\x17\\x1dH4\\x11\\xce\\x1fD\\xfe\\x83Y\\x8bl\\xcam\\xce\\x13\\xa8Y\\x852\\xc7\\x82\", 315: b'I<\\xf9Eg\\xa7\\xb6\\\\#^K_|\\xcf@\\xe3\\xba\\x10U\\xfek\\xdf<\\xc9\\x05\\xd8]~\\x82D\\xc4\\xbe', 317: b'\\xfeQo\\x16\\x01\\xa9f|M\\x97\\xaa\\xdf\\xd3\\xcd\\x026Y\\xdbq\\xf2\\xa8)*\\xdaL\\x9cFz\\x9f.\\x7f\\x92', 318: b'\\x18\\xeb\\xb8\\xa4\\x9d\\xd74\\x0c;\\xf8\\xf0^\\xf5\\x02\\x11\\xdf\\xf1%\\x7fo\\x88\\xe9Gn\\x98=uI\\xa4I\\x10\\xde', 320: b'g\\xf5\\xfa\\x84\\xc5\\x80\\xd4\\xed\\xd2\\x83:\\x05\\x86d\\xec\\xf9\\xb2\\x9ab\\x87\\xffr\\xd9\\x04\\x8eBM\\xec\\xa8czN', 323: b'\\x7f\\xf7\\x0ft\\xb2\\x87\\x8b\\xf6\\xd5@\\x9f\\xe9%\\xf1W\\xf0\\x1b\\t\\xbb\\xa9\\x04\\x8e,~\\xe0\\x81\\xf8%\\x0eh\\xeeA', 325: b'\\xe3\\xce?\\xf6\\x1e\\xfbm/\\x8e\\xf5\\x17U\\xb8\\xe3\\xb4}>K\\x84VV\"@\\xa9\\xef3%9y`\\xde\\x11', 327: b'\\xc2!\\xa6\\x1cf\\x0f%\\xc4\\xf8\\xd4\\xe7l(\\xfcI7\\x8f\\xe6zK\\xaedd\\xd0\\xa3\\xde3\\x7f L\\x08I', 329: b'in\\xdb\\x06\\xb9\\xec\\xf2R\\xcc\\x98W\\xbf\\x1f\\x93\\xfcW\\x9f\\xa6;\\xc0d*\\xae\\xd8`\\x03]Jc=\\x1c\\xa0', 330: b'\\xab*\\x9c\\x03\\xa7b\\xdf:\\xac\\xf1\\xaa\\x1a\\xfc\\xa2\\xce\\xbf\\xdd\\x8c\\xd2\\xd4\\x82\\xbc\\xc9\\xcb\\xee\\x1f)5\\x17{\\x0fE', 332: b'\\x86\\x16$\\xee\\xf7\\xa6o\\xbb\\xaa\\xe9 \\xc3_\\xaeN\\x83~fv\\x8a\\xb7\\xb4\\xf2zHt>\\xb1\\xebl\\x12\\x90', 334: b'5Z\\x95!\\xfd=\\x908E#\\xe7\\xec\\x84\\xd1L=Z\\xdf(\\xf6\\x05\\x96\\x12\\xbdmLa\\x8eG\\xff\\xa0\\x0e', 336: b'\\x8b\\xac3\\x824\\x9c$Qw\\x19\\x8f\\x84\\x92d\\xaf\\xdc5\\xb1$Q\\x93\\x8c\\x8a\\xaf5i1\\xea\\xe5\\ra\\xb2', 338: b'\\xce/\\xb2\\x88\\xba\\xe0#Z\\xa5\\xf3\\xe6\\xf8h\\x96\\xbbhp\\x0fa\\xa4\\xbb\\xa0H\\x12\\xc0\\xf1&\"\\x9bF\\xdc>', 341: b'\\xb6\\xea1\\xaa\\x81-\\xc4\\x97\\x13~\\xc9\\xa4\\x8cdB\\xdd\\x13\\xc6.luL\\x06:\\xf3\\xf5\\xd6\\xcd\\xfe}Jl', 342: b'\\xbe\\x05\\xdc\\xf2\\xf7\\xc5\\x84.g\\xfb\\x0b)v\\xf3b\\xf8!\\x97\\x12\\x91\\x00\\xa1\\xe3/P\\x17.\\r\\x9d\\x13\\x13\\xd8', 344: b\"'M\\xa7\\x9b\\xd9\\x8e\\xca\\xefRVOU\\xc6\\xb9:\\x871\\xa7(\\x92\\xf1\\x1e\\x9cxrB\\xefz\\x1080\\xf9\", 346: b'\\x93\\xbe\\x10\\xc9\\xa4\\xab\\x00\\xae\\xdbG9\\n\\x87\\x07s7\"\\x99\\'\\xad\\x1f}?\\x11\\t\\xeeOL\\xb2\\x9a\\xado', 348: b'fO\\xac\\xe7\\xd0\\xf8\\x13\\x1cM\\xe7\\x17Y\\xe3@]F\\xae\\xe7\\xdd\\x87\\x81\\xd1\\xaf\\xdf\\x0c%\\xc3\\x8e\\x1c\\x1c^\\xce', 351: b'\\xe6\\xc4(\\x0f\\x8b\\xa6\\x93\\xbb<\\xcbk\\xa1$\\x8b;\"\\x1d.\\x8a[\\xe1\\xbe\\x079\\x9a\\xa2\\xda\\x1c7/\\xc3\\xcf', 353: b'\\x97_\\xa60W\\x9d\\xe2\\x87\\x9dC\\x80\"GT\\xaa#\\xba\\xb6\\xecM\\xbfh\\xd6hR~\\xbe\\xa7\\x82\\xfd]\\xfd', 354: b'*W6\\x87\\xf10;\\x9e\\xf5\\xfc\\xd7`(\\x89I9}\\xda\\x8bq,2\\xab\\x9aK\\x9d6WB\\x9e\\x10\\x19', 356: b'\\xea\\x02u\\x93\\xd8\\xd5\\xe8\\xa1\\xdc\\xb2%0I=p\\xf23f0t\\x83p\\xcap\\x12\\xef2d\\x13\"\\xe8\\x17', 359: b'\\rn\\x08\\xd4\\xcc\\x93q\\xada/\\x7f\\x9a\"\\x83\\x83B\\x1a\\xac\\xcdh\\xd9\\x0c\\x08*::\\xd3\\x05\\xbf\"b\\xf6', 360: b\"T'\\xe5\\x00\\x82aY\\xc9-t\\xbb\\x8f\\xb9J\\xe67+\\xd8\\xe0D\\xb1q\\x06_t\\x99ME\\x1eh\\xde\\xba\", 362: b'fh\\x7f\\x16i\\xaa\\xbe\\xc8\\xd7c\\x10Y\\xba@FHs|\\xfd\\x95\\xe4^j\\xac\\xcb\\xb8/R\\x98\\xb4ys', 365: b'\\xb7\\xc0yy\\x1d\\x05\\x85v4Wc\\xc6\\x94G\\xc9[\\xcdK\\x91*\\xeb\\xea\\xcc\\xab\\x8dF\\xc9E\\xa7\\xe2~\\xfc', 366: b'ah8\\xa8\\xa6\\x91\\x96M\\xb97t\\xed\\xf1waX\\xc7Er\\xf8S0\\xf6\\x1c\\xaa\\x95\\xa5\\x01B1\\xa0\\xe0', 368: b'K1\\xcd\\x9e\\x01%\\xb8\\xaf-[\\xf3\\xfc\\x8d\\x8c\\xef!\\xe2/S\\x92\\xbc\\x1f\\xa7Y\\xbe\\xef\\x12\\r\\x0b?\\xdaD', 370: b'\\xe6\\x90\\xdd:\\x88ga\\x89\\xb7D\\xcb}\\xe0n\\x1a\\x19\\x10\\x01fo\\x0b\\xd7j\\xbb\\xba\\xf0\\xe1\\xdb|_\\x85\\x10', 373: b'\\x96\\xdeY]\\x04\\xd3\\x8av\\xc7\\n\\xef\\xb2\\xb6\\xbc\\xff`\\xac\\xa7\\xa4\\x83\\xbfX\\xd1\\xb6\\xad\\xb0\\xe5\\xc11\\x922\\xc0', 375: b\"\\xf5E?mMg\\x9d'\\xfd\\x10\\xbe\\x1f?\\x8a\\xeb\\x95\\x90\\x06(S\\xb1J\\xa6\\x15\\x13\\x13\\x7f\\x98\\xfc\\xd5\\x10\\xf4\", 376: b\"\\xce<^\\x8f-\\xa8\\x8d\\xc5w\\xc8\\xcd'\\x0f\\xac\\xcc\\x94\\x14\\x8a\\xe5\\x1b\\xdd\\x7f\\xe7\\x88\\xd6\\x85\\x80Ml\\x9bp\\xd5\", 379: b\"\\\\\\xaf\\x81\\xb9+\\x02\\x9d\\n\\xc2+\\xcdE\\xdb5\\xfe8\\xa3\\x8f\\xdc9'\\xd5\\x9f\\x0c\\x00\\xf1\\x84)\\xbc\\x1aD\\xce\", 380: b\"\\x9f\\xfcI\\\\\\x151\\x9b\\xb8\\x98D_\\x89|OB'\\x8bB\\xfd\\x94\\xc4\\xad2\\xe8k\\xaek`v\\x8de\\x7f\", 382: b'\\x01 9\\xe6\\xdb\\x1c_\\x80\\x0c%z\\xa1\\xd7Q9F}-\\x1dO\\xf3\\xa2\\xf4m\"\\xe9\\x8c\\xb0\\xf3\\x9a\\xb9A', 385: b\"\\xda\\x06R\\xd1\\xf1\\x81\\x1c^\\x96\\xed\\x8e\\xd9!p\\x05\\x89\\xe0\\xc6\\x99\\x02m\\x80'L\\x04e/\\xe1\\xed)\\xaf\\x1c\", 386: b'\\x05JP\\xc7W\\x9f37q\\x8a\\x9b\\x85\\x03\\x1f\\xf1\\x18I\\x9c\\xc30X&\\xe5\\xf1\\xa8\\xab\\xd1\\xfb\\xdcVY?', 388: b'dbV\\xc4\\x89`\\x88C\\xe3\\xe9\\xff\\t\\xb0,\\x08G\\xfd\\xe93p\\xee\\xc0\\x1fvZ\\xab\\xfc2\\x8b\\r\\nX', 391: b'\\x14.\\xc6M\\xb5\\xd9\\xdd\\x00\\x8b\\xda\\xf9\\n\\x0e\\x05\\xeb|#p\\x0ej\\xd1\\x8e\\xfe*|\\xaa\\xd1c\\xbdB;\\x0e', 392: b'\\x83\\x82aeK c\\xcf\\xfd\\xd2\\xbf\\xaf\\xe9\\xd8D$y\\x1c\\x8d\\x93*\\xd3\\x91\\xaa\\xf1\\x1a)\\xa1\\x83vH\\xaf', 395: b'\\xd4q\\xd4<\\x993\\x91\\x81S\\xa0\\x0e\\x06-c9\\x05\\xf2\\xa05\\x08w\\xfc\\xb0\\x82a\\x98\\x8f\\x836~\\xd0x', 396: b']\\xaa\\x1b\\xbe\\x02\\x1b7g\\xc6\\x01=\\xb4\\x1eTr\\xadp\\xd7L\\xc7\\xa5y\\x11#\\x0c\\xa0c\\xabO\\x97\\xef\\xeb', 399: b\"\\x0bb=Y\\x88\\x1f8\\xc9\\xee\\xbf\\xd0\\x18\\x8f\\xa9\\x82'\\x19\\x05\\x8c\\xf8\\xfds6#b\\xac\\x8e\\\\\\xbfY\\xee#\", 400: b'JGJI\\xbb\\xf2\\x04\\xb1U\\xa8u\\xa3d@s\\xaa\\x97p\\xd0\\x93\"j1\\x9bD\\xc1\\x89\\x8a\\x9d\\n\\x86\\x0b', 403: b'\\xef\\xbb\\x96\\x02\\x15\\x7f\\xed\\x0c\\xa4\\x87\\n4W\\xec\\xa1.\\xa5\\x8a\\x86\\xa9M\\x9d\\xeev\\xe3\\x10\\xc5\\x01b\\xd6\\x9f\\xb1', 404: b\"C&k\\x9c\\xf0\\x1d\\xb3z(\\xa6\\x88\\x0b\\xa3\\x1d<\\x01#\\x17\\x1c\\x19'\\x9b\\x90\\xd0h_\\x90)H?\\xa1\\x82\", 406: b'\\x05\\rr\\xaf>\\x0f%,\\xdfZ\\xa6\\xe9\\x81\\x88\\t\\r\\xf5\\xfaMw\\xbf\\xe3?\\x13\\n\\xe1F%\\xe9\\xe1\\x95\\xdb', 409: b'\\xe9C\\xa7\\xe8\\x02?e\\x87maa&M\\x01\\x1c\\xac\\xa8\\xcc\\x8f\\x12\\xd5T\\xb3\\xf7\\x94\\xc2\\x18\\xc7\\xa9/\\xd7{', 411: b'f\\xdb\\xba\\xb8\\xa5 \\xc5:\\xac\\xbaq\\x0c\\xa0\\x8a\\xc9ul\\x13\\xda\\xaf\\xa6\\x0e\\xaf\\x89\\x99\\x98\\tW\\x01\\x99\\xdc]', 412: b'J\\x7f\\xb6\\x13\\x1d\\x94^\\x1a\\x01\\xae$\\xf0\\xca\\x9f\\xa8\\x16\\x93I\\x9d\\xcb\\x8c\\xbd~&k\\x97\\xed\\xd6\\r\\xcc\\xca?', 414: b'\\xb5%\"Sc.\\xf3\\xb3\\xe6S<\\x1e\\xac`\\xed\\x03\\x99]N%E\\x17\\x1e\\xc7\\xc1*\\x01B/\\xe0v\\xa6', 416: b'\\x8d\\xb1\\x7fV\\xbd\\xb2D\\x97\\xe7\\x95\\x1dt\\x19\\x94=\\\\\\xc2)\\xe0\\xa6|\\x12t\\xb3\\x05\\xe7@\\xec\\xb4\\xf7\\x96~', 418: b'`\\x92\\x84\\x8b\\xcfY\\xa3>\\x15\\x96\\xe6\\x8c\\xd1\\xff\\xf9j.\\xb9\\x857j\\x11Q\\x02\\xabp\\xab\\xc1<\\x01z\\x92', 420: b'50\\xae\\xfc\\xa3\\x91\\x05\\x03\\xe72\\xd2\\x87`\\xbd\\xb1\\xae\\xa3\\xb5\\r!-=\\x99\\x84\\xc3\\x84\\xe07c\\xde\\x03\\xbe', 423: b'\\xb3\\x13\\x03V\\x1b\\t\\x80W\\xfa\\xbf\\xfbl\\x1f<\\xf8\"\\x85iHfu\\x88\\xc1*t\\xc0\\xdd#\\xde\\n\\xbe ', 424: b'-\\x9e\\xbf\\xc9\\x89\\xe0\\x1a\\xa4\\x8b\\x9dS\\xacc\\x9dE\\xe1\\x06~V\\x89\\xad\\xdbct\\xaea.c\\xb9\\x81!\\x91', 426: b\"\\xc5\\x9aV\\xf6.\\xd0Z\\x82\\x11\\xc6w\\xa5y\\xf4'\\x8f\\x06\\xa4\\x16\\x1d\\xd0I\\x0f0\\xc2\\rs\\x9bP\\xec\\x9e\\x8c\", 428: b'\\xd8\\xc4\\xc98\\xe2Rud\\xf0\\xfb\\x9cn\\xdf\\x14\\n\\xa0\\xf1\\xa6^*Q\\x03\\xafi\\xe7_)c\\x18\\xe2_1', 431: b'\\x9ej\\xb7\\x8a\\x8b \\xb7*\\x07H\\x8c\\x95\\xda\\xfcV\\x96\\xdb\\xef\\xe5\\xa4\\t\\xc8#\\xc0\\x80\\x07K\\xc2\\xc3\\xb8\\xba(', 432: b'ncG\\xae\\xe6F\\x1e\\x0b<\\xe5taU\\x071\\x0c\\tT\\xda\\x0c(bWmzh\\xee4\\x94\\xddY\\x9b', 435: b'gW\\xa8E\\xc4\\xc16\\xcbl\\xf0\\xb4\\x1a`A\\xea\\xf5\\x12\\xa4LM\\xbbm\\xbc\\x1c\\x07\\x8e\\xf5\\xc9\\x1c\\xbah\\xaf', 436: b'@\\xc4%\\xa0\\xd0NW9v\\xe7\\xaa\\xca\\xa1\\xda\\x97q\\x90\\x01&\\xc6e3\\xd9\\x1eK\\x7f\\x91T\\xe3\\xdb\\xc2@', 439: b'j\\x08\\xc4\\xe4\\xbf%\\x96\\xa4\\xb7Jg\\xcav\\xe9\\x7f9<\\x9bLne\"AL%\\x06 \\xfeUS\\x824', 440: b'8~\\xc1\\x01\\xdaxe\\xf0^g\\xc5:\\xca7\\xea\\xab4\\x06a\\xf4\\xbfP\\xc8\\xfe\\xbf\\xfbE\\xf5i\\t\\xf1\\xe1', 442: b'R^\\x1e\\xa8 \\xda\\xd0\\xb4N\\x14\\x8c2\\x0f\\xf1\\x13\\xf4\\xe1.\\xc1v\\x92_\\xec>\\xd0l\\xb5f\\x18\\x80~\\xb1', 444: b'&{\\x0b\\x97\\xfe \\x10M\\x1do25M0\\xb6\\rb\\x16\\x8a\\x0b\\xa6\\xb5\\xd8\\xce\\xe0\\xf0E;\\xfd\\xd0\\x1ay', 446: b'\\x18B\\x88\\xb98P\\xf3$\\x82\\xedj\\x04W\\xa7x\\n\\xf3\\xc2`i\\xaaa\\x7f>\\x1c\\x15\\x88\\xd4/\\xa4\\xf7D', 449: b'\\x96\\x92C\\xa2\\r\\xa0\\xb5\\xc7\\x7f4\\x9a\\xb9\\x8b\\xb6\\x1e\\xdc\\xe3\\xa4mg\"F\\xa4\\xf0\\xefM5\\x06d\\xefI\\x81', 450: b'\\xf6\\x8d}\\xa4\\xff\\xfa\\x8a\\xe0\\xe2\\xdc[X\\xf9\\xb6=D\\x0e\\x02#\\x1b\\xc6V\\xa4\\xb4PJ\\xbf]\\xb5\\xbe\\xc3/', 453: b'\\xa3\\x10\\xd0SVr\\xf5\\x1f\\xb56E\\xd7/\\xc3\\x07f\\xb1\\xce\\xd2\\xad\\x18Q\\xa8\\t\\x98&L\\x10\\xcc\\re\\xc8', 454: b\"\\xda\\xed\\xd8=\\xfedsj_R\\xf4\\xcc\\x0f\\xf2\\xcb;\\x16\\x1b\\xc2{\\xbc_\\xe4f\\x15\\xe7'g\\xa9\\x83\\xf2\\xaa\", 457: b'\\x86\\x1d_]Ib8\\x1dE\\xed0\\xb3q\\xf8q\\x8b\\xd1r\\xa8*<\\xb8\\xb5SC\\x88\\xd5\\x9f8\\x11`\\xbc', 458: b'\\xd2\\x10\\x985\\xd3^g\\xdd\\xb5\\xfd\\xc9\\xcb4\\x89v\\xec\\xa2e\\x07P\\x93\\xb4\\xf1\\xb0uY\\xc61\\xb3]\\xa1\\xe8', 460: b'\\xb3*\"7\\xdc\\x8dx\\x1a,\\x96\\x057\\xe3\\x80\\x0cL\\xfdX\\xe0\\x87\\x1bS\\x04\\xeb\\xe6Y{\\xe7\\xef\\xd6\\x0c\\x9b', 462: b'\\xbf\\x95\\xc4\\xd4Q<\\x9e\\xe0aT\\xaf\\xaf\\x18IX!\\xce\\x89<Y#\\x1b{\\x11Tc\\xc0\\xc3\\x9f\\x05\\x9a\\xe7', 464: b'u\\xeb^yJK\\xcd\\xf0\\xe6\\xb8, \\xd4c\\x0byaB+\\xe3\\x7f\\xc33\\x8du\\xb0\\x818\\x82!\\xed\\xd6', 466: b'}I+E \\x95\\xec\\xcff\\xff\\xb7*\\xf7\\xa9P\\xba\\xd2 \\x8d\\xf6S&W\\xe8\\x06\\xc9\\x14A\\xbd\\xa5,4', 469: b'\\xc6ZG<\\r\\rri1\\xdc\\xb9\\x9fU\\x92\\r\\xc14$\\x1aM\\xb8\\xa3\\xaf\\xf8>&\\xad\\xdd\\xfe\\x1f\\x94\\xf3', 471: b'\\xa7\\x87y\\xfbI\\xdeA\\xa2\\xfa\\x91D\\x8c\\x80\\xa0\\x9bd\\xc5xfu\\xc8hW/\\xa8%\\xda\\x8b\\t)\\x17\\xf5', 473: b'q%\\x87\\xc7\\x85:\\xf2\\xac\\x19\\xc8\\xc6K\\xf6sQ\\x13#\\xf9\\xc6\\xaf\\x9flB\\xec,\\x14\\x808\\xb9\\xf9\\xdc\\x9f', 475: b'\\xc8a\\xac\\xf7\\x91\\xc7\\r\\xbd\\xd6\\xbb\\xa4\\xb2\\x1ea\\xbcG\\x9c\\x88\\x1c\\xf1\\xd0\\x91\\xb0=\\x1d;\\xec\\x96C\\xbf[\\x82', 477: b'9\\xa2\\x0b\\xf5\\xacg\\xed\\xba\\x9d\\xdb+\\x0e;9\\xfd\\xf4\\x0e\\xd7\\xd3!j\\xc3\\x1b \\xd2\\nD\\xf0v\\x82s=', 479: b'\\x8f\\xf0\\xbbU\\xf3\\xd2\\x89P\\x9c\\xe3\\xcb=\\xa75B\\x9f\\x91M\\xd2\\xc25Y\\x8f\\x89\\xa6\\xca\\x1e\\xe7\\xb3\\xf1r;', 480: b'Q\\xcfW\\x13\\x95=q\\xa23\\xd6\\xd3\\xf2\\xe6\\xc1\\xc2\\x08/\\xdbv)\\xc4D\\xfdj\\xde<\\xe5\\xfb\\x8aI\\x89Z', 482: b'\\xcc\\xea\\xdc\\xff\\xd5G\\x02<\\xd5]\\x11\\x8f\\x0ehH0\\x89\\xa4>\\xb3\\xf5\\x9b\\xc7S\\x15\\x8e\\x92\\x95\\xb3\\xb33\\xfc', 484: b'\\xdd\\xe9\\x8c\\xf9\\x97(A)\\x0e\\xbdk\\xd5\\xd7\\x7fgo\\x81\\xbe\\x9a\\x03\\xfc&\\x19\\x92\\x02O^zy\\x1a\\x18x', 486: b'\\x16\\xb5_@C\\x95A\\r\\xb8\\xb7\\x85\\xf2\\xeal\\xf3\\xb8\\x00\\x83\\x11\\x12\\x9f\\xd0\\x03\\xc5[\\x05\\xe4\\xcad\\xca\\xa0>', 489: b'\\xe9*\\x1e\\xda\\x1d\\xcb\\x13bH\\xc6\\xa7\\xdf_\\x1b\\xe8Y.\\xcf\\x9a\\xad\\xd2\\n%O\\xeb\\x16\\xcdb\\xc1\\xa2Z\\x9f', 491: b'\\xf4\\xed\\xaeO\\x1c\\x1b>\\xc8\\x03}\\x98;N\\xb4|\\xbe\\xa0\\x06\\xb4\\xae_\\xb9K2\\x90\\xa7\\xd8\\xb0\\x19\\xb6\\x9d\\x95', 493: b\")\\xd1\\xf6\\xa8\\x92&\\xa7\\x17\\x92\\xd0\\xd5\\xfe.\\x9e\\xd3\\xd8\\x95\\x1c_\\x86\\x93'\\x8aB\\xd9:\\xecv\\x9c8\\xech\", 494: b'ZrI\\x9d4[SW\\x95\\x00j\\x13\\xe8\\xb6zK\\x04d>\\x90\\x00\\x1e\\xb8\\xe3q\\xb3n4\\xb3\\x00\\xb5\\xd7', 497: b'=g\\xc4\\x93\\xf6\\xbbrI(\\x9c\\xae&\\xf2\\x83\\x96\\xb3\\xc9\\xa5\\xf7\\xfd\\x9a\\x88\\x17\\xf0^\\xec?\\xa2#\\xc7\\xcc\\xf8', 499: b\"\\xe6\\x94\\xcc](VJ\\xfe'\\x0cn.\\xa4\\x9bW\\xe3\\x1c\\xc0(\\xeb\\x80\\xf0\\xeb\\x03\\x0bZ\\\\\\xb23R\\xda\\xa5\", 501: b'\\x12u\\x17\\xa4\\x0en\\x1e\\x88\\xd9\\xc3\\x0f\\xab`s<\\xa1\\xb4\\xb1\\xbc\\xe1x\\x81\\xf1\\xac9s\\x13\\xdbS\\xe9\\xbf\\x9c', 503: b'\\xdcI\\xa8\\xbbK\\x8a\\xe5\\xa9h\\x95{\\xbc\\t\\x07o/\\xad\\xe2(R\\xfa\\xcb\\x11\\n\\xcb\\xbe?\\xecw\\x07\\xe9{', 504: b\"\\x7fM\\x1c_\\xe5\\xf29|\\x93K\\xa5\\xd1\\xd3\\x1ao\\x8dh\\xb0 \\xccV'\\x04\\xd6@i\\xbb\\x9a&\\xe3\\x87&\", 506: b'm\\xca\\xd9v\\x8e\\xac\\xd2<+\\x1fL\\xba\\n\\x83`j\\x9b\\xd7Tg\\x1f:r\\x02\\xf6\\xb9G\\x99\\x1e\\xea\\x15P', 509: b'\\xc3\\xc6\\xc4\\\\\\rN\\xf4\\xd8%\\xd1\\x03\\x1aH-\\x1cw\\x0c\\xfc\\xae\\xba\\xf6#2\\xd7=}j8\\xb5R\\xcf\\x84', 510: b'\\xbd\\xb6\\xfd\\xed\\x00\\xd1\\x97@d\\xe9nz\\xd5\\xea\\xc0\\xe1\\xc1\\xf8\\x16\\x898\\xc9\\xf9/\\xcb\\xf0\\xe2\\xc3\\xce\\xedP\\x80', 3: b'#+_$)\\xd0V_mL\\xf6L\\xc3\\x04d\\x17\\x01\\x19&s.\\x1eV\\x82\\x98\\x80\\x94\\xcf\\xdb\\xa5\\xbb\\xfe', 4: b'\\x80\\xb2*\\xf8\\xfd\\xd2\\x16&!ju\\xc8\\x04%d%\\xbe\\xf4%x\\xeb\\x06\\xb3iO\\xa9\\xdd:97\\x17O', 9: b',Z\\xa5h\\xa7\\xad\\xf6V\\xc7\\x11\\xbei\\xbe\\xb1w\\xcb\\x0b\\xc6\\x08\\xe3\\xe7\\xcb\\x07-\\x07\\xbb\\x8a\\xb8\\x1bq\\xe6g', 10: b'\\xf1\\xfb9\\x801P\\x1d\\\\\\xf15V\\xce\\xbeT\\x1b\\xa9+wj\\xd9\\x87\\x10\\x91\\xa0\\xe5\\xe9\\xc1\\xe5\\x0e\\xcc\\xc8*', 13: b'\\xf4\\x88!\\xa3\\xf3\\xe1\\xba\\x94\\xbf8{\\x92\\x8d\\xfe\\xa5\\xfax\\x91_\\xe9\\x9e\\x80\\xaat\\xc3\\xa6\\xb9G\\xf00\\x15\\xac', 14: b'A\\xc8\\xf4\\x14\\xe1\\x88D\\x94\\x1eSW\\x114*\\x9f$\\x92>\\xed\\x8d$\\xc7\\x97\\x04w\\x17\\xf1\\x19h\\xda\\xf3\\xbf', 23: b'$V\\x90Ak\\xbd\\xeaMzd\\xfe\\x81\\x04>@\\xb2\\xa9\\xda\\xae\\x95\\t\\xb1.\\x83@\\x87N\\x1b\\x0bH\\x8c\\xa2', 25: b' +\\xd1\\xaa_T\\xbf_\\xac\\x8apA7\\xc1\\x18\\x8fgy\\x98\\xe1\\x89\\xbe\\x93\\x86?%\\n\\xda+g\\x14p', 27: b'\\xb0(\\xbc\\xaa\\xe8\\xe5\\x1d\\x95\\x1bs\\xe9/t\\xc3K\\x05\\x13\\xb3\\xa7S\\x06z\\xdd\\x8a\\xd6l\\x8f/\\xf8D1?', 28: b'!\\x99\\xeed\\x1b0\\xbc\\xcb\\x83[\\xe7\\xed9\\xab\\xd0\\xc4\\x1b\\xf51\\xbb!\\x92\\xf6?b\\xd9\\xfc\\x83\\x9d\\xbb\\xe2\\x99', 35: b'yN\\x0bag\\xfb\\xe4A\\xd5\\xc8\\x02\\x0c\\xb0\\x0f\\xe4>CT\\x188\\x87\\x94\\xa2\\xf6\\x1d\\x1d\\x91\\xf9\\xe1\\x97\\xbe}', 38: b'\\xd3\\xca)L>\\xd1\\x13.\\xe3 \\xd0!\\x10\\xb5P\\x83\\xe3\\xe0\\xe0L\\x1f)\\xcbj\\xa1\\xac\\x10\\x84\\xd5:r\\xdf', 44: b\"\\xb6'\\x81\\xf8\\xaa&\\x06\\x90/A\\x84\\xc1x\\xfa\\xacB\\x95\\x84\\xb6\\xe0\\x1a\\x8c\\xee\\xed+\\xb2\\xc1\\x18\\xd17jF\", 50: b'\\xd4\\xd5\\x01\\xda&\\xd4a\\xc5\\x9b\\xb3 \\xe7\\xee\\x13L\\x85,\\x16J\\xc0<\\xd7~3\\xc5\\x8b\\x00]HA\\xbd\\x85', 52: b'\\xa3x\\x115\\x0b\\xeef\\xf9zR\\xcb\\xb4\\xa1Q\\xc5.\\xcc \\xe63(}VP%6\\x0b\\xd6\\tA\\x85W', 59: b'\\x99\\xc0s.\\x9c\\xb4\\xa3a\\x15HS\\xfe|\\xdc\\xfd3e]\\x80O\\xc1\\x06\\xed\\xb1m\\xe5\\xd8\\xdb\\xfd\\x87\\x9e\\xa2', 60: b'4\\x19\\xb4\\x15C\\x0f\\x03\\x0b\\xc5\\xe6\\xe25\\xe32\\x86#\\x8c\\xe2\\x9f\\xd7\\xe4[*\\xa3\\x91\\xeb\\xd8#-\\xc0t\\x14', 65: b'}9#uH\\xc9\\xd3sO\\x94\\x94\\xe1\\xe3\\x96\\x81cj\\xcfn\\x13\\x18P\\x0b\\n&\\x9d\\xde\\xb3<Y.F', 66: b'\\x8b\\xb9\\xf5k\\x04\\xc0\\xb2}$\\xee\\x85\\xedX\\x95\\xce\\xa2\\xeb\\xef\\xb1L\\x1f\\xc0\\xf8X#\\xca\\xf8{\\xa4\\xb5b;', 70: b'\\xbco\\xd2\\xfe\\xce4\\x88~\\xff\\x9et\\xd5\\xad\\xe0P\\xce\\xb9\\xc5\\xdc\\xf1\\xea?UXT\\x1e \\xfal\\x9c\\xf4\\x13', 74: b']\\xcd\\n\\xc7\\xdd\\x18\\xd5f\\x18\\xbf\\xb0\\xfe\\xa1yJ\\x93\\xf4[qW,\\xa9z\\xd4\\xcc\\x88\\xb3\\xba!\\xb5C\\xe8', 77: b'\\x80\\xaf\\x80\\x9d\\xee\\x89L\\x1d\\xdf\\x0e\\xf88\\x8e\\x9a\\x1b\\xe8\\xf6K\\x14RI$\\xf4\\xa9\\x9a(\\xa8\\xe6\\x12e&T', 81: b'\\xdb\\xa3]\\x9a\\x1e\\x8a?Q3\\x16\\xd5r\\xea?F\\xadROdyz\\xca\\x05F\\x13h\\xa5.\\xdd b;', 85: b'q\\xbf@\\xd3\\x1a\\x8b\\xe2sLg%l\\x1br;\\xae\\xec\\x1fl;1\\xad\\x8djp\\xa4v\\xfe\\xa6,\\xafB', 88: b'p\\x84\\xf5%\\xc3\\xebQ]\\xd5\\x11\\x9c`\\x1fR\\xe2\\x14N\\xd7\\xae`z\\xe3\\x84j\\xe9\\xad\\xd7\\x9a-{\\xd62', 93: b' \\x82\\xd7{\\xbd\\x81\\xa5\\xa1\\x97TV\\xeb\\xde\\xfej\\x0f\\xd1\\xaaq\\xb7\\xb6n\\xf7\\xbd\\xbb\\xebCc\\xb1\\r{\\x8f', 95: b'@\\xc7v\\xeb\\xe2\\x1aO\\xcd\\x8c\\x06\\x8e\\xfe\\xc1E8\\xb3e\\xe7\\xb0\\xa5\\xdb`\\xf3\\xe7|\\x80\\xf8\\xbet\\xb69\\x9b', 100: b'\\x86)\\xe3\\xd2\\xbd\\xe4\\\\Q\\xec\"\\x11\\xbf\\xf4#`\\x97y)es\\xd2?\\x987\\x1c\\x10}\\x12\\x87L\\x03 ', 105: b'\\xd0\\x96\\x1d\\xcd\\xff\\x1c\\xd3\\xf1|\\x9e:/\\xbb\\xa0\\xa6\\x8c0\\x13\\xac\\x9a\\xf8\\x1aS\\x89\\xabt\\x80\\xda\\x1a4\\xd4\\x8c', 111: b\"-\\x1fZ\\\\\\x83\\xcf`\\xd8\\xfc\\xadf\\xcf29\\x12:\\x93\\x88\\xa7)\\xf3\\x8a\\xc1\\xa9'\\xa3%\\xaedZ\\x13\\xe0\", 117: b'pu/\\xc0\\xc9o\\x12$\\xc4\\x02]\\x99\\x97\\x89\\xb4\\x9d\\xe77\\xa5\\xee\\xf5\\xe8\\x0b#\\xcf\\xda\\xda\\xbdr\\x83_\\xf9', 126: b'\\x06\\xa6@\\xfda?\\xb9\\x1b4vky\\xbd\\xb2\\xce\\x86\\xe8i\\x0e\\xfe\\xb3\\xb1D\\x1f\\xf4\\x1f.\"\\x07\\r\\x8c\\x98', 130: b'\\x10\\xe8\\xa6\\x90-\\xe3\\xe9\\xd3\\\\!\\x08-\\xd9\\x1d\\xb4#\\xe7/\\xc1TO\\xa1\\x84\\xd5\\xcdg\\x8d\\xa1f0\\xea\\x7f', 133: b\"Y\\xc9`\\xf4\\xc7EN\\x08\\xa9\\xabl\\xb7\\x8f\\x96'\\xba\\xb4\\xcc\\x12\\xbch\\x03B\\xbd&8\\xca\\x1a+,\\x10\\xc4\", 135: b'\\xb0\\xb2\\x19X0\\xbd\\xf9\\x1aDf)`r\\x89}7\\x8eo\\xb4\\xafT\\xf7\\x99y\\x1b\\xf7\\xdf\\xf5ls\\xdaO', 136: b'O1\\xfd\\xf7\\xe2\\x0e\"M\\xef\\x8d)\\xd8\\xe5-\\xedh\\xe4\\x07[\\xfe\\x04\\xbfZn\\x92\\xb8\\xbc\\x8e\\xb6\\xbcdB', 138: b'\\x0fsm\\x81D\\x96\\x12e\\x01\\xad?\\xe9H9U\\xb2.5\\xfa\\x8a\\xb3-l\\x8a|\\xda8\\xdb\\xc9^\\xd0\\x9d', 149: b'\\xd9\\xbd\\xaa\\xe3\\xa3y\\x05\\xf9%\\x92\\xbf\\xe2\\x85\\x12g\\x0f\\x82\\n\\x13\\xe0a\\xbfQomP\\xf4\\x8a\\x8c\\xa7\\x84\\xa5', 161: b'_8\\x885\\x1a,\\xaf\\xd3\\x14 .\\x12l\\xe2r\\x17\\x8f\\xb2:\\xa19\\x8fu;\\xc3\\xb5\\x06tqt\\x04u', 164: b'\\x86V\\x14\\xd4 h\\x92\\x010\\xf5.q\\x1c\\x99\\xefl\\xb8\\x13\\x10wX\\x9bw\\xb4\\x80\\x1d\\xac\\xfe\\xe3^\\x92+', 169: b'$\\xe0P AC\\xcf\\xd6\\xb8\\xf8\\xb6\\x1bG\\xbe?x\\xd2x+\\xea\\xa1\\xd2\\xf2\\xa1\\x9f\\xa6\\x8e\"\\x01L\\xbb0', 176: b'\\x8bJ\\xa8n\\x1eW\\x84\\xd3TE\\xe4\\xd6\\xacd\\x9f.\\xa9\\xfc\\x1f\\x83G\\x0bu\\x99\\x8f\\x8c\\xfb\\xde\\xca5\\x85Z', 178: b'\\xaf@\\x9d%\\xe8\\xf8c^uTIz\\x98D\\x08N\\xde\\x00\\xdeZL\\x1d\\xa4\\xff|\\xf4\\x1bi.\\xf2\\x97p', 181: b'\\xa5>\\x13\\x13&\\xd9Xx\\x8d4\\x96L)\\xe7\\x9c5\\xf2S\\xe0/\\x14\\n\\r\\x0c#+du\\x9c@\\x193', 183: b'd\\xb5&\\xa0\\xa8\\xe8\\xa4\\xeb\\xcft\\xa9;\\xde\\xf3\\x87\\xe0F\\xf6\\n\\x0b\\x9dw \\xdd\\xbf[\\xcb|&\\x08c\\xe1', 185: b'\\xf7\\xce\\x8e\\xf8\\xf8O\\xdd\\x9e\\xa2\\x9c\\xdb\\xc5L\\xb6\\xbd\\x0b\\xaf`\\xbc\\xdb\\xd1\\xcb\\xf0:\\xb5\\xf0\\xfcG\\xb09f\\x16', 187: b'\\xffU\\xb3\\x03\\x15\\x92\\t\\xa9YxAeq\\x1e\\t\\\\Q]\\x01\\x00~E\\xee\\xbb\\x8ct\\xec\\xab\\t)\\xfa\\x16', 197: b'\\xdca+\\x8b\\xe4l\\xbb\\n\\x11\\xfe\\x84%\\xd2\\xd9\\xb1\\x16\\xee\\xbb\\xc8\\x9d-\\xe4\\xf797\\x07}\\x9dDD#\\x9b', 198: b'\\xe65\\x91u6\\xbe\\xff\\xbd\\xb4\\x14\\xe8T#P\\x1a\\t\\x05\\x89\\x80]IH\\xc8S\\x9ac\\xdb\\xed\\xc1\\xcf\\xffD', 205: b\"\\x01\\xc5'\\xa7\\xc7\\x1a\\xcd\\xe5,^l\\xb9,<\\xe3\\xd3\\xb1X\\xb6\\x8a R\\x8f[\\x8aP\\xe1'G+y\\x1d\", 208: b'_\\x96s7gAh\"\\x8d\\xba\\xc4(\\x98\\xb3\\xa8\\xfa\\x03\\xebB\\x93\\x8e\\xb9\\xab\\xdc\\xf3K5s\\xa0l2\\x84', 213: b'\\x8c0\\x980C\\xc2\\xa1E\\xe6\\x9a+\\x82\\xd7\\xea(\\x86\\xbd)m\\x13\\xea\\x15>0\\xdf\\xcd\\x92\\xaa\\xa3h\\xd2e', 214: b'\\xd9\\xe8\\xa7\\xabYr[9y4\\xa2N\\rk\\xe4+\\x8c\\x12\\x05\\x82\\xdfm\\xd0\\xf7\\xcc^\\xf5\\xee!@NU', 221: b'\\x82\\xda\\x8d\\x16\\xa2\\xe7\\xb6\\x86`(\\xd7L\\xf9\\x94\\xe8\\x0cK\\xaf\\xce?G\\x05\\xb6\\xfa\\xed\\x1d!\\xe2\\x15\\x06\\x94>', 227: b'\\x9e\\xe7\\xb3\\xa5\\xc5\\x15\\n\\\\\\xd3\\xbe\\x0bd7\\x12T\\x1e\\x91\\xff4\\x7f\\x0b\\x96\\xe3\\x83\\t\\xa6\\xaa\\x9c\\x8e?\\x96i', 228: b'\\xfb\\xd9\\xd1\\xbd\\xc7\\xbb\\xd4\\xae\\x1c\\x88\\x9d\\xb3\\xd6\\xb8|\\xd9\\xe4\"\\xb9%\\xc3R\\xb5\\xf9/z\\xc9t>\\x03u\\\\', 236: b'\\xe2ij4\\xeeP\\xd1y\\x7f\\x06\\xc6\\xec\\\\\\xb9\\x07#,B\\x15\\xc6\\xc4\\xc0\\xae\\x96\\xb3#G\\x144\\x19;\\x11', 241: b'\\x0bW\\x82&l\\xe5\\x12\\xda\\xdd\\xa3\\x04\\x8f\\x9eb\\xec\\x95\\x12\\x1d\\x03\\x92\\n\\xb9\\xae\\xd7C\\x1f\\xa8\\t\\xbd\\xf9@\\x0e', 243: b'\\x96\\'\"e@\\x03U\\xd6\\x11)P\"\\xbe\\x85h-)\\xa3\\x9b*\\x16KA\\x89\\xa0\\xd2(On\\xe3\\x0f\\\\', 245: b'\\xd1\\x99K\\xde]\\x13\\xa1\\xfb(\\x01C\\xaa\\xd3\\xa8\\xf5>1\\xbd|\\xa9\\x9ft\\xc2\\x97\\xf1X\\xcco\\xc5\\xac\\x95\\xae', 253: b'/\\x8c\\xd4\\x9d\\x82M\\xdcE\\x9e@\\x86\\xa4\\xf0\\xc5\\x8e\\xfdJ\\xff\\xb6:E\\n\\xa04\\xb1t\\xaf\\x07\\xbe\\x08*\\x9c', 255: b\"2\\xf1w\\xac\\x02*\\xbb\\xe9f\\x87M\\xff\\xb0 \\xae\\x958'BQ\\x91\\xc9\\xe06\\\\\\xcb\\xff)x-\\x82>\", 258: b'[t\\x83\\xa3\\xa0\\xedV\\x1cv\\x7f\\xb8=\\xba\\x95\\xe0\\xd0t\\xf1\\x03\\xac\\xd6\\x17\\xef(97z\\x0b&D\\xb4~', 260: b'J\\xd3\\xab\\xfa\\xd0\\x1a\\x92\\tu^\\xfe?\\xfc\\x91:w\\xea\\xb9\\xde+Z`\\x82\\xa2\\x83\\xff\\xf4\\xe8\\x85\\xbf\\xcb\\xf0', 267: b'I\\xf1\\xef\\x87\\xf1n=\\xabi\\xda\\x03-F3\\xba\\xd4l\\x8c\\xda\\x91\\xb7\\x9a\\xe0w\\xf7\\xc7\\x9cA\\xf6[\\xbf\\xe7', 273: b\"\\xacN\\xe3\\x10ez\\xd3g\\x02\\x93\\x88'\\xfbe\\xc2%\\xd7H!\\xfb(\\x15(O\\xb3\\x8b\\xd1L\\x91f(\\xb9\", 275: b'wrJ\\xd7L:\\xfe\\xdf\\x0f\\x15\\xd6\\xa07\\x0cr^\\xff\\xbc\\x90\\x01\\x03\\x93k\\xdb\\x0fb\\xdd\\xc7\\xe9\\xd70\\x7f', 282: b'\\xc6\\x9e5\\n\\x8d\\xbb\\x8b\\x0blc\\xf2\\x18\\x0e\\x18V\\xfb\\x90\\xff\\xfczE\\x8dv\\xf9\\xd6\\x14\\xa6\\xdc\\xc4\\x00uT', 287: b'E\\xcfG\\x05\\x8b\\x1fK\\xb3\\xf9\\xc00\\xb25\\xce\\t\\xdf\\xdf\\xf0\\xf7\\xc4\\x1d\\x1cH,\\xa6\\x93\\xeeV;A\\xbc\\xd6', 288: b'\\xd1@\\xe0\\xd0\\xf5]~\\xe6\\xd3\\x00,\\xd6XHV\\nh=\\xbb\\xe5g\\n\\x88\\xaa,E%.\\xe4\\xdc\\xd2J', 290: b'\\xd4\\xb5+\\xfe\\xe8\\xf1\\x98\\x87Z\\xa6\\xc4\\x1f\\xab\\x19=(\\xa1\\x7f=aP\\xe0\\x00\\xe4 \\xf8\\xa0i\\x96\\xe0\\xd5\\xc5', 292: b'nd\\xf2\\x11\\xf9\\x82}<{x\\xa5p\\xde\\xe7\\xd7o\\x81\\x93\\xb3\\xb2\\x93\\x0f\\xd1e\\x17\\xefM\\xae*8\\x9bM', 304: b'v\\xf9\\xe5\\xb2Q\\x1e]\\xcc\\x85aK\\x85\\x12P\\xc16\\xf0\\x94d\\xec\\x91\\x96i.\\xaf\\\\\\xe6\\xd5\\xe4\\x10\\x03X', 312: b'$\\xdb\\x18\\xa7\\x81\\x87\\xed\\xbf\\x11\\x82\\xdb\\x8c\\xe1\\xce\\xba\\x9c\\x15\\x10\\x1c}|\\xddC}\\x9a;\\xff07\\xad\\xdf\\x16', 314: b'\\xf6\\xee\\xafU\\x1b\\xb9L\\xdck@\\xa7\\x86\\x95\\x91\\xc2\\xf5\\xca\\xdc\\xdeh\\xa6\\x87\\xbc\\x99\\xbf\"\\x89\\x82\\x98c\\xe7\\xa8', 316: b'\\xad\\xe0#\\x97\\x0c\\x96\\x89\\xabj_\\x00\\xc7\\xa8\\x8a>\\x804\\xa9j\\x89-\\xbf\\xbc\\xe7\\x1a\\xebI\\xd2\\xf4\\xd7<:', 328: b'\\xf0\\xc8\\xf3\\xbeP\\xd6\\x01\\xe3\\xb8\\xe8\\xc5\\x05Q\\r\\x04\\xea\\xaeg\\xae\\x82\\x19J\\xf4\\xde\\xf1\\xee2\\xc5\\xb7\\xa9\\xb8\\x84', 337: b'\\xd0\\xf4\\xc8\\x08\\x15pv\\xcdp\\xf8\\xa6\\xd1+\\xc8zb\\xcat\\xbd<\\xe2\\xc4F\\xd0\\xe4\\x01\\x1e\\xc6}\\x8f+\\xe5', 340: b'\\x1e\\xa2r\\x1c\\x06\\xb7\\x83\\xaa\\x11\\x94\\xb6\\x98\\xeb\\xb0\\x03\\x12J\\r%R\\x10\\xa4\\xb8\\x7f\\xd1z\\xab \\x0c2d\\xc1', 350: b\"pk\\x83I\\n\\xa78\\xde\\x03\\x90&3\\x91\\x17[\\x01\\xbeV\\x87|6\\xdd'D8j\\xe4\\xac\\x97\\xf0`\\xb6\", 352: b'6\\xaav\\xd0\\xf6\\xdc G\\xacH\\xbe2\\x9cwp0\\xf6\\xd3\\x85`\\xd4_\\x0b\\n\\x03\\x81l\\x9e\\x02\\x12\\x03\\xef', 355: b'\\x95.#B6\\xcda\\xe4\\x1a\\xa8\\x8f\\x83\\xee\\xc0m-\\x99FP\\xd90\\x18n\\xdc\\x1e\\xb2\\x1a>%\\xa3\\x83P', 357: b'\\xd2q\\x8f\\x86]\\x88\\xa7\\x19\\xcc\\x13\\xcf\\xc1\\x8f\\x02\\x10\\xec\\xd0Z-q\\xe7\\x81~\\x00w~\\xec\\x02\\xa6b\\x18Y', 358: b'\\xbf\\x8bg\\xf7\\xc4\\xf0\\xb5\\xd1n\\x8c\\xd2;\\xf7N\\xf6t\\xd4?\\x90\\x0bE\\x96\\xa4\\xb6\\xab\\xf5\\x94\\x08_Rn=', 363: b'X\\xa2\\xaa\\xc7\\x0e\\xa7\\x98\\xaeM\\xf1f\\x90M\\x92j,D\\x93`\\xd3sx\\x94:,\\x08\\xe1y\\\\\\xb9\\xbf\\x80', 369: b'\\x8aU\\x0b\\x06S\\x84\\xd6\\xf1\\x01\\x8d\\xa1\\xda\\xd4N\\xb6\\xd0\\xa1(\\x03bL-\\x93\\x94`\\x95\\x1b\\x7f\\xb6\\xfe\\x9d*', 372: b'\\xe6\\xac+\\xcd4K\\x9c\\xbf/\\xa6\\x9d\\x91&\\\\\\x02$b1\\xd4\\xd4\\xf5\\xa4\\xb2d\\xd0\\xa9\\x8c\\xd9\\xd3b\\xcd\\x80', 377: b'4\\x1e\\x84:P4[\\xd8\\xd7\\xf5<G\\xf5A+)\\xb7tB\\x8d\\x1a\\xbf\\xd3\\xaeXk\\xca\\x80\\x9e\\xbb\\xfa\\x05', 381: b'\\x96G\\xe61qyx?v\\n^\\xee\\xbb\\x84\\xb3\\xa4\\x81\\xad\\x8a\\xd8\\x0c\\x89z\\x95Z\\xa6\\x99$\\xef_\\x97\\xa5', 383: b'\\xef}\\xf1\\x14\\xe9\\xaa\\x8f\\xa0ln.\\xe79\\xe5\\xcd\\xa8\\x06DA)\\xcbz\\x1a\\x91\\x94<P\\xdc\\xe0\\x14\\xf0\\xa6', 384: b'\\xbb*\\x85\\xcb\\xd0\\n\\xa4:\\xef|\\xa4N\\xa8\\xf7\\r\\x9a\\xca\\xa8o\\x0c65R^o\\n\\x92\\x8e%!(5', 393: b'\\x06\\x80`\\xfc\\xdb\\xedl\\x02\\x0f\\n\\xc90\\xceG\\x17$\\xef\\x13\\x15\\xfd@\\xec\\x18\\xc0c\\x9f\\x95\\xc2\\xe2\\xe3lP', 397: b'1\\\\\\x06\\x93/\\x8e{\\xdf\\xae\\xb9\\xed\\x89\\x85\\xaev\\\\\\x9a8&&\\x927X\\x05wZ~\\x15\\x1cV^U', 402: b'\\x9c\\xfa\\x9d\\x16\\xf1Ee\\x93\\x1f\\xaeRl\\xbe\\xba\\xa3)\\x99\\x15;L\\x85Z\\x9e\\xfb\\xf4:\\xa0G>\\x8d\\xe2|', 405: b'\\xc7\\xdb\\x0fV\\xd2\\t\\x15\\xdf4G\\x98X\\x01&J\\x14\\x0e\\xa2\\x0cyy\\x1c\\xe4p\\x143\\x00,\\x83^\\xb2\\x0f', 408: b\"_\\xa5\\xae\\xf0\\xdf\\x08p\\xd6\\x88\\x02_\\xf2\\x94\\xe6}\\x98\\xeb\\xfd9\\xd0'\\xf2\\xc6\\xc0\\x9b\\xbe\\xe2\\xffe\\xc4\\x9d\\x05\", 415: b'\\xf0\\xc1\\x0e\"\\xb0\\xba\\xe4h\\x03#l\\xe8F\\xfe9\\xc3\\x8ej\\xb8t\\xfe\\x90\\xd3\\x8e\\xf9|\\xb1^\\xe2\\x8e9\\x93', 419: b\"1\\xab\\x0f\\x9f\\x8a!\\x08\\x9a\\xafZd\\x10K&\\xc1?\\xbd\\xfe\\xc8'\\xb2\\xc1\\xa4X}t\\x9c\\x8d\\xae\\x03v\\xd9\", 421: b'\\x9b\\x8eB\\x18\\xd6|\\xfe\\xc3,\\xed\\xb0\\x85\\xf6\\x8b\\xdb\\xcc\\x0b\\n\\x8d\\xb0\\xe0\\xe3\\xb8\\xfc_s\\xe6\\xb1\\x9bF\\xa8\\xf7', 422: b\"\\\\\\t\\x1c\\x85h\\x150\\x87\\xa3\\xa5L&\\xdb\\x91\\xf2\\\\\\xafw\\xb4\\xb2'R,\\xce]&EF\\xb2\\xff\\xcc$\", 427: b'\\x87f\\xa4\\xe7s\\xf5\\xed%H\\xa1f\\xc0\\x19\\xfe\\x98\\xd4\\xb9\\x8c|%vp\\x97l\\x01[\\x96:~X#t', 430: b'\\x8c\\xbb\\xc3^\\x1bh\\xac\\x92\\xec~\\xd5Y\\x90\\x8b7\\xa0\\xa2\\xef\\xc7\\xdd\\x8a\\xad6\\xbb\\xd5\\xb1\\xe3\\xdf\\x86\\xa5\\xe2_', 433: b'\\x12\\xfb~\\xbe\\x05I\\x0f\\xf1~m\\xf2\\xdd(\\x7f\\xf1{\\x1b\\x01\\xd5\\xa3i.|^?\\x98\\x06sra\\xd8\\xcf', 434: b'\\x17|PE(o\\xf7Z\\x14\\x1f\\xa6}\\xdafV\\xb2\\xf4\\xb8\\xeb\\xf1\\xd5\\xber\\x12\\xfa-\\x0br-\\x89D\\xe2', 443: b'\\xe5\\x93\\xcb[\\xe8\\xd1\\xb0\\xb4\\xe3h\\xe0S\\x96\\x7f*n\\x93\\x01\\xbbI\\xe2=9\\xc3\\x88\\xc9\\xcel9v\\x1d\\xbd', 445: b\"}\\xac\\xb3Q\\xb4\\xa8\\n\\x9d\\x16M\\xfe\\x8e\\x0f$\\x1ah\\xd2\\xac\\xa0\\xde\\xfa\\xbe'\\xa0oz\\xd8V\\xc2\\xd6j\\xf5\", 447: b\"\\x03\\xecM.\\xe7\\xb5a\\x9a\\x94\\xd7\\xb2\\n\\xe0\\xea\\x96%)'9lR\\x82\\xa0:\\xac\\x9b\\xa0\\x83\\x08?\\x93\\xea\", 448: b'Xk\\x06U\\xcd\\xcc;\\x83\\x98*\\xad\\xe2Y/\\xca\\xe0\\xd7Y\\x8f\\x053\\xd0&\\xfdo\\xe2\\xd0\\xc9/M\\x8fk', 451: b'\\xf6\\xefr^\\xf8,\\xdd4\\xce\\xec\\x8e\\x16\\x8c#ns\\xe8\\x86\\xf9\\x8eM\\xfcM\\xcap\\xc3\\xf2\\x8a\"#\\x1c\\xc5', 452: b'x+\\x07r<i\\xa9\\xdf \\xb4[u\\x85\\x11\\x8a\\x843\\xf8\\xa2\\xb5\\x98\\xca\\xa7\\xb7\\xe5\\xe9\\xae\\xad:$\\x84!', 455: b'|\\xf2\\xa7%g\\xc4\\xf9\\x7f\\xd8\\xb0\\x18\\xa0U8\\r\\x86\\x85\\x02\\x8f\\xd8#9\\xefS\\x80\\xc7\\x1b\\xea\\x97\\xb8O`', 459: b'\\xcd\\x01\\x87f&\\x81$f\\xbfIM\\x0f\\xf2\\xd4\\xae\\xdb\\x00\\xc9\\xa5u`\\xbd\\xa1\\x18q\\xf0H\\xd7\\xbd\\xda\\xc6\\xca', 461: b']$\\xc5N\\x02\\xf0\\xeav\\x82\\x9cRz3{\\x9e\\xe6\\xa0\\xee\\xa8\\xbfd\\x94\\x0b\\xc2\\x0bKbZ\\xef\\x00\\x82}', 468: b'\\xdd\\xf1\\xe5W\\x0b\\xd5\\x9c\\x8c\\xca\\x9do\\xaa~\\xf4/A\\xe4Z\\x11t\\xa7a/4\\xcb\\xf5W!\\x15\\xfa\\x11[', 470: b'\\xca\\xe4\\x95\\xa3\\xdaJ\\x9aP\\xe3\\x0b\\xe7\\xb8?~4\\xde\\xec\\xb1C\\x1e\\xfd\\x182\\xc3\\x8d\\xbb\\xa3\\xc0\\xa0\\xd6\\x00c', 472: b'\\xbck\\xed\\xc7\\xac\\xf34\\x92Yk\\x8b\\xf6_A\\xf5\\x98\\xcf+\\x96\\xba\\x80zU\\xa5\\xef\\xe0\\x86\\x143\\xd3v\\xdb', 481: b\"f\\tq\\x98`\\x19\\x8c\\xe3\\xcc\\x0b\\x8f\\xca\\x17\\xf0\\xb8\\xfb\\xec\\xce\\x83p_\\x0bVl\\xcf\\x00\\xec\\xb6-\\xcd\\xb8'\", 487: b'{)\\x87\\x17\\x96\\xba%L+\\xc2\\xbe}\\xee\\xdf\\x96\\x17\\xa2~e\\x94*\\x04\\x1dBh \\x91\\xd9m0\\xf2t', 490: b'y\\x16 \\x8d\\x05\\xfe\\xc5\\x01U\\x11\\x06S<w\\x00G\\xf8\\xbc\\xd3\\xe9k!s^*\\x8f\\xa0\\xf20\\xca\\xcfX', 495: b'\\xc1\\x18\\xc2\\xb8\\x1b3\\x86z\\xc6\\xb8\\xcf\\x95T\\x9a\\x1e\\x06\\x86O(#\\xd2\\xfdWUwi\\xd7\\xe5\\xdcz\\xfb\\r', 507: b'\\xeag=\\xfd\\xcb\\xd4\\x95yzt\\xec\\xe4\\x93\\xf6\\x9b\\xd3\\xa4\\x8b)\\xd8kp\\xc3\\x00\\xa1\\x91\\xed\\xf3\\x85z\\xe1I', 508: b'@\\xc0\\r\\xa1zv\\xbe\\xbab\\xb75I.\\xbegS\\xf0D\\x15\\x14\\xcc\\xe00\\x83r`8\\x9a\\xdf\\x85\\xc7l', 511: b'x\\x81\\xdbT\\xbd1\\xcf\\xd1!\\xcd\\xe6T\\xc6t\\xb4\\x0c$R\\xe9X\\xaf\\x96{\\xae\\n<n %\\xf7\\xb2\\xeb', 7: b'\\xd37B\\xdf\\xd9\\xc1\\x19H@\\xe4\\xda\\xf6\\x13S\\\\\\x04^\\xe5\\xc1\\xdf`S\\x87O+\\xdd\\xec\\xee\\xa9\\xad\\xd9=', 18: b'G\\x85\\xc3K\\x0fw\\x03e\\xbd\\x8fj\\xd1O\\x8d\\\\C\\xceU\\xf0\\x96\\xf9\\xcb\\xde[\\x07\\xd2\\xa9\\xf2\\r\\xe5\\xcf8', 30: b'\\xb6\\xa4\\x8bzI\\xd8+L\\x9a\\xec\\x8f\\x06\\x93\\x15\\xdd\\xf5&\\xfc\\xa3\\xec\\x89\\xde!)\\x8f\\x88N\\xc7\\x10\\xf0\\xa9\\x8e', 32: b',\\x08,\\xd0\\x87P\\x10.\\x80W\\xe1QI\\xed\\xce\\x9f\\x85\\xb3v\\x176<\\x9df\\xe0H\\x18\\x80\\x8a\\xc3\\xbdh', 36: b'\\xfa\\x19\\xd8\\x02x\\xd5\\x0b\\xbb]\\x89\\x128pkvv\\x84G>\\xfdkhL\\xf9\\\\O\\xf7\\xcc\\ng\\x86\\xe4', 41: b'\\x11qSv\\xef[7\\xf9X|\\xd0.\\x06W27W\\xfeQ\\xedA\\x15\\x8e\\x0cD\\xd5K\\xe4\\xa0n\\xfdO', 43: b'\\xf2\\x91.c\\xf1\\x84\\x06\\x94\\xcd\\x8b,\\xdb\\x19\\xea\\xcbJ\\x96\\xd2\\xab+\\xda\\x02\\x98Zh\\x1ce\\xe6\\xff\\x89\\x9dA', 49: b'K\\xa7\\xf8y\\xed \\xc4\\x10\\xb1m\\xe8;\\xa8o\\xa9\\xf8\\x81}\\xaa\\xa2@\\xda\\xf7\\xee+@P[C\\xdd\\xc0\\xf6', 56: b'\\x7f^\\x95#\\xe4\\x01\\x04\\xael.\\xde\\xe3%\\x9a\\x17\\xff>\\xe2\\x19\\x87\\xbc\\x946|\\x85:\\xf3\\xdbW\\x98(^', 96: b'\\xf7\\xcf\\x1d\\xc8\\x89z\\x05\\x03\\xaf\\x9f_\\xac\\xff\\x01\\x18}\\xae\\x84\\xe5\\xa2#\\xdc\\xec\\xc6\\x89\\xe5i\\x1b\\xf5)j ', 103: b\"2\\xa9^\\xb5\\xc0H\\xe7'.\\xdfQ#o\\xdc\\x81\\x9du\\xff\\xa1}R\\xef\\x1c\\x9f\\xc5\\xdd\\x05:\\x01\\x19\\xe3w\", 106: b'4\\x1b:\\xa6\"\\x93\\xf8\\xe3~\\x914\\xd4Z:\\x06fNr\\xc2\\xf0\\xf7\\rH\\x96\\t\\xea\\xd9x\\x9c\\x1b\\x1bA', 109: b'g\\x85\\x03\\x1b(\"4\\xf7_\\x91\\xeb3\\xbe\\x8bN\\x8b\\x8a\\xc5\\xd5\\x98\\x115F\\xa5\\xe0\\x8b\\xcb\\xae\\xdd\\x95\\x00\\xa0', 115: b'%\\xdfQZ\\x07$\\xcex\\xff#\\x94\\xaa\\xa7\\x83n(5\\xf0Q\\xf1\\x1c\\xac\\xb4\\xfa\\xb24&L\\xe6\\xd9\\x04E', 141: b'\\xd6\\xbe\\x0e?\\xed\\x80\\x03\\x07\\xf4f\\x9f\\xfdJ\\xb6\\xb2U\\xdd\\x91VP\\xf7IZ\\xc2\\xd7\\x96\\xabZ\\x93\\x9c\\xb0\\xfe', 146: b'l\\xda\\xb7$\\x90\\xb7\\xa1/\\x95\\xab\\xe9q\\xbf\\x87\\xca$=\"\\xab\\xff\\x99J\\xc5\\x9a\\xe4\\xeat\\xdc\\x8a\\xa3\\xa3\\xb0', 151: b'\\x8b\\xe5\\xee>\\xf0\\xe1\\x8aFX\\xc5]b|\\x1b\\xac_\\x9e\\xee^\\x04\\xb4\\xc5\\xc2\\x7f\\xacN]:\\xab(6L', 152: b'\\x00\\xae\\x185S#\\xb5a\\x13d\\x85p%\\xccZ\\xf7+axl\\xdf\\x94\\x15\\x10X#?\\xcf\\x14\\x97\\xd3\\xa5', 159: b' O!\\xd6\\xf6zV\\x7fx(#\\xfdr;\\xda\\xbe%\\xa0\\xae\\xfd\\xba\\xdfw\\xf7N\\x1b\\xbfb\\x7f\\xdc\\xa2\\xc2', 163: b'\\nn\"\\x82\\xc0[\\xdc\\xc3=\\x151B\\x90\\x05V/ly\\x89q\\x19DH7\\xc5yk\\x1a\\xf7\\xc8\\xfb\\x90', 167: b\"\\x8c\\x8e\\x9f\\x80\\xc7*Vv\\xc0J\\xc280\\xbb@@c\\rs\\xba'u\\x10\\xc9tn\\xf5\\x0b\\xa3S\\xa06\", 173: b'8\\\\\\xb5U\\x921\\xd8\\xe6\\xe6yO\\xe7\\xabu\\xd3\\x94(\\n2\\xc9t\\xe7aQw\\xf3\\xbe\\xa0\\xc2\\x97\\xf4\\xf9', 189: b'`\\xca\\xdePK\\xadIcK.\\x10;@[\\x7f``t\\x86\\xbeh\\x15\\x02\\x9d(\\xb2\\xc6\\xc8\\x97 \\x08\\xbe', 190: b'\\n+@\\x0e\\xf6Q\\xed \\xb2\\x17\\xcdy\\x014\\x15\\x03\\x9b\\xc8F\\xe44\\xab\\xe4\\xca&W\\x81E\\x05\\xc5\\x93L', 195: b'\\xec\\xddg\\x95\\xa2<\\xc6\\xeb\\xa4\\x92\\x81\\x03r\\xa0\\xc3\\x0b\\xc9\\xbe7\\xa4\\t\\xf11\\xda\\xc8\\x8as6\\x0bz~\\xaa', 200: b'\\r\\xbd+J\\x12>\\xe2\\xf9:c\\xba\\xean0wq\\x0e\\xbed\\x9c\\x86X\\x18\\xac\\xd7\\xc9\\x04\\x15^\\x1b\\xb5\\x87', 217: b'\\xfdk\\xbco0\\x99\\x08[\\xca\\xa6hi\\xa0\\xd3\\xd49m\\x14f\\xc2\\xdbz\\xba\\xbd\\x02j\\xbc\\xbc\\xae\\xf0\\x7f{', 222: b'\\x90<oE\\x9e\\xb6[\\x89\\x9e\\xea}\\xd9\\xa3\\x90\\xda\\x9e%\\x9c\\xa4\\xf0A4\\x0bt\\xdfa\\xce\\xe0B$@y', 224: b'\\x05\\x040\\xe6<\\x92OGK>$i2\\xa7ZH\\x9dY_\\x1f\\xbf\\xe7\\xcf\\x1c\\x99-.\\x9aZ\\x86\\xbf\\xd2', 230: b'\\xad\\xafW\\xf5\\xf4\\xa7\\x04\\xf6\\t\\x17\\xf6\\x15\\xfc\\xe6\\x8a\\x1a/\"T\\x0c%\\x97@)L\\xb11\\x80\\x07\\xf7[\\x18', 250: b'\\xe0\\xad\\x01+P\\xe8i\\xa5\\xf56\\x87\\x90\\xf0\\x8fp\\x14>`\\x98r\\x89eM\\x94\\x13\\xb2\\xaf\\xdf\\x02)Z}', 276: b\"\\x90\\xff]\\xbcQ\\xd2\\\\\\x9d\\x8d:\\xc3s\\x7f\\x865\\xa1\\x83xYe\\x0c'\\x13Yh\\xd7\\x19\\xb1%a|\\xb8\", 284: b'\\xf6\\xfe\\xb4-\\xe3\\xdd\\xe48\\x92\\xca\\xc2\\x86\\xaa9\\x00\\x1d!\\xf2\\xdaJ\\x0f\\xd5\\x0f\\x08\\xf0\\xf1G\\xff,\\x14\\xef\\xf6', 296: b'\\x91w\\xadc\\xb3L\\xf2S\\x80QK}5\\xcc,\\xf8\\xaa7\\xf5u\\xe0\\x1d2\\xe8\\x90\\xa9u\\xc2Sg\\x13\\x02', 298: b'\\x9d\\xd5\\x11i\\x8b\\xea\\x04}\\xec\\x8a\\xd1Zp\\xa3\\xb1,a=\\xbc\\xb1\\xdaQ\\xb2\\xebF\\x17\\x1b\\xde\\x9a\\x9b\\x97\\xd7', 300: b'W\\xb3H\\xb6$\\xfb \\xdd]\\xb7m\\x86j\\xd8\\xa3\\xa9W\\x82\\xbb\\x1fP\\xc4\\x02F\\xc0\\xfd@\\x8cZ\\xab\\xa3\\xd9', 303: b'\\x9d8%\\xc9\\xe7\\xd6\\x07\\x97\\x1eE\\x9da\\xd7\\xdfs\\x16W\\xcfCJx\\xbd\\xb7\\x04\\x97\\x8b\\x15\\xebPVW\\xeb', 306: b'{\\xc6\\xdc*\\x8e\\xfanwV\\x85\\x9d\\x96\\x86\\xfd\\xfb\\x1b\\xfaIxQ \\xa0\\xfcv\\xda\\xde\\x8b{\\x7fX!<', 309: b'\\xe5\\xbb\\x02F\\xda\\xf3A\\xe2\\xa9\\x1f\\xf1\\x06\\x9e\\xed\\xa2Cp0\\t\\xb8m\\xa2Sg~s\\xcbg\\xc4\\x00\\x06l', 319: b'\\xe6\\xac\\xe9#_Y\\x06\\xb1%\\x02K\\xc3\\xd8\\x16\\x18\\x89\\x0f69\\xb6\\xfd/\\x08KOC\\x80r\\x84_\\xad\\xcb', 321: b'\\x88\\x04}b\\x95\\xe1\\x8d\\x80\\xb3\\xd9\\x1e\\x04\\x87@\\x99\\x8b\\x8fj\\xce\\xb4\\x0cg\\xcf\\xc8u6\\xe2\\xcd\\x90y v', 324: b'd\\x9c\\xcfH\\r\\x9b2;8\\x1a\\x93\\xab\\x8c\\\\oQ\\xee(\\xad\\xd8`\\xc7\\x89\\x0c\\xeb\\xe7\\xf1\\xbe\\x9b\\x18\\x83\\x91', 326: b'\\x95\\x18\\xc7\\x0b\\xd1@\\x91A\\xff\\x8f\\xb2p\\xf4(\\x98\\xe4.\\xfb\\xdb\\x83<\\xa9h \\xc7\\x0b\\\\\\xf8\\x0bMo5', 333: b'\\xf4\\x01\\xc6\\xc7\\xc9p\\xbd\\x8c\\xcbB-p\\xaa\\x84\\x02n~\\xc1A\\xc4F\\x08\\xf8\\x101\\xbb\\x8f\\xca>\\x92\\x02\\xb9', 335: b'\\xd0@\\x1d\\x9d-\\x88\\x1d\\x87\\x97j\\x88gJ\\xea\\xff;E\\\\\\xd6p\\xa2\\x1e\\x00~n\\x88\\xde&\\xb1D/\\xb5', 339: b'[\\xaao:\\x1b8\\x05No\\x1a.U\\xa1\\xd0W\\xde\\xa4\\xa7B\\xc4\\x11\\xf1}\\x04#\\x82\\r\\xa5\\xf1\\xec\\xf1\\xea', 343: b' W\\xeb\\xe8\\xdf\\xe7\\xea0\\xa4\\x05d\\xdf\\x83\\x1e\\xdf\\xe5\\x08\\xbe\\xc9\\xffY\\xc6\\xc6\\x9eRq\\xc4rv\\xe9h\\xb6', 345: b'\\x0fK7\\x03\\xb6k\\t\\xf4B\\xff\\x11B\\r\\xd9\\x03\\xf7c\\x86\\xd5\\xc7%t*\\xd7@G\\x0b\\x9a\\xec\\x8e\\xd0\\xcb', 347: b'kI7Ji\\xf8c\\xcc\\xd9\\x9a$\\xd7\\x9d\\\\\\x0e\\x8cFEcQ\\xc2\\xbc\\x06\\x03\\x17F\\xa2.\\x8e\\x15,\\x9e', 367: b'\\xb4\\xe4\\xda\\x98\\x99\\xe7\\xa3\\x1e~1\\xaeDI2\\x12\\x01piB\\xd3\\xae\\x1b\\xf3\\x8f\\x9b?\\xb1w=a\\x88q', 371: b'z\\x00Bs\\xb2\\xd6E\\xddg\\xd26\\xf7\\x0bm\\xe3\\x8c\\x89\\xdc\\xb4\\xb4N\\x01q\\x99\\xae\\x17\\xfc\\xf2L\\xaf\\xaeI', 387: b\"\\x98+\\x90'7\\x15D:\\x90\\x14\\x15\\rX\\xf1j)\\xa2\\xf5\\xab\\x15g2\\xfb\\x82;\\xef\\xcd3\\xb9\\xff\\\\b\", 398: b'K\\x97\\x11\\x07(\\xd7\\x01>\\xcb(\\xa6\\\\\\x02\\x99\\xeb0\\x9c\\xc8{\\xc1\\xdb\\xf71;,\\xc1\\xd8\\xe9\\xd9\\xd2\\xb2\\r', 401: b'\\xc2\\xb7\\x85\\xecm\\x86\\xec\\xf7V~`7\\x1e\\xae\\x91\\x06!\\xb4c\\xb7u\\x95\\x141\\x98\\xbb\\x85\\xd1@-\\xbc\\x1d', 407: b'e*\\xbeB\\xa4\\xbdR\\xb0\\xedBk\\xeb\\xee\\xb0;\\xafs\\xe7{\\x14?\\xe4\\x87*j9\\x12\\x90P\\xaf\\xaa ', 410: b\"H\\x88\\xda\\xa9Q\\xfcb\\xf8c\\x1b\\t\\xd6cQ=\\xe8qu|'\\xe1\\x0f-D\\x06\\xcb\\xe3sj/;\\xd3\", 429: b'\\xaf\\x8a\\xe3pJv\\xcfy\\xefD\\xd0#\\xe8}\\xbf\\x10\\x95\\xf5:\\x0e\\x1dB\\x91~ \\x0f\"(\\x10\\xf8\\xe9#', 437: b'\\xf2>\\x16\\xfe<\\xaf\\x85\\x12\\xc3\\t\\xef\\xb7\\xb1\\xed\\x9a\\xde3H6\\xbf\\x90\\xa6\\x19\\xb6\\xc9\\x19CS<\\xbc\\xd8\\x97', 438: b'\\tY\\x81\\xd3z\\xbb\\x1a&\\x81\\xe1\\xf2\\x168\\x87\\xf3\\xf1\\t\\x04\\xddP\\xa7\\xcd\\xf7\\x96\\x82\\xfe\\x1b\\xf3}w\\xbdW', 441: b\"\\x9d\\x0emJ\\x82{\\xd0\\x18\\xca\\x86A\\xff\\xdfh#\\xc1\\x1a\\x89(\\x11\\x1d\\xbd}\\x12'R\\nm\\x8a<Eb\", 463: b'\\xf4\\x7f\\x94j\\xd8Y\\xe0\\xact\\x17\\xb1\\x9dt\\x7f\\x08\\x8f\\xd5\\xc0)\\xd4\\x8a\\x0f\\x19\\xd0\\x87\\x99\\xb0P\\xf0\\xb2\\t\\x8a', 476: b'\\x98\\x84\\xb0\\x96\\xa4]j\\x022\\xbf$\\x95\\xbd\\x9d\\x8a\\xa0d\\xf8a\\x91\\x86\\x90a\\x89#\\x14{}\\xe3\\xde}\\x94', 478: b'/w\\xbdc\\x86#_\\x1f$\\x91\\xa9\\x1e\\x91\\xfe%\\x05\\x8f:\\xa3\\xdd\\xdc\\xdf\\xda\\xee}\\x1d73\\x99\\xd1\\x8a.', 488: b'-\\x03\\x94\\xe0\\x0b\\xed8\\xae|\\xa0\\xaa\\x163\\xf3\\xf3\\xb4\\xce[\\xff7_r\\xfc\\x00*c\\x8d\\xec\\xacu\\x02\\xa0', 496: b'\\x86K\\xa7\\x92\\xd1;\\n\\x07\\xd4:9d?\\xe1\\x1a\\xf0\\x1c\\x84~\\x1a&\\xa8\\xfb\\xf1\"Z\"\\x9f8q}\\xae', 500: b'\\xf2s\\xaf\\x18\\x0b\\x1e\\xc4\\xed0M\\xc7\\xe3I\\xb9)\\xc5\\xfb\\x95f\\x82\\x10\\xac\\xf5\\xe7.\\xec\\xc6\\xdcQ\\xf7\\xf6\\xd9', 502: b\"I\\x1ao\\x7f4'NH\\xb5.M\\x7f1\\x03\\nD'_\\xb8\\x02\\n\\x0bAJ8fR<Z\\x06\\x01\\xf4\", 1: b'_g\\xb8eA\\xf0\\xfd\\xb7MC\\x0b_U{\\x1aI\\x92t\\xee\\xe6\\xd8\\x80\\xe5\\x19!\\xa9\\xc3\\xbb;\\xa5\\xcc\\x85', 46: b'\\x95\\x92\\xbe\\n\\xeb2\\x85\\xa7\\xc8\\x1f\\xff+\\x1d\\xb7G\\x8a\\x82\\xb6\\xd4qx\\x9e\\xe7\\xd1s<^_\\x16\\xc0\\xfd\\xcf', 69: b'\\xb9\\x91\\x1c\\xed\\x85\\xee0\\x8b\\xd0\\xb4k\\xa0bp\\x88Tw\\xd8\\xb9\\x0c\\xfd\\xef\\xeb\\x9b\\xfeA\\xe5\\xa9\\xaa\\xfb\\x03R', 79: b'\\xc7\\xc4 \\x8b\\x97\\x90\\x15\\x9bV]U\\xc5ba\\xb3/\\x13\\x13\\xd1\\xc2\\xd0.\\xd90\\x1cw\\xed\\x8a\\x8c\\x9f\\x83O', 82: b'^(\\xbf\\xcekU;(?B\\xe4s\\xc6\\x94x\\xd9\\xdbc\\x9aP\\x84\\x8ek\\x8e\\x94\\x96\\x05+\\xad9/\\xc7', 86: b'\\x01\\xa6\\x1c\\xd78O\\x88\\xb4\\xd8\\xdc#}\\x88\\xc7\\rA\\t\\xd9\\xa1\\xb8\\x14\\xf3r\\xa0&\\\\-\\xe0\\xc8\\x92\\xca\\xdf', 91: b'\\x18x\\xa6\\x97\\xa6\\xc5\\xae\\x8d\\x91\\xba\\xfc\\xd9ls\\x98c8G\\r>\\xea;\\x0cT\\xee\\x19n\\x0b$V\\xe1\\x16', 99: b'\\x0c\\xab\\xfe\\xabx\\xfd\\xcb#\\xc6i\\xbc\\xc9kR\\x1f\\xae\\x909\\x87\\x00\\x83km\\x1d\\x0b\\x9d\\xbbYW w\\x8b', 113: b'\\x8c\\xe0\\x1f@=o\\xad\\x03K\\xef\\x9b9\\xbdR\\n\\x0b\\t\\xf0\\xc0\\x825yn9\\xafT\\xb6\\x0e\\x17J\\x81\\x94', 118: b\"\\xc8\\xd6\\xb9'\\xac}k\\x89\\xdb\\xc0\\x87\\xdf\\xb5\\xd9D\\xf6\\r\\t\\x01e\\x80\\x05\\xdf\\x9b\\xd8\\x8ac\\xf0\\xc4\\x94*e\", 121: b'\\x1a\\x1bN9I\\x03\\xbc\\xcf\\xad0Pd\\xd1\\x9d\\t\\xf2A\\xf2\\xf2\\xbdV\\x10\\xef_\\xd9\\xf8\\xeej\\x01|4{', 122: b\"\\x00\\xb7#\\xfc'\\xd94C\\xf7\\n\\xcd\\xe0\\x80\\xdaJ\\x11\\xb6\\x06-\\x07\\xd6\\x96-\\xd6\\xce\\x04\\xa3R'\\xd4\\xcd\\xe4\", 125: b'\\xdb\\x02V\\x1e\\xe2=oM\\xfe \\x91\\\\\\xc1-\\x1b\\xfa#K\\xb9.\\xc9\\x04\\xe1Z\\xa5\\x9f\\xa9B\\x02K\\xab6', 129: b'=\\xf7hs+0\\xb6\\xdc\\xe1{I\\xf9PvO>\\xa0\\x87\\x9e\\xff\\xaf\\xcdk=+_x\\x1fK\\x14\\xce\\x19', 142: b'\\x0b\\x8e\\\\\\xe0\\xb8\\x9cw%S\\xa9C\\xf9E\\xeb\\xc1\\xf9\\xb4p~\\x87\\x85avi\\x9e\\xad \\\\\\xfe\\xe8J0', 206: b'\\x8d\\xdb9k\\x9b\\x9dz\\xab9\\xdc[X\\x00\\xf0\\x01\\xb5.\\x89.\\xa5\\x1c\\xd3\\x8e\\xdf\\xcf\\xe2\\xbdp\\xd3\\xe5s1', 264: b\"\\xe8A\\xb1\\xe3#\\xa3Y\\xdd\\x9a\\x06u\\x1dj/\\x9c\\x8e\\xf1e,\\xc9\\x0fU1T'\\x9b\\xc9\\xda0\\xb2=\\xfa\", 271: b'M\\x8aG\\x869ss\\xe3N.\\xf3\\x94\\xe7\"\\xbe\\x01\\x01\\xf4y\\xab\\xef\\xe4\\x97\\x04\\xab(&NS\\xc4\\xe2n', 278: b'Pd\\xf7\\xa1bjQ\\xede)\\x1f<\\xda\\xf9].\\x8d\\x16i\\x03\\t\\x0f\\xc7,\\x16W\\x0b\\xd9\\\\\\x93n=', 281: b'\\xc6Ew\\xb0&zp[\\xfc\\xb2\\xce1\\xd1\\x04{y?a^\\xf4,\\x98\\xa9@\\xaf\\x9a\\xa4\\\\\\xb1MRx', 295: b'\\xf6o\\xc7l_\\x1bu]\\tE\\xb5\\xc6\"\\xe8\\xd3O\\x8c\\xe6\\xf6\\x00o\\xb0(\\xbe,\\xc5\\x92)/#M\\x12', 311: b\"?\\xd9D\\x15Gu=`\\x13Z\\x08R\\x0c\\xa8;\\xd93W_'\\\\\\xffEq\\x07\\x07\\x9e\\x08:\\x95C\\x89\", 322: b'#\\xcaY\\r\\xc53\\xc6>\\x1a\\xdbG \\x8f\\x89\\xfc\\xafc\\xc0Qc\\x9au>\\xe9\\xcb:>\\xe8j\\xf1\\\\\\xcc', 331: b\"\\x14\\x07\\xba\\x9c\\xa7\\x80\\xdaIr\\xcb\\x08y\\xc5\\xe4\\xa5%\\xc5\\x1f\\x01\\x10\\x00\\xf7\\x06'`|\\x003\\xc8dP\\xf9\", 349: b'Z\\xf4\\xa8\\xf4\\x0f\\x13O\\\\=\\x9c\\xd1S\\x10\\xcdF \\x86*\\x19E\\xa7\\xa6\\xb77I\\x90p\\xb9\\xe3\\xdeo\\x99', 390: b'\\xa8D\\xf7X\\xc0\\xee7\\x9a\\xb2\\xcat\\xefZR\\x02B;4^!\\t\\xfa\\xb8\\x83\\xb4R\\xd5/\\x97V\\xb4D', 394: b'\\xfc\\xd6\\x86\\xfeU+\\x04\\x08\\xde\\xaaC5:\\t\\x0e7\\x9en\\xd7\\xcf]\\x10\\x1e^h\\x0cF,WE\\x93\\x81', 417: b\"C0\\xeb\\x1f\\x8d\\x98?\\x80\\xa5!\\xf8g\\xe2\\xe8M-q\\xf2f\\xe0Z)\\x96'xD$\\xdb\\xce\\xe6\\xee\\xbd\", 425: b'\\x8d\\xb2\\x07\\xb7\\n\\xb4\\x8c\\xe3\\xc7\\xf9\\x83j\\xcd\\xe3\\x1c\\xf8\\xe5\\x9by\\xd2/\\xc4\\xac\\xecC\\x96e\\xa3\\xe8\\xf2\\xb0O', 465: b'\\xfa\\xbd\\xc3\\xa9\\x16lt\\x97\\xeds\\xe1W\\xf1\\x0b\\xe6\\x16\\x04\\x87529A\\r\\xb9\\x81\\x14(\\\\*~Xz', 483: b'\\xc3J\\xd5\\x0b\\xa6\\x10\\xe9\\xde\\x1bW\\xa7>y\\xf2X\\x16|\\x8f\\x8a\\r\\xa7\\xcd\\xc9G\\n\\x7f\\xb8\\xf8\\x12\\x80\\xbcE', 498: b'V\\x93\\xc6\\x9b\\x96<\\xad\\xc7\\xbd\\xcd\\xe2l\\t#\\x89L^\\x0e\\x96i\\x14MPus\\xc0\\xcb\\x14\\x04\\xd1j\\x0c', 17: b'\\xb0\\xe9\\xb2\\xadG\\x16m.\\x1d]\\xe5\\x1c\\xb2\\x17\\xa7gqM\\xc1\\xb5\\x05\\xba\\x04\\xa5\\x1e\\xb2\\xe6\\xe5\\x03S\\xfb-', 54: b'\\x8f\\xf4_q\\xbd\\xae\\xa4\\xfe\\xfd\\xe5\\xdde3\\x15`\\x8e\\xcej\\x0c\\xa4\\xf9\\x0b\\xf4=\\xc4a\\x01\\xc7\\xaa\\xcc\\xc1@', 63: b'\\xe1\\x06\\xdf\\xce0\\xc1\\xcf\\xe8\\xfb\\xdf\\xa9`U%\\x8f\\xa8Jw\\x99\\\\b\\x93\\xa72,\\xda\\x18nv\\x99x\\x05', 72: b'\\x99K\\xd3\\x8f\\x9c\\xfc\\x19\\x84\\xaf\\x19b\\xab\\x98\\xf8\\x93\\xb1n\\xbd\\xef\\xb1_Fn\\x9eO\\xad\\x9ed_\\x86\\xca\\xef', 192: b\"\\x92A\\x1c\\x1dU\\xdd\\x98\\xe5\\x1bK\\xb3'\\x88*\\xeaL\\xab\\x0fE=\\xdf\\x0c\\x80\\x1c;\\xf5F40\\xa7\\xbf8\", 211: b'\\xf1\\xfd\\xf8\\x11tRh\\x80\\x9a W\\x08\\xa90bY\\xf6\\xe6\\x1dVp\\xb9\\xd3\\xd2#W+\\xc0\\xaai!;', 219: b'g\\x83*\\xf8\"_\\xf6\\xcd9\\x91\\x95\\x80r\\r\\x0f?\\xa1{\\xe8\\xc7\\x01\\t\\x88?\\xfd\\t\\xf2^\\x9a\\x9a1\\x19', 238: b'l\\xc8\\x0f\\x1a\\xea\\x1aO\\xc2Rz;]\\xf4\\xc3hV\\xd4\\xc3\\x8d\\x9cS\\x8f\\xf2\\x90J\\x9a/\\x00+\\xab\\xc7\\xd4', 249: b'\\x02eMZ!\\xf78(>\\x8a\\xec\\x7f\\xfd\\x04\\xec\\xfe\\x0b5Z\\xd9\\x12/\\xe6;\\x1f\\xbc\\x08\\x88\\xba\\xd5\\x16Q', 268: b\"\\xff\\xec\\xed$\\xdbN\\x976\\x05YE\\xfd0\\xe5>\\xb2I\\xe3\\x8e\\xf2\\xfb.\\xbc\\x9c\\xb2/`,'8:q\", 374: b\"rJ\\x83\\x17-\\xfd\\xa8\\xc36\\xe4\\x01\\xba\\xc0\\x12\\x0e\\xac\\x18]\\xaa(\\xb4\\xc1\\x93\\xfah'\\x0b\\x87\\x06g\\x8e:\", 378: b\"\\xdd\\x02\\x13\\xc1\\x1c\\xef\\x88v\\x97 2\\xcc\\x86\\xf9\\xab\\xfd\\xbf\\x97\\x85\\xdb@\\x9d\\x8b\\xf6\\x8d\\xf7\\xde'qz\\xf2'\", 474: b\"'1'\\x8ei\\xf7\\xe6\\xb8\\xd9P5l\\x8e \\xf9\\xb0\\xb610\\x86\\xf2V\\x84.\\xdc\\xb1\\x1d;\\x0ce*\\xe4\", 485: b'\\x8e7\\t\\xb5\\xf1E*\\xb84:\\xe1\\x99\\xc0\\x1f\\x19\\xcdR\\x91K\\xb1\\xe2\\x8b,A\\x1c\\xcbOS\\xa0t\\x8b\\xac', 505: b'\\xec\\xaa\\xd9\\xd1\\xfd\\xce+\\xec\\xff\\x02f\\xfc`\\xf6\\xeaC\\xe4v@\\x12G7\\xd9n\\xe5\\x9d\\xf9\\xfd\\x1d)\\x07\\xee', 144: b's\\xe8\\xc9\\x8a-G\\x10;\\xeeG\\x8aF\\xd6\\xf3\\xd0\\x11\\xa8\\r\\xb5\\xde{\\xbd\\xa87\\xe1O\\x12\\xd8\\xc4\\xbc\\x1e\\xe2', 174: b'\\xab\"\\xb7\\xb7\\xb9%\\x9e6\\xca\\x1c\\xfc\\xea\\x94\\xd0\\xda\\xe5.\\xcf\\xfa\\xbe\\xea\\'\\xe4\\xcbc\\x0fs\\x99\\xa0\\x95\\xf5\\xda', 202: b'\\x13d\\xfe\\xb4/\\x1b\\x0b\\x9b\\xf0}\\xc8X\\xd8\\x9e\\xe7\\xc4MF\\xae\\xaf\\xbb\\xa95u\\x96)\\xe9\\xa7\\xa4\\xc8\\xe1Y', 233: b'\\xea\\x08\\x04\\xa7\\xc2I\\xba\\x03\\xd6!\\x00\\xd6O\\xbes\\x84\\xb0\\x80\\x95N5\\xed \\x8d\\xd1\\xbc\\xac\\x1f\\x95[\\x9b2', 235: b'\\x92\\tg\\x8em\\xc0wAd\\t\\x9dR`C\\xdb\\xf4\\x1bb\\xcc|h\\x10\\x91\\xf4\\r=\\x03F\\x84\\x855I', 247: b'$\\xc5E\\xe9\\x14\\x1b\\xa1\\xe0\\xa1\\x18\\xd1\\x9b\\xf2\\xae\\x1f\\xb3\\x88\\x1fEI[\\x86/\\xb2\\x08oW\\xe0\\x9c[\\xae|', 263: b'\\x14\\xbd\\x06I\\xe2w\\xc0J\\x9ea\\xcb\\x1e\\xda\\x10\\xcadY\\xbb\\xa1C\\x81J%\\x93cCa\\x7f\\x95\\x1d\\xc3\\xca', 361: b'\\xe0\\xee\\x12E\\x98\\xa5\\xcb\\xc2\\x9b(/\\xa0Iqa\\xe6\\xc3\\xeb\\xae\\xe1\\x00\\xd5T7\\xc2\\x9c\\xbfs\\x9f+h:', 364: b'\\xce\\xd3\\xc54v\\xda\\xd7\\xb8g\\xa7\\x81\\x82\\xc3#\\xb91\\x80\\xa4\\x1c6\\x1fG\\xc1\\xcf\\xb7?\\xa7\\xe7\\xe2(\\xeep', 389: b'$#\\x84\\xe0\\x1f\\xba\\xebV\\x02\\xc4\\x9a}\\x9c\\xfcT\\xa9\\x8ev\\x0e\\xea\\x94v\\xc0\\x885\\xe8\\xf0\\xcc\\xb1\\xe59\\x87', 413: b'\\x13\\x04V9\\x92\\xa3\\xec~l\\x93\\xd4\\xd1\\x07\\xcd\\x82-\\x00\\xf5\\x00EO\\x1b[[K;v@\\xe8\\xbdrY', 467: b'\\xdd\\xd8\\x91\\xfeG\\xd8\\xaeB9\\x19w\\x9a[\\xea\\xceJ\\r\\xc8b\\xf8w\\xbc^G\\x85\\xe6\\xaa\\xd2zI\\xf4N', 21: b'\\xa2<\\xfd\\x89\"w\\xd7\\xa6\\xf9\\x82\\x0b\\xe41UF\\xe8inUe\\x0c\\xfaq\\xa6\\xa3\\x14d\\xc0\\xcb\\x9c\\xd7\\x8b', 154: b'\\x186\\xff\"\\x06d\\xe1&v/\\xd8\\x10\\x9d\\x0cV>\\x16\\x04\\x1dOYZ\\xf5\\xaa\\x88\\xa6\\xf3\\x90\\xf7\\xcc:D', 171: b'99z,\\xc5\\x0f\\xb7\\xf6V\\xbb\\x84*\\x16\\xc1\\x9c\\xbf<,7\\x12AD\\x01\\x14\\xa4\\xec\\xda.\\xb2hk8', 256: b\"\\x88\\xd5\\xcb\\xb1\\n\\xd9'\\xe1\\xd3\\xae\\xd4\\xda\\t\\xc3'B\\xc9M\\xd2\\xc9|\\xd1G\\xb2\\x86\\x92\\xb0l\\x18^\\x8aM\", 156: b'{\\x9a\\xb0\\xd8\\xf4b\\x86\\x91\\x103\\xf8\\x9e\\xe1\\xc8\\xb7\\xbf\\x806\"\\xf3\\x97}\\xcbOP\\xb4\\xd1)x\\xde\\xfbK', 492: b'}\\xf9G<\\x81\\x86\\xa0\\xa7\\xf3Y\\xfd\\x17\\xcce\\xcb\\x85\\x80\\r\\xac\\x1f\\xb2\\x1d\\x87\\xb9r\\x1c\\x8b\\x1d\\xc6\\xba\\x8a\\x86', 456: b'\\xd3\\x97\\xa2J<\\xe8h-l\\xe6b\\xf5U\\xbf\\xfb*\"\\x06p!\\xba\\xc4\\x03\\x93\\x19Hv\\xae\\\\\\xb3\\xaf\\x9f'}\n",
            "taille de la liste : 512\n",
            "clee publique : -----BEGIN LAMPORT PUBLIC KEY-----\n",
            "K+7Nvx14H+atJr7RIKKaS9nG7NQ9WdBjMitq8aj2hX29evuLkS7o97LmtuetYkSN\n",
            "JUBdpLQV+UwHZDxdnmr1WCZYv6mIeog63BE34ol4xxElRgQNR7Z5wWvqnTqwxtnn\n",
            "aQHicS7QXxVFNFA83kezA+HrVNWWTVzSiRqrbvRUq+bO8TP+IbDo0kLIfkGeeTnz\n",
            "5WUswVVMSoaobg5ufaxbHrZJUVjQXQQEdImbiG6eSMOS+9MlgosfglbsCXjAzE/r\n",
            "LubUTojm3W9RZHybtPl9jEQJsIG1c+MME/uLhdrzLmwtUfksFjG7E0/Qs6CGF6Xf\n",
            "W1gPiHAdtVYdIf7o6m5ZLFUtO5MKNxNee7SRKFLRWAKiq5yBgZyH3Nu3zdJ9TinZ\n",
            "FEZdWk0rcUKtIHTIPAiKxIm1vFCuJ+U15UwvYDZ1J9SgS/OhR5FVELLvOjZT9Ohc\n",
            "ZalBSOtDxX1zKqS4dx590czVJ+eJp+xKQciFixYSySB2ebxTExYFriUTM1NcnrIP\n",
            "YD+D4axnjbWruY7iPOdLuQgj9aMIwFrP9dvgrn7wIDStxUNa27+V7N3IQU9wdaa5\n",
            "+16bwMRMDHkLAzZbQ198wPV5tB1iqkCTQmgwn6TcfgmOrOx9fxWmG1jaAreRCUJZ\n",
            "VnSefDiClkkPeUDhsNL2Jh3Fj0L5BufQcyx4NzpdHq/UFdu/eyc/jGq2wiYnl3jn\n",
            "CeCKJnuo11NnPcUHlu0oaO8Jsa6YT2ibWWaH5Wcu8MQ3Hc26lK5DCZk4JcgkK+pG\n",
            "azJWhg4p6jvb1Bt5SsthKfe0TYLbkyrrpYCGRk6WDj4XMnSSMzQ70Y6AhL9IXak5\n",
            "+fzDM4V33+A6o5g0Iv+J4VX791Pwt8ojsNfYajUAgMuYnudt17Qy0sy3F/FiMcxM\n",
            "hxDqhxH8NPdHeuMjYZJ5nCerPLseJwz+/LddIluvgGA23rplGQXRd4GwTeCLZATg\n",
            "MtVHWASNheIrhITB8SE9G5/wgylflRNb3N1FIpeywMhHGAiIrxO+yOOIMbiPnMTP\n",
            "++iBgisxPefjC/Q8sW8cUlCCYhi3C/dEBrpGg0ItvOM3ETq/kabTVWM1BPOeDEsL\n",
            "wNmsljxCskbqBaeEKDu0Xb6b2KmCdVSZq/5l3n0EOYmQhlT6ensGmzYPbrxI+ilN\n",
            "6RgrBupzXct4QAwwNJGsm523XgvZRoaAu5wLFhjw1CZYyzs5eWScO9c4MKg4fQYJ\n",
            "FVURrPH0Oq3A85pAwUhqTEn5F6/ozhXYAjF7HqVTpKheXHOK6QwP8T7o01kXjKrP\n",
            "Hd9ystLr1YQYZ4X20AYcGt5l1aD2d1tKG3xXPOJLg79LD5b1OkssICsDdGwWPrzO\n",
            "dg7G90FNMpBDHHjiTV5iL0MnQ2Q5QoaNmeMuPDSmLeSBUUfansaSDmkRHrVynmCl\n",
            "8g+dJxdkKRGylv8cAGOklTOGKs0A4vF/6SOf7jnthtgq30E1v1SnNewL8cUin+Y5\n",
            "Xa3V72voQLwWVliYvoyl1pHyOVsnSNaXJW8PQHzAQjdC5UjcLnsLK0Q8a1YyGTa/\n",
            "X/fOi4gLCnKATvbeh9HMNNB89w7ZGdz+f8BOuiGnJvwyDZbNzoRszzIoOdjxA583\n",
            "IVECjnaeJSlV1HxqlgouBfLJH5TGQ2uRkYK8BFd2o8h+MwzNgnZ+l2Pju2xzI0O3\n",
            "lX15NAM6OHiiF8g9wnFm5VUVmE3KMZeXnli220W/OULurWyjfv8WMrRbuB/G8Cmw\n",
            "42J7f7g6A/YGZ19JIaFwfQgGKYnc6Jmh1qIdzIKFhEGAMWDT6OGqG2lMlOpiTbfi\n",
            "MyZpO0NpOYlsgbuWhaXU8Idh4aED3zn+Zk+Nj9IvYzbHPUjarz6TDTmhJV134R8F\n",
            "pcbCsQQZJvPJhdJ/GsBD64P9XU+WRcO0gW5dhv9qc6IIBLQv/dYC5Qxm7ixm50Wj\n",
            "iF0ulm83dzRZ36Vxbt4PQesie6mrsMnTrhUdvSCdepIsYXmz7iZl+cO5LRePy+jY\n",
            "JXAT9vJBA/727l4zEy6xY18y+OGs6fVG7o8Gc9LrEk9OB7IbDyuzsRQUBSoqn57J\n",
            "x4mBObJv1T1/LCYZy3euDk65gQtAq4LjZJ1VOtaXxF4sk5f843zaotTheQzAVoPz\n",
            "dHq+iGIE8l7m8gNhR9h/9wS1RnAluttJtgekxfFZVnjz5IRy0IVty0k0SXK0pZOC\n",
            "Earna9hofrQWriXnL50FMVgn2WvPY52y3IZAXGWegGBY66OBlDzFzrcCwTDg29VR\n",
            "pR2B1HHRMtGsqSLGlbPJr75t9q0nfZwk2MpO3bYRQ7Yqh+UXbe4yvS0LrGJNBd1u\n",
            "hy9x5WYvOJ9h87EvBTKK9liRoJoCW3LeFhJoW7SifK6g7ptCyfksjwlNhsjPjahK\n",
            "4qynG5weGW2WT1qhk0GVqqCgNF+v3Xtlu6fNivEIhhWT4FCtSISBKl2J4DO7NbsG\n",
            "3vSQVhTeRcYuB/BjOy825aCkllPtyQRGI34EQoFo03hZCNcn/5WQdAIv6mRJYyj9\n",
            "eSgfqPd26D2TceUadw+/KoNPKtzVjjVM6/yxG9YRTdIOQfJ5+n1XSolmDkdYXVc4\n",
            "lWIyfxOUNf5LrV1OxeiX3dgdr0//an6nmdMPW7/LmNlqOxW+xyUdmRiFMFGkOWoU\n",
            "RMBraUAgX0t57hiqMCMIBxCbcb1oOtx5PYcKoKxJSzsxnp3aTKUaUAioxd59DXlZ\n",
            "K/POiVpuTNhD9wVl944IY7hT5NllBJvtDdp4i05VXN8xPMwcDHigZeBGHo2J/X8M\n",
            "t9uQ8Zm1S7wokJ6S5nVQJTpla19PyKOpGjNNCYtRJeLb5CcUKkuK1xRL9Rd1GQZd\n",
            "K2DrV89qRpV7LwxLpyQFOdtSCD3ZgHK5v0ON2oyw/bxtqagCcDQfnV/Bw4ySJTh8\n",
            "UJ9RtZow98CjUadw09n5sHwgraTuuqpZWToVIQsTR2+q0t9H/7+kd47lU0tK/kNj\n",
            "WmBBPCxbYzHCPOQKLbOXS57CV4+agw6NowLZX2PWRrXT7MkNz4UaXki00l8+/S6+\n",
            "8RHz0uLA0R5/NSo9ZOnkootuFNpuQ5dDnKdBfL3k/wXduNo8wFbcwhT1Er1ncFVf\n",
            "Z8gUMjgrjaj9cVwtotudL+jERcM/ki7MlkJsVLVVGGRFqReAJtAkwLXnue/uBme9\n",
            "x97vJFnJEp9jGFquB+LdRMX6tcLGwWwdBOWbuL3ui24MWWI1sSm9wW+Hl2mZ2yQq\n",
            "rYRDrVQ2J7kBiXNlZ2ZFizQzb3ZJOwRTU2BdkuK4ScADqa0F6rlBnsl31N04YpHD\n",
            "QAsuzDzajE2pOESsQ+Hk52kF2Tneu31qoH2cPx/DMgo0CnCV5IG63xnOoBjYXyjK\n",
            "dicgVN4+jneuhJtcXaL8CwkpHYMshYaMPQ7svc2hJp5G0inNz/vS8yxGhBsQUteg\n",
            "l8D6P+64B2s/WXQggvSi112qyxnaTxojK2+Wp/KxaEO72MI6kZazO7LRecZRl+tq\n",
            "aT+TC60zqpf+olqdPgPyhMvCBOaJHezOx/e4WR+gIsfHrIn5kNcpl3663O5TBWt1\n",
            "7LOvjoiu6SgwwG8oNorQvPLGD6Ffyv33ySs8NRk8uWtuJNeoAi4TOhJY+pvPvYLR\n",
            "PYTjmoMs8ZpRf/ZrJN1lXpPQ7elSiZ3l1+6xmTKQOqihtjCSVVJ1q3j1hVypn2zG\n",
            "XX6rgp1qq5Z/aRduBTZLd94oacv3QeMVhnaJVu+raUWMi4H+VD1e0vQEocX/enRA\n",
            "bJji6zz662f8qwjs8nTJFXjlC/kaZMKvh3BKg4ytUCbrX6nWzA9IUQ5yRX89khep\n",
            "0HfF+WPjLrxUNsRXB1UqXJX5X0MDgs9L014cmSwrtAcQlEiMb3hmpBuwMP99BbWO\n",
            "GIMAAKEDr5ZoJ9JdgVtkY+cNkRMILDTidyhASsmojxDlR/7HUl1CF4yFMFs7g+Nj\n",
            "3IMf40iDhotF7EYX+kC7U25vvzxzQsG6KJW4uH6Gxaw9Y17Q6XHWPvmdZ3/s/1r/\n",
            "D7F3fwgYQU2zRX+Kk+77VLHrBGuaVeu4I6UF0MaFnezxWyLte41j8qXl66t6erRK\n",
            "1pI4HJvR91uM9fLdxCmw6/vT8icE5eiBPDmAWdeedo0WPo4iNYp42OvPfN+zNyue\n",
            "u8uB//QJDFeeEvgjvJAYKBF4ZmLAOqxg6RQn8NTxMnbhkoTlTv3b5PUSruF9o//E\n",
            "KrTwUkDY20Df8eW9BNA15s3a9PFl4HjiwxuUetBCuBg6TJ9Er2N0ugoUR104HSEg\n",
            "mqfZ8eJyC5d88f9GkP1h1he8nVc9VrA1OTGV+3+Sd8xjvHo5KLftZVWal8fWUE9S\n",
            "M298eqagqH7HBxhpy8s1C01R1DyIKOai40bLybPMBBS1IS26HpPAP8XSye4z3uCY\n",
            "nI3yMGvUmua1ytbgrq8DMlvitzx5BNUe2BP7RrI4iShYd8rejDSWLcnrUH8yD5ld\n",
            "H/K8ShwHFpXSae4L6b40gOf/opWeautEHy8iLIIJ6Y8wuUzUc55QrS918gE4yH8r\n",
            "6DvX3jEZdV/+N6JOtbjvOu1ntGLy/nsAmjl41S/8GYgb0VsMnU27JBrkeOtpTRDr\n",
            "nvAFfuExWoR1BgQy3pFi5+qn5JTAApxvmOudfw2W8wB6hOcqLaqebxRs4tMtPzrX\n",
            "kQVniDXoQZ8jkqQ0uJjxlHCaSZIqEHRI6q9rxFpdIzc9Yi2CV3drw9OuS6jmLDUR\n",
            "NjAlBpCJhnCuoVz+nE9ldO/t9apcOUgNlzL5vQHnlyhMIlkoH/9cFA8vMPnu+oWy\n",
            "332PNXTLyov3Egh/ufzgkWJvlZYAA0gC3XeEPDiEd/OyLkPhBguR2SUOCCEe3vlx\n",
            "ICyvSyAMppTKujL7ahJa6ow6LOclRZSyzvbFo7sAyIAUFtvths2HRG2O5NLD3Lck\n",
            "ij+rOEEJ6PbGJSm9hoFtpE/XX8fKzUxOAyLxJnBD9ni0LPACaaDhkA1V2L10Saua\n",
            "vKrYovteZPlR9k567QzemymEkYNCR2RtLsPpOL818vL1b3PSKUJrCCQ2SI9YrpdL\n",
            "yU+OsCbObM6bBYESDwnAXNbyad4upi4tm0xB2hUCpzYrVHnt4IFVKXR/DJ8CUurj\n",
            "0iMC9tsmxCFS8NUgNxom7SoQ9qOBz29FLfpPraB39ke8KoAnPEkq+rNwJ2IPbrmP\n",
            "ANl9Fr/+Ur16ADj6ZydUXw4Vq260A7/maD+AJaXojMeKn8edcVqvm8PYhujS4N5T\n",
            "fS2T3+y6Ev23d2TFxIWbNs8ttLajbmsVgKPcq1gq+CmQ9mDce3jty9LVBY8ESuTT\n",
            "RQfbB6EZLWjft60FKx1cPtQIW5M3s14hao4Kvv/fAXo2pqqgwfbXw/qX4xxCrthe\n",
            "NGj8kMTnjLHlBfOa9Yv/f2Hyz3QAjzRA4OrqIxdyD1b6AFae/z6vA3T3bsAgGgUS\n",
            "YTqYFVL65PJPlWghvz1BoOR0gU0YKRwyhrTJT4n/bRzJf+Z0LIWQoWzwAxxhMJv+\n",
            "gZvO6LIqaa7aHb62YDAxgO30aMtiEuwfig4pMKCa6josZVF0wZXnFnNw7YXDYmbN\n",
            "NVYuALDDyFNKOgtyjrtqMnvjjhu1Lye37LWnE7w4yW+9ii2LvCGznprohADuwM7J\n",
            "biWRb8XnPd7kN3qRmM6Kys4oiSZE32b9ZcThYDqTp70t3xXgQO9nU1O7aogOWPig\n",
            "tCPf1E8YmowwThwmKJkRhB7vixn8FjYW7+oGz2Jyd8WAMLcj7Yjtw3InM/fLvma+\n",
            "gBq7ZlutklyxIoO/0ChEDljvJCLCaJs/muHnv8Z/TVKLPWJTRc+RwFJwkhasGpY6\n",
            "6aCglGPo+6kpaQ4mTjMfcgr2o/am3TdO7n4RLYk6pELi47xZxPwwRpmQLIvGYgKM\n",
            "l5CG4kxEX3mGnlRpodw/8kqBHdo5MVdqns9G0M7ySEu8dmQaib0FBSdfam34a1dq\n",
            "fvzSADB4k6F0wx4VVIoWGACuR3XYD5gAfwxOZ2nRejk5aYCWDly32PVMsgMOy9GP\n",
            "CtkSYK+OQD+gkd3GTkyZksX4+Vaqa2hkxWwlNcEq+9lvTHyBoiSQeByqaZQNfbSc\n",
            "bNwB2kheB9b8ZQYd7maw07WF6Z71ae/lwY/MalnF4KfYXl+N0RHYHq/eJFbO+xZv\n",
            "bu6HfXJuKRL9C/saFYsqkJ45wIQ6u8UkPktHd6oxYdQAO9TuoiCNahGMsM5N+RqE\n",
            "m1m4Y8dHjp4+ilceMit94cUXPkeuUYUU9fZtB6GqNRnOCaqbM7dg0YatAYGEtHfy\n",
            "h3jk9yWE5QMDUs6vS8HKuU1+Hxqf/6Cgm7Ob63N/yc/FqKRbLpAIT/d9XQzRxV5+\n",
            "O3Fb6795ZHgqCqABkxixQRo35wwjAn2H9j9/LkynDzXjmsSGaWy6/c0sEL9XdkmP\n",
            "ML8TbJJ33dd+jB4QA7Ml5e+cyXy/FF6V4PLHGAXXoSMzxQ70tzPrsLZDqarrMsIY\n",
            "QIj2QIsb2tclLVEqhYSE8JEk21fNytcKGRowmFR94jm/jNT6I5gZSvMNz5pNPYmj\n",
            "7xZyHTOCtfsGWSpBy3FMpNXpOarp6Lm/6DQS1FFskxGuvGdp2A51et96VsJf+icN\n",
            "Wv/g+FziIKv8akoYupQB6Y2R2vXk3w5aRWl/2MMgEgM56q7H/5FyKGRnYBC7AuFj\n",
            "RGU8vYCEYh9yXdZeg8oTtHU3JxvLkTakBnGsIwk+M4sSCugSJLhrnbo3Cz9A1NTb\n",
            "crnwU0N1/iTIagOSbN+JBEjemO7TB/wzKQ4N3DHieSYrPkYhBiCYPUIPFu4YDJUT\n",
            "HCjY8EkrMZdIyAwKvNF9azhyUHwnQH/VIqFWsU3mtlBnhwQzRN+YJr6nvrOMKfyW\n",
            "9P9HjiAQ3tnz/SG7rHq5Aj93dhOYS7xh3EgbSkCScWCLNAvH0p0pKVGMNV5HNg9F\n",
            "XMvJoe+P8LnunpijqEcP4z36VLDzCsb1SGBKG2k5EqWNrNps2FWgGcPexZ9wh8OS\n",
            "bn2p3wDRNTwgck7PyyCNPW8EBmm2HUZA/6aLs4TFrlJjj1Xa1o6BrfH8LgkDhi3b\n",
            "9eee0+gLIsRjA6Wynwe/rlT0sA95oBEQa/Mq0tMkQLC/rvA8WRfxIAEhJr7BRXY5\n",
            "7BM0wfb6UuTuLscwaASV/d6oDFdFGkeJ9faYx5cTjZdDRCPnRtOc7ABx5gc33Qd7\n",
            "QObS2qj7eMneR7qmQJrIu/+2zO9m9Y37YS0t7KiH6pUod+LhAvHnOGI6uEyBnIl5\n",
            "kO0gQhaBEuhX3mPf0VKUntyGXwGkvONAxzjaEdayoTRGmDSzJU5U35WVOLwJnoDT\n",
            "7UU5vxlhQrTMhODDjmzrz0TTQp1dw9QFXhG4V1olkMu3oYhGYECzEQ2ayW7Kgm09\n",
            "OaiegatTeGkHab77iSVVWsUAM264MWf9cyQWN8tBRT9mWYvBtFLW7u5aFfenOxwc\n",
            "d8lfzYmjdX0u0Q6mM/8w/eSmgXArWCjtHHcCYGCT+TSO03ltZ6bs57J+bPBV9WIL\n",
            "P//BuZeuERNyU1dCJ1wZf86F01OtlpFpb0fA5shZj5NasNxR555Ek35QH7OhPHT5\n",
            "wstJtkaPZPfqQKHomYar7tsL8eAFZOFq5sGnm6EFPG7JvmzTgN+6ZfEOjWhwXOyy\n",
            "JJeqR4sG82lqNMyaB/4N0ueNtPIMRP6hogHeL/jlc47OhpL1TIHOyQJakb9PDdR9\n",
            "f+1f9lMPGos3k5kROmaMuwvo4dsDOiZ8b8N7nhnJc0c9hu0ullOLBQAWJBfY/gUY\n",
            "K2wKuycX2ct2UJXzq1pL9fLx7yCqmp+IIyPr+I9CDGlJvS9Hw9pdKBlpUdAu3Pf2\n",
            "LLKJHSf6Uy/aJLEzQQOyOKcIsH33XouaA8vFrzL4+Im7jTW6Kzp4Vg4ENgxvwAzX\n",
            "K9I92W1oH40kfp+qsnJn13w2A+LCekxWoNnA3Wqwrnv1gdBHcJpoD5yatw4ukqmu\n",
            "e1msIHBAvz667m7yBQhkg4Ua1ifwaQZXFz+xQPkoMZCOzL9RJNxce/8inWC9kIoD\n",
            "u/gbtxsWU0EFKOkRhXl7jf8KzBFDXGS6OLQJrc7yRp+FpptY9SL+n2wu005569jY\n",
            "FaTgGn8AjaxW0JCkL7ley7ZblyiqYH1RnPY1AsB9korcbXe+QiA2mbtxpjDcAaos\n",
            "JV/1xiksW2kkZJFBba00uQqRzJ902ScwBuzlDamOtger/hgZaRGBvD1X4FQQkPZr\n",
            "eQCmXcB16owoT5pxfPGHEDIMRSWr2aAsIIHFyCeWmBOre0o7nEXAMEw9muUk2v1X\n",
            "XTzs7eL4fZ4M0p9o0ncIsv0gUie76f5n7gkr8bjWOnJfCYQsUtGbw6mtPezRsPwJ\n",
            "aXeFhWkWJR9zu437oH/BQ+eQuB+hTdCjwjytUSPrIkf4FaHHUSAV/06Dqr40j0tm\n",
            "r3lJjoMmU3TPEe3Hgpf8tdM+PXEyLlF/2zp76RS4pY+rqicrDmDBZducu+0Vxu1w\n",
            "VTa/UIKRV95RYmxYNwzUUavWJx28J6WgRp2inV2pobsmaNfDYa0i8A6F8ZHHYVp3\n",
            "rILGITcU5Wi8lroX+C/CI8AVxA2BjxEwmtDb71+ArSpayWysDsBB3lT0KGBtpYTr\n",
            "/f+K2VxgT1OmOpOHAp0boJ1v/9bQtAxdNh26SoGbIuIPoKHQ88OoeO3EoCnU6tAA\n",
            "lHNPg8ssTmFdDFpdNRgQnJcBOmyNaRVU67cyo0/xyoS4xCQbdxAmlRY/P3yICsU7\n",
            "VqwyU5Ui8R02/6QDhR+cNee7LMDw/S5deO7CE722kTYcTEOGlvkdALTF6M1aRN65\n",
            "Rwy49WbMuhsh/uv7/VwPFvBD4KyuIwgrwPn77Dts4Jye5j5Mn7ojOYxGaHFSeOb0\n",
            "eGfk4Nhox9Fip/DBj5RKH6i0BM+XYtUoC6I+JYrMwVlNz8dtWQcUEWG1mBumBkNF\n",
            "Xwa9DmlUClWgGon38h8k/K+AtpS6cfcg+nW8AQJWznmrAalXG3cd0XrZh8dZ19pb\n",
            "MnWTixYl7Xy5z7hFsORJ2SNBnzmpZjN024YYuMd9xbReB9Rxv7tpFrujj4Xn5td5\n",
            "t2spq5jsvwXHK6G2WEH3KzubZKnijmn1uK18y7b7QGjvm1KW6fwBpuDWF5wLAqGv\n",
            "NcuTgrorGTsYU2un51ceLF/LysqllwjLcrKhciIHW0PKjI82tQrqaxBumK2Hwi/d\n",
            "mlwfpoCw2EaZAw2LsiLirWnjgo6howeYYNjPKbtxI1RmVS7fQXpQVZihWzqXXlDA\n",
            "5RFJYrCBaNoN/OlBl2g9L1gAFKDFnS4VcM0KpCql46cuCqmTJhMG3vaM6wcBmuCq\n",
            "2Ibqz9MtQ2nbP6jZGKsYgMPiNt5iOsBxKz+c7/Y0kh0yTC9H6akl6203Z/fdtop8\n",
            "7Z3/3/D2J7Im61bbPt4pZxueZ+K7tF1SAg/ce2P1uXu6X+EqQZuT7VcX84HdztqK\n",
            "hgorP7VLkbjxkNZeY1CKXz94IsEYq4kN1309VGG5Cnup3+ubR6D7/1MVhAT1B/rt\n",
            "oOS3Z8CJxFfCsNf5SkTAS+9cYx0NyVP/tJU66dEwG7fsFWIlQV/+BcRWc/w/VLuM\n",
            "rm5cHd8nYpxxITuV1iKt/Alf6cP49el4bZyv0VOxHPU+R+jwWu2hZkuONB1aWX4K\n",
            "kTqR8POfSMj2DtPlX6b6qrTtERp4UN4QuzI4t66X7GGj7+nB/Z9F3XF0K2dQePSZ\n",
            "ePt2u5+vC40rHPeP65bzXUu0yW9Y3HVDvI5I0Bw23aolD8oyapZ9LV7ZVNieDWgn\n",
            "XKuUSCQ4cMk1rEiLIDVZbdp63qbI02IuaDchZeKzn/7xRB7RERHt6fhPrTH/R54n\n",
            "+DPbkhjORYfWtoRmNVzvgrvAxxGypo8HIcQznwOZOv4dhZc+KCc0DhZCsFYT6IfF\n",
            "E36fiKo0/8ag+B9yfNHBtA5ipjdLXet4g4yhOLFqQ5C1gS44UuOh1JOMtvQa+GMa\n",
            "hU2xkYrlb3tmsg/XsKVaZZZc3Uv7p/gvgIIJTj4lH+2y+ZT0c8JF8ypfEu/aU79K\n",
            "RiHUb/VgEaU9W38NMtdH9MYWXH0nQzAWbAugtOuxPYk0fVIO2s65OIhK+mPrX7Wb\n",
            "/o4m5DyQAeHw8uM7S5khzwfTtlcJVUFmbIeVBdrZp4gMeve1B08SYbWd54Kyk43q\n",
            "58ic5yz4CX5nv8PAcvoND4fNX0+qaGbSGpNtFuicZ0l68997mMnxBDzM/Z5r/I7U\n",
            "4QEqgyixEHQnUUQjgoHcl1kGtAIqKVLyIFHZAp2oXFM/4S/haveXUO9cZcmx9wZg\n",
            "Mw2P4im6p/zFR0khYIUbFDBNDhzhkJmzJDKj8ViqM6eHnqGm1oHInSBA4XYKcfwp\n",
            "9MDLM8Xxm4cbo16JkkVxAIjN50XrmENGs23tTn30Nou2n3xe+yB+4V73yjsm5DZI\n",
            "ema//DnmWbmy1QONq6sKSg9P3OtPNKyc7/U6zGkvfsetofCNryq5TCVwZrXQT8ai\n",
            "BfEGB6ZPXVnoZ4qmlwnJte69yQfc5zGoHle9CaBAC3AfJGEOl+rYHLesJApDZDfh\n",
            "D+Tcvhqj7YAwJB6k0SJue0glswnJm3rd1M+xOHbygj2CzhYHUJW42ULSX96t6ynj\n",
            "JeJlK5tztDTBUMPil7RYRXjoMsQ463Wfy3top+vQt+q/sJVQOU0OlXEa80RVb+ok\n",
            "/6mbXxv1OJo6urukeO1nLAQQGJOr2KlrECjbnH98rdrq/ouKK12+vS4CBZcX2NTo\n",
            "IVjJF8nUIlnk+lPxMcHCW7jObggyWcK1jMJEU+I1Ek4J9y90lTU3rzWZnK7Y4rAZ\n",
            "52Djeq0nu8+knPZqLUmuZFrraGCOrd0YyzPt6Itwio7T44/7StiZ1ys0ynCIcJMN\n",
            "Gfav7rBplq67PZZyWnzH2ETluA61BTs6IDMzuTJRFbx4l2lJQdeHb12tht3WZdRv\n",
            "h7i11D5LQai5XSARrAtikQoC2Lg9OLe+Mhgm8SNr9VuDlGsB54lNg6C1YeMiJqHZ\n",
            "WggGQszSHN5pQSSjKmii1BHVykMzSWXEM++nSudntBcqhLXnflKyK0E37uGMVVNq\n",
            "K6tsfAxH9pyDnohyjVG6cljNuGbqKYvs+f9PsEfVScMhW3jrQ9CRMusruslwhxjv\n",
            "9/SYadocLTVZG3AYz9BIpr1vTcvH/FhblhJLlgFJQw56K1R9P4LitL5NggZ3KfnA\n",
            "NDh1fnrPAzpXGmhGSEIyCSP2EVDEAmrwGMlIobCrjc53TBz4vDgqeueaaX9rdWrv\n",
            "Zr3RbjkhEpncbRyu7mblpMcbl8ChCCzXpt+zJyFyYw7vqtrMAD6TyHtwK0jKpLMs\n",
            "5hFJL+cnNbSje0VfT6W+/hH+c+IOIEjhMw5KfYEwlcRDP+ImDLtyuqtGUknBHN9Z\n",
            "swQ6GIOO0soNHEkfByKKjkYBhJ9iHRDSUWLeQ8iit2u8Phkz618LBLZWaKWT+Akm\n",
            "Nzkpr+sNtnhAwGZpKdUS7dCc6OmI4ZUiBtYXkK4zyonvmpg1o+lFje1nVcWFL9oe\n",
            "LXM/xwSwYtE0QmXr1IG3wrio3ONYx5pM+K0znniWMkNOd3GNyAmdaoumd0zUZFmP\n",
            "wziZ1+zlx8SG2eQOJzatL9heFUMmzeUiJasntoXkbuxlSGQgXthPBhuLDLfTc50f\n",
            "cVAWjmc2fbwEpAN2VodOfYDwx/lvPQ99WWl+P08AdwoKERVWj34MFDNCEYuFulmb\n",
            "g+FZlMoMfXdb1E8kFGaX1AdiD23ksfs8gylz21IDShkqXI5IaKHoeZ6V/mjq7NyM\n",
            "Fqyus5iTQpC/X2mcKeZzf5Mx8z6qO+vCYDC9R5VEpV0hIYBi4ptF7DjjYimNJoTd\n",
            "0BJD6RlioadNDw5lzGrwBZntFHI6hcK/waSzfSM0U7AuX9DBsBPH3iye1s+WHKpZ\n",
            "6F3sPCT9JuonXALtAMHA9Joze0r9OOYVFQWiUTDzam6R+6y6uhYZk8coKHugEuor\n",
            "iGljcloDvqHLp+VBTz/BURPuH7V/vW4EhJebmzlZvObASehbghwqJUt0wC6ZxWWG\n",
            "bYsS4tfLnSRd2xTsrldwf69shPT3C9d0Bg+OxWZK4gTo5Hli4dxo/ZAGQz865Exi\n",
            "Qq8Qbzbp7FriqB/MQn27KePjLiQvTz5Ow7dLpM/t9o47ib81XvwQotfAFCcy4skm\n",
            "QWbPi7gRLUddB4I9FWSyVosRQ13A6j1RsRa1PTM55MBgBFOULjIU1kXYzHGXDOpc\n",
            "oc8MgZE/YtrUHCyFKM0fs0nhcdqiXXPuo0sNG9SKaOfr4uDT/dhTaM/bQ9BxzEVN\n",
            "Nk6GfayjXVC8Q5ybznOmLu56sBxuwsjtIbLan6+Y8JNNrIrO2DN9OEfWY6ePKsUQ\n",
            "rR8CTEOdaeH/jBy2v2TZc4Fy+k3dlJvLoE3irYp/8JMVNkdRBlD+wZxukhXZWaGa\n",
            "ZH9p+OIdzPAaY14FUOqb4wdvbfgdngX3U6OOaxkRMFT9zLMpq+7kp9OueeBiDluc\n",
            "PYws+xbiplOMph88autvyf4ATET9KB/8UtAUX1L1ZiXuOL3Vi8EyYu9rGzuJtKZs\n",
            "Orn4NH9daUVO/tQwmJ+20fpk+NCEnMpH73k2tiwtjW5eJRyldgHpkJE/SLaA88PL\n",
            "UDcVzONimPJF9ZVY7ZDBwAqdSsP1Qol0rmyGccKAbDTm9ej2OteAYWT705Mz/ORz\n",
            "b+WAhAwW/jzaJUWIe5Ieew/pfKZHLviC/gU+pDAce20TGHrPeANsN/lyRvnd8o73\n",
            "0Ud6hhVLsnIZidg3g5QwQhdfusnag9ZMVLusLTMPJOesDEkXWYFcC+bBa1o69TRA\n",
            "o0QEz1fv5zJmKQ0xKrUcWYlTWkDXxwxvkvR/R7vJBh7xK/GM3Fg0jG81WUxSi1QG\n",
            "GGKwFU8AQ91tWvTenCfkR2HOgnBQBjEjmRXD0INTH6DxXITRUQDe7ksSNk7ufASa\n",
            "GpYlP3qtik7pd+7lmsWTKXvdG6deB4M1jB6+KTwz9qsy60GhyVCxNKZiohfQqHEQ\n",
            "CQvtLuIzZW/p2N6VWM38xka4lcthczv2FvbMNwxSyOiMOFtd0yhN/vn6+Rk9Hfrt\n",
            "+vAThpMUdE45VB2KUaESmFwiJCxbaTRPAOsaezVL/+8OXzDnCZkCj4zmrnGLh21Q\n",
            "5LsgDW/AMXIJJObEvq38k25Nr+X+3xD7Nis0TTSjWSA41E9v/puPDXr+upc4ROXK\n",
            "uotvR+m5VludTIVV54nvra7jr1IZVKhWEPxY4XBAz+ah65z2wcPzxhD0PJUBWYnt\n",
            "5Wlyt2RqdIKdaGXOxE6wYcOB0rY+00DO0w9aN8fzVB9enuiyMjX3P9pkQ77nxuGr\n",
            "d/zJzK8fiWKKeq+43/Q96JtXbapIZZP2x1U+EBFns6LMQzYAjskL4jbouiOyV3DW\n",
            "yYSl6ZGoY9+r0Qbpjc6rU5XPZ8VEWJZiyCX9LluowSr5a9y8Ru70oRstarAEc1OZ\n",
            "eubhHQ+OnWpF65IgpleAUUIKzwB6tWjzSvFI8zmjueWbEIs4LMPNd1R37L4XaTCE\n",
            "UHilksx9+WuSeQUwQCLd8ThoBIfIYeEizTH4kRBpevaMMf17XjNSMVPgvJZLFPQ2\n",
            "PWsbWqrjnWjwG1hTHRJRoE3au/m/PjoVXd9Y9BQWV3sYDSy9LIhheXYQuKoo+IjD\n",
            "B6VntaDUtO4a/EWFNvNnelyNaIEQ2jlDWZddlmJ4EySZIAiZel3wLt6NjGHz/QmJ\n",
            "HBTKIKlQHsuLjATUAA9j4mQmVyKTIam5kl0GZHV8liVf/DeY58HKBk4ckS1lS+nJ\n",
            "m2thRdGGnbL/kIinbLQiYCToy7xxh+OLUPVMVFd/LDlLWSWDEPBNQQyGak7ET9yH\n",
            "ASRULVHV5LKgOT+ngcfTmcM3ymR1185l43d15Ju4lWt8XD2ny+DJEVIhf2A6N8yI\n",
            "rkvPP0WJ/Sw/MrxwuqV5m3zH/QlC0j+NIUHjkBJcIgEfjUJVkejQsb+XORVWWxnw\n",
            "OB1UKLs6ZHNLJ/plcNuM11VIN37lfsRJNX7i+PEwQv1rHvZV+g4kRF/TlGpvpCI3\n",
            "ph+YZ9RESPPSxqKhfxhk3yd41UUjNn8He50zMDyYZd7FFjCkalusii0934E4Ehxj\n",
            "4eT4ZjuBgFlf3aRgAHVy9SAhK8KceDJ8FnfMngksC5bTmX9ndH/9fn6woizdLk6c\n",
            "gmnxeAFgec02dvfZZKRQumaKmdsHNJuzZ6xodXLLekD+otlcqppRgVb0tnCAIEfX\n",
            "vbuHGsMqKtuVqpkWDHUDTuAlDbszuFUUZNXwMOlwQcc+Q/SUmcWkuF3TYsCM6iIv\n",
            "gX/vPzQrvGmtx0ZpWZ7Yz4dX6wHUWzeNkpykyWJAeQ7HeMKqj3goKG0yN9lO8902\n",
            "fYd2DP1/pLH3eOMuoq2kCexIiy5VjSYgmfWxU3ZCTLw+r+TVO8jILpOLhA1edAdo\n",
            "IdxFblHBVBxZmzsBG2JIWb4ihOsRjI1ROvRHeYHk9O/+HAIixtRFVtuAhGk3aVfX\n",
            "op5yIX+A+BYo890bZ/wGqueabZvK8Ibw1UJ61LKnObCc98XK+8AuHpmDsLChsxx3\n",
            "ToN/rWluOTGYZadIjmJjcitzp8ZP8lDBSzmhcfkQji/qBss8Wa2SR8ywsxPPGXgy\n",
            "/wzy1beSjAg4BoqRuUnJqdRH8PjWpApvn2BZFI6D5lDDk4ePXvn++JqSgBZcffwA\n",
            "fIydnD6gFuMP60UxoYUGi2gBo7BNLvb9lWKKugzzhqQY1kkrTGEc+AHGrif21YyH\n",
            "Y59BhVyTZZKXQONIXmEFV7xI94rVZokenhKx0dG5Swjmw1673/fYOZgtFvG50HUB\n",
            "/SD6bffnINh5UOp1O0aRgE3jV1Ym21yGkbKUI9hkE3g6gGnlT8e/RMEytz/f6iJx\n",
            "P5elM+O177/A9lnXQb/aPnDCskWxzgNnFZG+vp3TA5NuohCLzmkyvcy5EPZ86tLK\n",
            "WqZzlLhNUyqZYYvZpjDBHqVIgJ3wjPtMjDr5MtyZWcR0sZe3GxZ9UmmlLVAnPc7m\n",
            "6BaPALhsDDbNxZO+SjoHtONCykhBI51fzwNNFuyIUlPSGBwVyY6OJSAgulJ22nw+\n",
            "zx6YPo4oEdmy8L60QKkTsp7DrJpG1JWuAW/rGCxI4Ilbhv1sZVr5xbPQ8eIeGp/r\n",
            "yTyS658KcCiITEYc1/mWWm91Ntoku849eYRHxzBqYx6L6esUkCXCzuRusMDxwGM4\n",
            "8NZh8Y/vOcXx5c4Rl2xNTQ58RE45mi4/89YsUqaqFuWpqLUna5Q2WOI62VZOPAcz\n",
            "kWS1U0NXrXW7EoGuZSavYETA6+mojY+ucTAJb/5xB6yu4pmAaaFxYmjzQLV5sVnd\n",
            "T3IUvlQ78srno32gjBLsoQvBz+6/7zE4WT0HMyDMmzEQRcJ5tGO8h5yGptfLSOaF\n",
            "A0q6AiuA0Mwl3cIDHVicuM4VEvKD2bYwT9+HndLDNT7bn3UHUvXX2U7gmv6umH5l\n",
            "rMOk7UbLspLcmaWvcuY5SdSGGcoYoHyK8/nRAFBeYndNYJjC4jr+wtT6/I8Q2xEU\n",
            "aerLQuR19LIilgQP8pC+f67vppGu4NPK0ToLvGhki72mwL7AFSD/0v+e4pgxeeYW\n",
            "AQXz/TGffrSfj11WPlHmoaohR9UDuzyjez89HJGzzNKfnrabo4ll/1m74jQsJgU+\n",
            "t7usMecBpYCnQ8HdVJggbWVjncuKnvmmezXyDcpVv2rGDuQjagxQacTtrcpkMJ1h\n",
            "rDc3wqKP8EtDqUip4Ol0fRkd3QPV9Hm819nxWg87ltciAUufV6kbImLSVl33rJw1\n",
            "UrVzrWNdp55SV+0QlIEEo4eTsp/94gBfZBcxsXXYgUhDtRqJnPPRWEBVNLdDPMD1\n",
            "Kv5DShEQ3jv6GZGVnAORIQev0TmolonxjtNL2bJ7zuU5bPEwyxzlFq6c6g7rgtO6\n",
            "C0GhkdGPZp/vtLKCJc8epA/iTMZiK/jFJlBk6DBNqqmiZcA1ev2Wk6C3OscuFKAe\n",
            "umjVmAKPDwZFyCCzQPeawmhUbn8mX17iQGWmv0mtPaxcJGJQ09pJSKqMJ6vAMLVU\n",
            "G6IHZW3M8ZoSUW9lrCT6G48cP8CcOmNoziiZKCtdr2EOpUIhv4b/NIUqQtOYjU5y\n",
            "l2VfsAsVQnTrkTlJE8rWF+2UdRZF+N7gvCXcNis7mi1ebV5TGQap3L++l0vPwAqH\n",
            "l07et6Oj0J1N+3rPxlg+oUYSCjYqZcOmRrvvZYEl4ICs25FuehivpEP7w+Id0rWy\n",
            "vYT6XgSM9FIt40ujmWXqNvZZbFcR24ygK9MVROL4kccRWOzedrXQc69liMVxrXoB\n",
            "s7a0xgC0lwNq0FeixzEraBqYhSJFZ4mkst7m9d36hjBgr8HxEax8KC2QZ7FGzcuO\n",
            "o5Os96tdAz72P/qJrPhl8WJKBfRFfLECVr81bMDa+PLVeSMnaB0u3DczCXq2mhaJ\n",
            "GOnmDQFl+SHfiF/5RIipbtPFvS1AcDQbL0TLnjRK2VIwFzXrQktaoP9wOtI3YVI5\n",
            "pKLrvB87KjSaXVygjNWbE8CthqyXmk1B4XFRer3fWbM7njcsfVqf+Wa1OGqMWg+x\n",
            "enryjCj45xZNeCY02g3Ru740OQJThmuUCuLOLWPB0HTFtp01mY14dD6o8zVmnctk\n",
            "79GMzXicqR7pHd/ONLdVjcztotI9IThpJZCoR7YgfvQYL5Mks0v94yOIOGAT1nY3\n",
            "8V+ugBuOx/NM0nCy7PPb9CuK/sr1y/SWjnn49if3TwtYLZjYmGQCV+BOKiOndfO6\n",
            "JIn78fxuDGdndkFblLso7QXM8WU0/Sq/Pg+0/J5OQYELHPg1hEeDRLMVn3gabizr\n",
            "Uu9/7I8gsqnvQuyr+AdYs4VfL0BJ1PD1mj1AsCRrssfiM5SpBwB08FamyULIeERW\n",
            "5rqmLY1/e66RKJpdBQK9wTlK9AQrZYTpnIXtZWWFuLH/VQKKtugF9DHxpBb45v1k\n",
            "Nv17FBxt6hMGBv6RP4Cu+xiEhS+dGMxVYyqY90vWL6ia/sP+NvHJkbLFWT5xaAlt\n",
            "w7ZHeOubopO6GyWVzi7OGmZ+eqb7PjJlGKJfWE5/cGxWYNKxoAv/84eJUUH9LVtm\n",
            "DD3Ae1CIB8yTtox1OPvZ6OxqGmLRZjKBQxFaI9U2bSsJzmcD7pYfQ4i3P1RciouA\n",
            "3Sg9qmmE7AucxZf6cIzuNTfT1F2/sQEx1zoCEvJzan6xvPkhO/gWJCfLFnAGArFl\n",
            "oAjhWovyfaUZ7aPZiPhxBFI5eVqK1mVjHnB4qGfaJDAMc7ow17/Cbq09sXn+ftMe\n",
            "3cBH0ol3P6sFBBczCES7IEg+OKSxHg2jUAHE6njgwzkDarAUmDCe80fddaiSreL7\n",
            "Lq2aR90VOzbQC9U6br25xTqI0yVJnpiovooR7cF8b3CLrtSukKJJJljcHPlXVft8\n",
            "CgvDMaVA+/Xj7hqKDKPmUlNVawCvZNDRfMoG5kpRww0jGitBbTo/6er+xm5uFT5s\n",
            "pSodAL9CgV3fkK8at2WAMSr7A217QA66Q8y1P5qoQxIeJNnaAiIq4Kd4Hj0NPde4\n",
            "O0DSZdpT2+8fW+qobqdJkTm49QjWzyNkKSdHEKnzwdMC+DKEPBLDJnOXwTjrV+xO\n",
            "X/I4RDv+M4/5ZPwzHoRF51t4AkHy8uib0Yzk0tX4IipWcAeWt90meakexp7hMFSz\n",
            "1dAJ2KQ0wrDBNdbEyBwUKC99mNhTN6fWU3Ghc4Iy5MBjDihAcmgliZ/zJAfrChVL\n",
            "0PJsSuRgGiK/7Fhtj+jWV+7AV4NrX0prBRx/NASP2qugVb9GLnMTMV8NcTkkFWP7\n",
            "/6lgjyiUAz5BHfBLhhYqEyc07i2KasqNgGVYfOB8B1RDT+MCBbNEGIjVLLRa5rzH\n",
            "KMmm8HjVWxWN9uYbGHIhT4rztbZGbsesBQKqswirfvFIbvh9egy17l2VquWRF/sF\n",
            "onPem2KUUHpE90o7ZlGq6qYQrIWLGiVLOmQdkRt+F6GCj4/fCM9h2kbM1DFhAbNO\n",
            "HtulM1QK8j6EM38blWGEx5ilFbqxGolUYAKbeTqMMWIJ0sJjdkC24hpksehJh8x9\n",
            "bqokMD4nILFw1e0k6m5A0cl+rrukSXhYr9dcre8QtdWQB8NyioI0uSjYU9cVl/un\n",
            "VYDkQpKz07cB/jswQ6G/8y7mxt9Wnav874qhcQL4sSRJhfM5omQj/RJg4INzSBSa\n",
            "MDMK7RXsaunHxGht7g3lvKZC2s+mSR1TxVHV7Nev1JNTzxqOL8hvUNFDYzLDsrVH\n",
            "2hfueAO3qVO0PG6RKdLPcwYi/rAH1yveo+US+iMT+MklOJS3F+YYwDYYvEdggVja\n",
            "hHX85UjZ/KLjTCcmxw6jDKpp9x8zjir6G+7odw+pICW4L7go5AS1sX99fyOoyJbP\n",
            "N+EWQEU9GyYIcvZQGNQfTLFEewrBNUqUPNlT5UhbNHoPnpAFarCEKLgKDDrh97bD\n",
            "DgvByK5iwVnIZC/FGtXrSr3wYMeKZlBpjmotpeV4ljnGhIZeQF7FLu6x0hnYJify\n",
            "hsVrVHA28ilZho1KDw/m4qNLMKZA/1v7f5tP+BxJ3x340ZpbIQvX2raUkXwDBUR5\n",
            "e1vvCfrbYIpwTM6JHQi31jVfUA6RJuBY8g3eUb3wJcMwBWwRJJ7QwVTToDUnXUPG\n",
            "Cd6xstJHh/l4jCnkuRF2hDhAy7zrqKSx2VjuVj9bQTVDySif8GnfljQyWSrnJDC5\n",
            "pnXg20rvtHJzmNn2KoT8VhjetL+sqMjQj0tnkYwBgDi0hYdnItapveNunFBcKVtm\n",
            "26XwWW4kKDK3hh8dk0dvx8aZclUaPYARtD5hJwe/z97z99jpmBf5M5aqh9GaM369\n",
            "waURWXVHk4/zw6HiTqU9cceNoH+yMZVCj3+2l0deALy6rmkXc0/70SskyNwvUksD\n",
            "lQKhJCQI7dZNjyZQnh6ZCL9ACNj55RwMwoRDZ3H7UZlIkbSdHhEPjeLB5GSdJkfW\n",
            "5hDRPSj/TA+6qG2k2/DdB5tqNtTXIFFObUd5Nv/k+enAiACdDDCuQtxNk2BvUDy5\n",
            "6r0M5oDyGE9TbO975BvyungTWRVaJotHdPAPZ2FZMkkpzuE3AekdPoVWfTNG+tcB\n",
            "BIDUIW6uUzzCuRIBAAoERsxP0en3+ujEuq3ikWfXWHBaUNp8JON1y8sjwlzKekIq\n",
            "DlHZWvlEs6/jJqtLlDol226Tnp3gCSb5OcWvoS/VcFnJhq1W3I1PABxZLWe7gF7m\n",
            "T9ZBv/VGP/jxIEV0M8Yucg75Bez9xyTqa0BH1W2VE1Iw4fgTmjFRC0PL2c1U8b4x\n",
            "Tr2Td74kAm+GpA8Nk1H4nMtIMn/5sdpKObHfudPFpNtW6dcYCfZtafK4GeNXX6af\n",
            "CTL6NcCTPbpGyXCndgyVnrR5rf6zDrIf3q9ECr1jddeqt3vHtnNYg4x+LqhEhdlc\n",
            "LRPOiQBvXTxvXF67VvdiQN+5PlNu9emZ5uC9srm1e5Cz99R9lMIw0w7Gguxzj7UC\n",
            "DBhDNQCUyqv4gmX+Nr70nsZRf06dctiFnJbuTGRs1zDoboXnf2+v+P/HeGPiCA1C\n",
            "JC6PJyYj3//1YyIAj4YwEtS4UH7VGp4j9k0nipowjw9DLC0xzH+FVsNp/0mj/o+j\n",
            "eZnAP4PO07RYck8DfiX14nPYux+l+cyzPA26gMdMKtf61dT7xUSd2TzRe78MU099\n",
            "IAAfmfHLRHzL7btE6ngftz7yCGg0Gs6ct1cpg0N61bpEL7lVl4JVlM7aW1XcqnH/\n",
            "FU7CoH8uGTlZa4SDEKtECLCZ02TMbofOu7vfCnfC4T4D5FwcnuqwNd243XY1t8KW\n",
            "LEh+QwkPaZ+J20OEw9diYUceLmcM/sI0+F8XZ14O02KvHpT+PalYiyqmIujklvYq\n",
            "8uM6EAbphk+2NqjWUftygFcrSPqLcjH4Hwf6exOZFNZA3S1vVOB+GrYxMcri2SVJ\n",
            "/19KVhDYkGdboBEOLePW0q8ZIlQj8q/PxwvOCf7l5GorCBFFFdJLn9zeGBz03Nta\n",
            "cCym9Kubmel1edSWIvzfM0rpzn8CiN06tCukemPgM+P8WMaR7ENWDdR+DS1imX9S\n",
            "sAHMrzuhkZib9S2woDWjQEM+gjnYHWsmc6pdAmoK/Bwii2jYn54u8jTkM3ksBJub\n",
            "Z6PYFQf3dciumNdiUCadDXBn1B6DcjS+ui80uj0kdApIZl/7526ZuGESHXbclckT\n",
            "pawqL1LG9jloU1FBBMmDn/ldmq8AzFiHzfZx7byfZRrUSR+zkpWg59spIX25ea4C\n",
            "TApjMzW5q/Wnd8akkXNg88gLldk6Pi0xpMimvlGwcaBuzMNUo+50QuSWFsGa2gLS\n",
            "1HJ7GdHRmuuHKP+b/2nHBH72i2gwmp3Ehy5zAQKGpIR6xZFlWZAWkPL4FPDGMjkn\n",
            "wCI1XoHsLbBxtVk7tFlCwUM8ikEsA6K1yanSEXhXM6PN6grhi9cbs0/Hn2dLy4Qc\n",
            "JgqDoiovO7MMwKVAsIsK+VMbHqiJ+HSPx8NtXnVKIWj/SWWMecymugeAWyihWZ3K\n",
            "eYpNRDyOQDht3lD8R/e5nM7Gr44N/x+2olgC6Nz26SePMAzmLuq9+mOyjlfCkn74\n",
            "M/HjYJulM4w7U39QK/GVVDOgSubfz5I0k1UbUTGRZ08AdUR2RU3wgcUfOj1fJdC7\n",
            "e5DJ4ndsw3220DoRo2DUUmaTiRtU+hM4UpDPHyBAV77KOVVvaBI0NUzigoB4jY2+\n",
            "y2HPUn2XUcJbbXIL+XEeeZbF/Z9yQPzaEcNQsvA2wInw82iU+0iEjkhjd95x3H88\n",
            "GxR9typKixpYole0Re1OkDhFokiHawGnqaptT6m6TBRq3L+TTuXxsAOP0Cxc5syl\n",
            "a0eCR1CKNpQs4UOIlTmeYfQMs4H119WW1XmtZ9F1yZDjbEivqppDzARWfLtpifGi\n",
            "1Db9yy4rZ9CcPX1/OwX0JSi8fpEavMlxZYxMRK5SIFYc8IKM/AGtPy6MpKML0jGj\n",
            "V8v1y148WnIY3ExTVtKmlDdQNPaG5hgoBo/ahhAnCPvcAIxTIw0kFThCYFzuNFaH\n",
            "aqqQsjvmVoCeASaafHGOiGIkbCWUa6AGaNbDy59AGuD0OsOcfpoPUStQt799dLk0\n",
            "/lEMKyei7oGhEp2xbwlKWxP23p7jU1KSKiT57gHa6BIifL9UrFDveccdTwxQuyx2\n",
            "cxZrv+bhn0m1aSiEc3A2zLkEW2oVBYEP3+ojtq7gPLS2Zho5QC3jI0fghZJNTQw3\n",
            "PQL6ytVxFnJbbpFyyXMEF1/qvRzjyKDOPoX2dsU37NHCe7UeYv/JGzCT7qrbX/Kb\n",
            "84/zvSneSKWeZbYLAx7ERzjgGmVD1M+VD9ibcpmCfFCvQ1HhV+C81QdhCK9TQxb4\n",
            "bS/WNK+OnfcMhFzf0XWY+jELtPnFRS/5h05vGkxt9n+fg2aw3NYoOWrc7i/5JqSz\n",
            "8835WxTG74mzUmSL3A5c4TsYA0IOpzxj4zDwK5yL++TPxIKONNKAm0foqZMIM9/L\n",
            "839SvwoypYiROEm8qaB0js1XC6A9QxQrN+CtowfPDZTAODurbMCVq5zr5roCODzu\n",
            "H91I5+3b7Ud7oB3FZPRpZIv4AVv9SoPYk+pt0Sz2VIWqn5p2WEdpBxpMb7A6UrW/\n",
            "KfRgl8K4wqQieDtyNIdXGqVNNxuCkCKM31DDCfhScUPsrOexZB3rQ8q5MHi0bYTA\n",
            "HxoJLwu/HHiEUvN+bb4zzE734aH8fMiNIzn605toahokchsQtLklDEDdOM9DzRl5\n",
            "VcTdqRfqsbEn12x1xkdW52HyAJmcBYcQtOzCQ4wzXwviH0jlscIn5RoJfXVT8y0L\n",
            "GoV62J4b3E+eg9hHARqOaLyer1E8UcDSA+8pFx2m2TLX2wWPIbQCI4P19XnPUPst\n",
            "KSRx5+2Syo2TK1g9BHN97fcDhEfMT7upxlN8JrTT+PW1VFT/mFpoWpAOyXbOCPs0\n",
            "2rbaqfvu+SsO5fQAyl2LzMn0qa0VpSz+BUORyy0K0uB7pEDWlsna7lMAovQYMMOt\n",
            "7Dse/Nk85Y9d9q835JOupDKOvxqNdjMoIAF8DFBMhm4q6zybVKmiZT77iRtoi992\n",
            "/UGK1XEsSvxQsbvF28vq7Q==\n",
            "-----END LAMPORT PUBLIC KEY-----\n",
            "Signature hexadécimale : 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\n"
          ]
        }
      ]
    },
    {
      "cell_type": "code",
      "source": [
        "from sympy import symbols, Poly\n",
        "\n",
        "p = 2**64 - 59\n",
        "\n",
        "mac_values = [\n",
        "    0x540c2d0efdef8f21,\n",
        "    0x0785eacddff7c1b9,\n",
        "    0xfbadce83ea69d5b2,\n",
        "    0x080724b002317b6a\n",
        "]\n",
        "\n",
        "X = mac_values[0]\n",
        "A = mac_values[1]\n",
        "B = mac_values[2]\n",
        "C = mac_values[3]\n",
        "\n",
        "degree_R = 0\n",
        "degree_S = 0\n",
        "degree_T = 0\n",
        "\n",
        "def lagrange_interpolation(x_values, y_values, degree, p):\n",
        "    x = symbols('x')\n",
        "    poly = 0\n",
        "    for i in range(degree + 1):\n",
        "        term = 1\n",
        "        for j in range(degree + 1):\n",
        "            if i != j:\n",
        "                term *= (x - x_values[j]) * pow(x_values[i] - x_values[j], -1, p)\n",
        "        poly += y_values[i] * term\n",
        "    return Poly(poly, x).set_modulus(p)\n",
        "\n",
        "x_values = [X]\n",
        "a_values = [A]\n",
        "b_values = [B]\n",
        "c_values = [C]\n",
        "\n",
        "R = lagrange_interpolation(x_values, a_values, degree_R, p)\n",
        "R_0 = R.eval(0)\n",
        "\n",
        "S = lagrange_interpolation(x_values, b_values, degree_S, p)\n",
        "S_0 = S.eval(0)\n",
        "\n",
        "\n",
        "T = lagrange_interpolation(x_values, c_values, degree_T, p)\n",
        "T_0 = T.eval(0)\n",
        "\n",
        "print(f\"Firmware Update Key R(0): {hex(R_0)}\")\n",
        "print(f\"Firmware Update Key S(0): {hex(S_0)}\")\n",
        "print(f\"Firmware Update Key T(0): {hex(T_0)}\")"
      ],
      "metadata": {
        "colab": {
          "base_uri": "https://localhost:8080/"
        },
        "id": "qTNjUNuL-Z68",
        "outputId": "ba30645f-d1e1-407b-a4a4-aa250788d410"
      },
      "execution_count": null,
      "outputs": [
        {
          "output_type": "stream",
          "name": "stdout",
          "text": [
            "Firmware Update Key R(0): 0x785eacddff7c1b9\n",
            "Firmware Update Key S(0): -0x452317c15962a13\n",
            "Firmware Update Key T(0): 0x80724b002317b6a\n"
          ]
        }
      ]
    },
    {
      "cell_type": "code",
      "source": [
        "!pip install pycryptodome"
      ],
      "metadata": {
        "colab": {
          "base_uri": "https://localhost:8080/"
        },
        "id": "qDzKZFjg9xpr",
        "outputId": "32668787-a8c8-4935-b4b6-b2ca753ee303"
      },
      "execution_count": null,
      "outputs": [
        {
          "output_type": "stream",
          "name": "stdout",
          "text": [
            "Collecting pycryptodome\n",
            "  Downloading pycryptodome-3.21.0-cp36-abi3-manylinux_2_17_x86_64.manylinux2014_x86_64.whl.metadata (3.4 kB)\n",
            "Downloading pycryptodome-3.21.0-cp36-abi3-manylinux_2_17_x86_64.manylinux2014_x86_64.whl (2.3 MB)\n",
            "\u001b[2K   \u001b[90m━━━━━━━━━━━━━━━━━━━━━━━━━━━━━━━━━━━━━━━━\u001b[0m \u001b[32m2.3/2.3 MB\u001b[0m \u001b[31m21.2 MB/s\u001b[0m eta \u001b[36m0:00:00\u001b[0m\n",
            "\u001b[?25hInstalling collected packages: pycryptodome\n",
            "Successfully installed pycryptodome-3.21.0\n"
          ]
        }
      ]
    },
    {
      "cell_type": "markdown",
      "source": [],
      "metadata": {
        "id": "rM3QNS6bAnOd"
      }
    },
    {
      "cell_type": "code",
      "source": [
        "import hashlib\n",
        "import base64\n",
        "from Crypto.Cipher import AES\n",
        "\n",
        "\n",
        "iv_target = bytes.fromhex(\"9408a31155cede3033df9ba6f565160a\")\n",
        "\n",
        "ciphertext_b64 = (\n",
        "    \"xQ1GfX/BnnINInUQcYyyXzeJ2l818c4oGUS1CHpv4+zidTq+rSOxmjbnsQzidp72\"\n",
        "    \"SBVW/XKrrVRXlZOM4i1FsSBiqNdATRK+ytH/w5nnovzd98uLY2zUl0Q+iU7ejSx3\"\n",
        "    \"Esu2+PAYzDOa2fJftdU9WbqT0d5EzCTquYDGn2o0OWR67g69hWBcaZcjtg6cL7RQ\"\n",
        "    \"kea9Z07JrdsrzEObBRvlT5TLZjETF4cLN62MEJpUMxM2DL0UYIUajRyh/P+baS+C\"\n",
        "    \"ts5wsrgYkUhyXePYEi90s9M89p8+L5MBm8CQ8inTxECB9MgRQ3FUaaYcZ6P0lZKs\"\n",
        "    \"7vDa+OlRuEEjuBCa5B6iqCghrhDrgIimUNqUd1s1ClQ06zUMDOMWR3elrC6i1Ns3\"\n",
        "    \"+8XehmM/lEWfSU34aSG/XsY/w1VnAMKrMXB4VF7k+USc51OsqexKLrQwNc8qVNZV\"\n",
        "    \"xudiI8y7Pi2Bu4dvfmUlqeo0f5pKBuGOp8SdRG2czdTLvm388iFWQLhJvMzdej/Q\"\n",
        "    \"khK8JTHEuwEEMA6Cbvdo7MK5sp07M638tyJqfe115d4DiUQhDVkt0xcmvcHFw0fW\"\n",
        "    \"L3bgo3ATjcz+awPCv4DguppChSWYdKy52lEvCRlPntbhhuYmyPyWlRTzEiuI0mWs\"\n",
        "    \"N9aGs03FFMGIQgqTH7jtUvcZDnQbwP1ZC2oms6C36CKDXXm0HUe8kJAXK6NhIuzV\"\n",
        "    \"uqXvGYx3bjZtq1fwZJtxVQKYVyTxn9KLl4ou+H9U/zUs7eQb7krr8zfKdHC5YtYB\"\n",
        "    \"BrIy3qXLWE4QHx4kPuQoqkNYBK8KMnBCPlMar6NEYPMv/aV7Yo8S1CRSkJBwOLoA\"\n",
        "    \"i3/hDVCt7s0MvL05CLDH0ICzfvfbo+7PH5wMWgCXt/TF1FwZmtsnMZCq0wmCY0ez\"\n",
        "    \"r4bZKB0wGqM60uOErAQglDWBnbfhnUJsoH/8pdRJu1H9kQRFlMRqubi+chj3YIZw\"\n",
        "    \"xihbnPqvrU0BEwrvh3dvHYUMcUg4E8wK7F8FuFlZjy2w9Eyd7y7ngH3fgdZI+LOv\"\n",
        "    \"YTvPGamKKWWYgvFcOr0KT31k/CgYoCn2V+Gj7S6xcYQN124714jGNX83bTj14n/j\"\n",
        "    \"rEzD2t4y7UC0bgtlaNLjUQxPWKQPzpg1qHjGImZLxouvuAKLVV24moMCvyqDKZru\"\n",
        "    \"cgkpCpC/YqfEv+yb6lDeW92tuaaEMnYitvVWeZFZ4rfSdzLU4rE0sOaK52Ew067m\"\n",
        "    \"wmcXGqvCwJme4ZQhXs8/duncY5XsnxWJTHML5RoWk75CN+qp/juyU+w3eZwIJOLH\"\n",
        "    \"m8QC3BD+ycpFBz/FfdcEQf9OjjaQ6FfilSofJxBIgFG8/SReNSVlf6SEDomLfSfw\"\n",
        "    \"F55CvQd7jL/MBYyb3g50pfSHkxbSgJurX4Bpzvki0fwuODKKWmQxHxkd2taV2msj\"\n",
        "    \"aExDFy1iqeP3YN6CPODvXDHAERh3ZOYJawuAkjlI+a/fPobrgzOqDmq0rbhYTxi2\"\n",
        "    \"jmcPVRVr8OVhkHn0wWLrFH6ny7jGtOqHM9SpZDXWSW+orUyl8UPgbf7Te9703dvq\"\n",
        "    \"E5VY6aRp3f+DUFh9lSLGgW8E/F/5sI9bT/eBSU7O1J7mBucixRye6u3WjE1u2wbB\"\n",
        "    \"Fr5Hw5296tI1uPuYQjkM726REEF29BUwwYeTIdjz3l/cyScujYzzAT8ggK+ncsbw\"\n",
        "    \"DpvmPsTtQ8gjVQKVc99VZdRU26nu4yGQo81yk/HzpZKisqcOUSkd3ZI2WCY7ZUs2\"\n",
        "    \"1rPJsfGae2HQONW/o8aSEfKGtMYw/Dj/lBHdH5+XGm3ylWwNIe3jSHPOCeoVkFaa\"\n",
        "    \"alLVvijNBrWLNHm0mcV+pYkSavrkjWVukk9is6Q93tpXlr/BQTIjA8b0aU4MEPRg\"\n",
        "    \"LugFpSxT0OHQB5GgbnXDj7dbVqUldWDNU9HESCgDLL1U1PjjJ4u4PZk2I6sFSZMF\"\n",
        "    \"/I8sxVh+BhepjotqYx5uapTTTTcF8T6mS/qckSSynzcpW86jwbpIAGxVdc0wbEWR\"\n",
        "    \"Jzdb0Bp271i0I3LZARNPAJCDd/kb/yS4+gCV9cBNBs3MdJss+NW9pWuCxPW69tix\"\n",
        ")\n",
        "cipher_raw = base64.b64decode(encoded_cipher.replace(\"\\n\", \"\"))\n",
        "\n",
        "def expand_key(seed_input: bytes) -> bytes:\n",
        "    buf = seed_input\n",
        "    result = b\"\"\n",
        "    for _ in range(8):\n",
        "        buf = hashlib.sha256(buf).digest()\n",
        "        result += buf[:4]\n",
        "    return result\n",
        "for s in range(0x10000):\n",
        "    s_bytes = s.to_bytes(2, 'big')\n",
        "    material = expand_key(s_bytes)\n",
        "    key = material[:16]\n",
        "    test_iv = material[16:]\n",
        "\n",
        "    if test_iv == iv_target:\n",
        "        print(f\"seed identifié : {s} (hex : {s_bytes.hex()})\")\n",
        "        cipher = AES.new(key, AES.MODE_CBC, test_iv)\n",
        "        plain = cipher.decrypt(cipher_raw)\n",
        "\n",
        "        pad = plain[-1]\n",
        "        if plain[-pad:] == bytes([pad]) * pad:\n",
        "            plain = plain[:-pad]\n",
        "\n",
        "        print(\"texte déchiffré :\", plain.decode('utf-8', errors='replace'))\n",
        "        break\n",
        "else:\n",
        "    print(\"Aucun seed valide n’a été trouvé.\")"
      ],
      "metadata": {
        "id": "g1ZBnmhXPXOm"
      },
      "execution_count": null,
      "outputs": []
    },
    {
      "cell_type": "code",
      "source": [
        "from cryptography.hazmat.primitives import hashes\n",
        "from cryptography.hazmat.primitives.asymmetric import padding\n",
        "from cryptography.hazmat.primitives.serialization import load_pem_private_key\n",
        "\n",
        "with open(\"privkey.pem\", \"rb\") as key_file:\n",
        "    private_key = load_pem_private_key(\n",
        "        key_file.read(),\n",
        "        password=None\n",
        "    )\n",
        "\n",
        "message = b\"message pour signer\"\n",
        "\n",
        "signature = private_key.sign(\n",
        "    message,\n",
        "    padding.PSS(\n",
        "        mgf=padding.MGF1(hashes.SHA256()),\n",
        "        salt_length=padding.PSS.MAX_LENGTH\n",
        "    ),\n",
        "    hashes.SHA256()\n",
        ")\n",
        "print(signature)"
      ],
      "metadata": {
        "colab": {
          "base_uri": "https://localhost:8080/"
        },
        "id": "sdwjKFiBFCDf",
        "outputId": "cb98c31d-ac89-4c9f-b6d0-26bfeef260a7"
      },
      "execution_count": null,
      "outputs": [
        {
          "output_type": "stream",
          "name": "stdout",
          "text": [
            "b\"8\\x96JD[z\\xbd6cI$\\x92\\x86\\x99l\\xf7\\xd8\\xe9\\x18N\\xb9\\xd8QH\\x905\\xe6\\xb8(\\x9fH\\xa5\\xee\\xed\\xbf\\x18\\xa4`\\x91\\xfars\\x03\\xad\\x8d\\x17\\x86\\xff\\t\\x0eG`e\\xdf\\xf5\\xb4\\xe5\\xca2t0\\x86F\\xe9*\\xa9f\\xe7\\xc11H\\x97\\x05E\\xa7\\xb3\\xca@p\\xc5A\\x99\\x05\\xbaqhdH\\xf5\\x0b\\x01\\x9f\\xf8\\xcd\\xbb\\x83\\xa9L\\x16\\x8f\\xee\\x913\\x98eE~N\\xba\\xd3\\xdc\\x9f\\xdf*\\x15\\xf2\\x90\\xe3\\xee\\xf2\\x8e\\xb9'k\\xb7\\x87\\x18\\x80B \\xdfq\\x9e\\xec\\x97!L\\xa8\\x8d\\x01\\xb2x\\xb4\\xd6\\xcb\\xdd\\x07$\\xe8C'\\x84\\x982\\xe8\\x9d\\xb7\\x05\\xc2\\x8b_\\xe0Q\\n\\xcfj\\xe0\\x92+1\\xdem\\x1e\\x1b\\x05\\x9e\\x99\\x97\\xe2\\xf6\\x18\\xa0\\xeb\\xa2x\\xbc\\xe5\\xa3%\\xd1\\xc5\\x04\\x8c7\\x90g\\r9\\xaak\\xda\\t\\n\\x82C\\xe4m{\\xd1B$G\\xb3@\\xf2\\xd2\\xfa~7\\xdd\\xba(P\\x87\\x92K\\x00\\xc0-\\xe6\\xd2\\x84\\x1dX\\xcc'\\xff\\xed_\\xa6}\\x8f\\x9e\\xd5\\x0e\\xd3\\xa1\\x1e\\xea\\xf0\\x8d\\xc4+\\xfa}\\xb5\"\n"
          ]
        }
      ]
    },
    {
      "cell_type": "code",
      "source": [
        "import hashlib\n",
        "import binascii\n",
        "from typing import List, Tuple\n",
        "\n",
        "#nbr premier\n",
        "p = 2**64 - 59\n",
        "\n",
        "def parse_flags(flags_data: str) -> List[str]:\n",
        "    flags = []\n",
        "    for line in flags_data.strip().split('\\n'):\n",
        "        if not line:\n",
        "            continue\n",
        "        parts = line.split('|')\n",
        "        if len(parts) >= 2:\n",
        "            flags.append(parts[1])\n",
        "    return flags\n",
        "\n",
        "def hex_to_int(hex_str: str) -> int:\n",
        "    return int(hex_str, 16)\n",
        "\n",
        "def split_mac(mac_hex: str) -> Tuple[int, int, int, int]:\n",
        "    mac_bytes = binascii.unhexlify(mac_hex)\n",
        "    x_bytes = mac_bytes[0:8]\n",
        "    a_bytes = mac_bytes[8:16]\n",
        "    b_bytes = mac_bytes[16:24]\n",
        "    c_bytes = mac_bytes[24:32]\n",
        "    X = int.from_bytes(x_bytes, byteorder='big')\n",
        "    A = int.from_bytes(a_bytes, byteorder='big')\n",
        "    B = int.from_bytes(b_bytes, byteorder='big')\n",
        "    C = int.from_bytes(c_bytes, byteorder='big')\n",
        "\n",
        "    return X, A, B, C\n",
        "\n",
        "def mod_inverse(a: int, m: int) -> int:\n",
        "    g, x, y = extended_gcd(a, m)\n",
        "    if g != 1:\n",
        "        raise Exception('inv existe pas')\n",
        "    else:\n",
        "        return x % m\n",
        "\n",
        "def extended_gcd(a: int, b: int) -> Tuple[int, int, int]:\n",
        "    if a == 0:\n",
        "        return b, 0, 1\n",
        "    else:\n",
        "        gcd, x1, y1 = extended_gcd(b % a, a)\n",
        "        x = y1 - (b // a) * x1\n",
        "        y = x1\n",
        "        return gcd, x, y\n",
        "\n",
        "def lagrange_interpolation(points: List[Tuple[int, int]], x: int, prime: int) -> int:\n",
        "\n",
        "    result = 0\n",
        "\n",
        "    for i, (x_i, y_i) in enumerate(points):\n",
        "        numerator = 1\n",
        "        denominator = 1\n",
        "\n",
        "        for j, (x_j, _) in enumerate(points):\n",
        "            if i != j:\n",
        "                numerator = (numerator * (x - x_j)) % prime\n",
        "                denominator = (denominator * (x_i - x_j)) % prime\n",
        "\n",
        "        inv_denominator = mod_inverse(denominator, prime)\n",
        "\n",
        "        term = (y_i * numerator * inv_denominator) % prime\n",
        "        result = (result + term) % prime\n",
        "\n",
        "    return result\n",
        "\n",
        "def recover_firmware_keys(flags_data: str) -> Tuple[int, int, int]:\n",
        "\n",
        "    flags = parse_flags(flags_data)\n",
        "\n",
        "    points_x_a = []\n",
        "    points_x_b = []\n",
        "    points_x_c = []\n",
        "\n",
        "    for flag_hex in flags:\n",
        "        X, A, B, C = split_mac(flag_hex)\n",
        "        points_x_a.append((X, A))\n",
        "        points_x_b.append((X, B))\n",
        "        points_x_c.append((X, C))\n",
        "\n",
        "\n",
        "    if len(points_x_a) < 9:\n",
        "        print(\"warning not enough points for R need 9 we have\", len(points_x_a))\n",
        "    if len(points_x_b) < 17:\n",
        "        print(\"warning not enough points for R need 9 we have\", len(points_x_b))\n",
        "    if len(points_x_c) < 25:\n",
        "        print(\"warning not enough points for R need 9 we have\", len(points_x_c))\n",
        "\n",
        "    r_points = points_x_a[:9] if len(points_x_a) >= 9 else points_x_a\n",
        "    s_points = points_x_b[:17] if len(points_x_b) >= 17 else points_x_b\n",
        "    t_points = points_x_c[:25] if len(points_x_c) >= 25 else points_x_c\n",
        "\n",
        "\n",
        "    try:\n",
        "        R0 = lagrange_interpolation(r_points, 0, p)\n",
        "    except Exception as e:\n",
        "        print(f\"Error calculating R(0): {e}\")\n",
        "        R0 = None\n",
        "\n",
        "    try:\n",
        "        S0 = lagrange_interpolation(s_points, 0, p)\n",
        "    except Exception as e:\n",
        "        print(f\"Error calculating S(0): {e}\")\n",
        "        S0 = None\n",
        "\n",
        "    try:\n",
        "        T0 = lagrange_interpolation(t_points, 0, p)\n",
        "    except Exception as e:\n",
        "        print(f\"Error calculating T(0): {e}\")\n",
        "        T0 = None\n",
        "\n",
        "    return R0, S0, T0\n",
        "\n",
        "def main():\n",
        "    flags_data = \"\"\"chap.login:314:1|f8193b59f784ce9729ce64b77b38379721b35c73448237edb1b66ae036a1f209\n",
        "pk.login:314:1|0ab2881d9af0c1052a6785f22b80ae66b3fb98c759ea3dd53a0e5c8e3f567ba3\n",
        "rsa.crt:314:1|b30c44c7857618df7d7a6eb8f2a00d3b9254cf8c384bbf252551aaa02590ceb8\n",
        "register:314:1|fc2190c41271a9fdd704e8bc5f47994de91e4fb92bd901c89f1d325fdd235356\n",
        "pki.tutorial:314:1|6c806382a524797a804b6c5e2692ad325ba34cc4f174d957d41db7708f9e7eb2\n",
        "pki.upload:314:1|52bc62df705031b6bb417ea2c4d139d75f8558607ad2f865f95b4aa30dfe3cb3\n",
        "power.on:314:1|5f72944d891695a8b7104b56fd7663d425fdd36e943459b1e896648012ac1e9f\n",
        "tme.generator:314:1|28490c3ddcaef8253da73d02787c2e87997a37b66aad7e69179e95cb5d893a58\n",
        "rsa.keygen:314:1|a2389f7d40409e896e92ae93af056fc39f8f73ed2b47c7b6c30f72d880fefeb6\n",
        "rsa.shared:314:1|540c2d0efdef8f210785eacddff7c1b9fbadce83ea69d5b2080724b002317b6a\n",
        "rsa.reduction:314:1|16ab4fc8dde3bd81cfad1bb80a2c10303d0d28cee299382b6b2ae6880ff82d24\n",
        "multi.lamport:314:1|a023ceb327941e46a4f7443743c79c708138b79a5c0aa53cbf8f0f4cb534edde\n",
        "tme.pratt:314:1|c16649ec8cb53fe1746097ccb9f1acc1a180db1762b57d7870d639117531365e\n",
        "tme.squares:314:1|d050470b32ec5da66d99eb5e3689d9fd2868a3aecb45c6b16fc419adc9002a32\n",
        "multicollision:314:1|9928e7daa3fd3a8c5a265c4e4c1d72b5954022cda29bbecd3a71956d54f422bb\n",
        "rsa.malleable:314:1|ad36b81c759cb12f5d2afb623e341a33bf78de599e02bf0664f8fc0dc3a2e5d6\n",
        "secure.vault:314:1|b74df1c39a33878966781b384c2571cec64fe6bcbfa0cc88e30ab8d77728cb52\n",
        "secret.sharing:314:1|4a9db70fca1ca7532e4583ec76408c9239465446afe35fcb143f7042a38a15c6\n",
        "crc64.preimage:314:1|7cd8232488926b68f6f3e56beea106e47ddfc577ab5922664d7c30719dae5a38\n",
        "hybrid:314:1|8fb33b38e31757750ab9600caf483d94a9a28778a0a535ee4cb5fc0e1b43c242\n",
        "web.of.trust:314:1|b51bc959f7f43fab47d584fa7bb784564316f2dea93a4e18e1de63b6bff46101\n",
        "credit.fraud:314:1|71e6d7d8d08d01c62aeb9508f2f736710eb9b040cfe0e27d9a2bfec0f6457e6e\n",
        "dict.atk:314:1|d08efd61b1d72358fa4387d12c9af9b8d9b07df670e23b415298ac96a3798e60\n",
        "tme.primitive:314:1|e095715af3802a422433effb63069fb57afa59cec5e9f7c524daecc455e31d9f\n",
        "pki.cert:314:1|c2cbd54276cb3ae5eb586d5b8c94f242a3c58440714989a4398a573d84df3619\"\"\"\n",
        "\n",
        "    R0, S0, T0 = recover_firmware_keys(flags_data)\n",
        "\n",
        "\n",
        "    if R0 is not None:\n",
        "        print(f\"R(0) (hex) = {R0:016x}\")\n",
        "    if S0 is not None:\n",
        "        print(f\"S(0) (hex) = {S0:016x}\")\n",
        "    if T0 is not None:\n",
        "        print(f\"T(0) (hex) = {T0:016x}\")\n",
        "\n",
        "if __name__ == \"__main__\":\n",
        "    main()"
      ],
      "metadata": {
        "colab": {
          "base_uri": "https://localhost:8080/"
        },
        "id": "pscfJZ8HG6o7",
        "outputId": "363feda3-76b4-44ad-f698-6f8db101d561"
      },
      "execution_count": 1,
      "outputs": [
        {
          "output_type": "stream",
          "name": "stdout",
          "text": [
            "Firmware Update Keys:\n",
            "R(0) = 5657266712951860249\n",
            "S(0) = 14660511471101198805\n",
            "T(0) = 15036006945620964776\n",
            "R(0) (hex) = 4e82a61a19232c19\n",
            "S(0) (hex) = cb7499821c86c1d5\n",
            "T(0) (hex) = d0aaa0a7220b35a8\n"
          ]
        }
      ]
    },
    {
      "cell_type": "code",
      "source": [
        "\n",
        "def crc64(m: bytes) -> bytes:\n",
        "    i = int.from_bytes(m, byteorder='big')\n",
        "    i <<= 64\n",
        "    k = i.bit_length()\n",
        "    Q = 0x1000000000000001b\n",
        "    while k > 64:\n",
        "        i ^= Q << (k - 65)\n",
        "        k = i.bit_length()\n",
        "    return i.to_bytes(8, byteorder='big')\n",
        "\n",
        "def gf2_multiply(a: int, b: int, modulus: int, degree: int) -> int:\n",
        "\n",
        "    result = 0\n",
        "    while b > 0:\n",
        "        if b & 1:\n",
        "            result ^= a\n",
        "        a <<= 1\n",
        "        if a & (1 << degree):\n",
        "            a ^= modulus\n",
        "        b >>= 1\n",
        "    return result\n",
        "\n",
        "def gf2_inverse(a: int, modulus: int, degree: int) -> int:\n",
        "    if a == 0:\n",
        "        raise ValueError(\"non inversible zero\")\n",
        "\n",
        "    r0, r1 = modulus, a\n",
        "    s0, s1 = 0, 1\n",
        "    t0, t1 = 1, 0\n",
        "\n",
        "    while r1 > 0:\n",
        "        degree_r0 = r0.bit_length() - 1\n",
        "        degree_r1 = r1.bit_length() - 1\n",
        "\n",
        "        if degree_r0 < degree_r1:\n",
        "            r0, r1 = r1, r0\n",
        "            s0, s1 = s1, s0\n",
        "            t0, t1 = t1, t0\n",
        "            degree_r0, degree_r1 = degree_r1, degree_r0\n",
        "        shift = degree_r0 - degree_r1\n",
        "        r0 ^= r1 << shift\n",
        "        s0 ^= s1 << shift\n",
        "        t0 ^= t1 << shift\n",
        "    return s0\n",
        "\n",
        "def find_crc64_preimage(target_crc: bytes) -> bytes:\n",
        "\n",
        "    S = int.from_bytes(target_crc, byteorder='big')\n",
        "\n",
        "    Q = 0x1000000000000001b\n",
        "    term_to_invert = 0x1b\n",
        "\n",
        "    inverse = gf2_inverse(term_to_invert, Q, 64)\n",
        "    P = gf2_multiply(S, inverse, Q, 64)\n",
        "\n",
        "    byte_length = (P.bit_length() + 7) // 8\n",
        "    P_bytes = P.to_bytes(byte_length, byteorder='big')\n",
        "\n",
        "    return P_bytes\n",
        "\n",
        "def main():\n",
        "\n",
        "    target_hash_hex = input(\"target hash: \")\n",
        "\n",
        "    try:\n",
        "        target_hash = bytes.fromhex(target_hash_hex)\n",
        "        preimage = find_crc64_preimage(target_hash)\n",
        "\n",
        "        print(f\"preimage found: {preimage.hex()}\")\n",
        "        generated_hash = crc64(preimage)\n",
        "\n",
        "        if generated_hash == target_hash:\n",
        "            print(\"verif ok\")\n",
        "        else:\n",
        "            print(\"non\")\n",
        "\n",
        "    except Exception as e:\n",
        "        print(f\"Error: {e}\")\n",
        "\n",
        "if __name__ == \"__main__\":\n",
        "    main()"
      ],
      "metadata": {
        "colab": {
          "base_uri": "https://localhost:8080/"
        },
        "id": "_w4miThZMD-k",
        "outputId": "486fd213-d395-4838-b05d-9e112ea5914c"
      },
      "execution_count": null,
      "outputs": [
        {
          "output_type": "stream",
          "name": "stdout",
          "text": [
            "Enter the target CRC64-ISO hash (in hex): 097965aabde35293\n",
            "Found preimage: 55af04f29ebc53be\n",
            "As string (if ASCII): b'U\\xaf\\x04\\xf2\\x9e\\xbcS\\xbe'\n",
            "Verification - CRC64 of preimage: 097965aabde35293\n",
            "✓ Verification successful!\n"
          ]
        }
      ]
    },
    {
      "cell_type": "code",
      "source": [
        "!pip install chipwhisperer"
      ],
      "metadata": {
        "colab": {
          "base_uri": "https://localhost:8080/"
        },
        "id": "RtZHQHwgOWC3",
        "outputId": "5a305dd1-4330-43dc-deca-e3f96d41e414"
      },
      "execution_count": null,
      "outputs": [
        {
          "output_type": "stream",
          "name": "stdout",
          "text": [
            "Collecting chipwhisperer\n",
            "  Downloading chipwhisperer-5.7.0-py3-none-any.whl.metadata (17 kB)\n",
            "Collecting configobj (from chipwhisperer)\n",
            "  Downloading configobj-5.0.9-py2.py3-none-any.whl.metadata (3.2 kB)\n",
            "Collecting pyserial (from chipwhisperer)\n",
            "  Downloading pyserial-3.5-py2.py3-none-any.whl.metadata (1.6 kB)\n",
            "Requirement already satisfied: numpy<=1.26.4 in /usr/local/lib/python3.11/dist-packages (from chipwhisperer) (1.26.4)\n",
            "Collecting libusb1 (from chipwhisperer)\n",
            "  Downloading libusb1-3.3.0-py3-none-any.whl.metadata (16 kB)\n",
            "Collecting ECpy (from chipwhisperer)\n",
            "  Downloading ECPy-1.2.5-py3-none-any.whl.metadata (3.5 kB)\n",
            "Collecting fastdtw (from chipwhisperer)\n",
            "  Downloading fastdtw-0.3.4.tar.gz (133 kB)\n",
            "\u001b[2K     \u001b[90m━━━━━━━━━━━━━━━━━━━━━━━━━━━━━━━━━━━━━━━━\u001b[0m \u001b[32m133.4/133.4 kB\u001b[0m \u001b[31m3.9 MB/s\u001b[0m eta \u001b[36m0:00:00\u001b[0m\n",
            "\u001b[?25h  Preparing metadata (setup.py) ... \u001b[?25l\u001b[?25hdone\n",
            "Requirement already satisfied: Cython in /usr/local/lib/python3.11/dist-packages (from chipwhisperer) (3.0.12)\n",
            "Requirement already satisfied: tqdm in /usr/local/lib/python3.11/dist-packages (from chipwhisperer) (4.67.1)\n",
            "Downloading chipwhisperer-5.7.0-py3-none-any.whl (11.4 MB)\n",
            "\u001b[2K   \u001b[90m━━━━━━━━━━━━━━━━━━━━━━━━━━━━━━━━━━━━━━━━\u001b[0m \u001b[32m11.4/11.4 MB\u001b[0m \u001b[31m32.1 MB/s\u001b[0m eta \u001b[36m0:00:00\u001b[0m\n",
            "\u001b[?25hDownloading configobj-5.0.9-py2.py3-none-any.whl (35 kB)\n",
            "Downloading ECPy-1.2.5-py3-none-any.whl (43 kB)\n",
            "\u001b[2K   \u001b[90m━━━━━━━━━━━━━━━━━━━━━━━━━━━━━━━━━━━━━━━━\u001b[0m \u001b[32m43.1/43.1 kB\u001b[0m \u001b[31m2.8 MB/s\u001b[0m eta \u001b[36m0:00:00\u001b[0m\n",
            "\u001b[?25hDownloading libusb1-3.3.0-py3-none-any.whl (67 kB)\n",
            "\u001b[2K   \u001b[90m━━━━━━━━━━━━━━━━━━━━━━━━━━━━━━━━━━━━━━━━\u001b[0m \u001b[32m67.0/67.0 kB\u001b[0m \u001b[31m4.7 MB/s\u001b[0m eta \u001b[36m0:00:00\u001b[0m\n",
            "\u001b[?25hDownloading pyserial-3.5-py2.py3-none-any.whl (90 kB)\n",
            "\u001b[2K   \u001b[90m━━━━━━━━━━━━━━━━━━━━━━━━━━━━━━━━━━━━━━━━\u001b[0m \u001b[32m90.6/90.6 kB\u001b[0m \u001b[31m6.5 MB/s\u001b[0m eta \u001b[36m0:00:00\u001b[0m\n",
            "\u001b[?25hBuilding wheels for collected packages: fastdtw\n",
            "  Building wheel for fastdtw (setup.py) ... \u001b[?25l\u001b[?25hdone\n",
            "  Created wheel for fastdtw: filename=fastdtw-0.3.4-cp311-cp311-linux_x86_64.whl size=542099 sha256=c764dd3c1b977b380c21d5fbf6d44491efb72e2c584f8dcde59fbd800dfdeab9\n",
            "  Stored in directory: /root/.cache/pip/wheels/5c/8a/f6/fd3df9a9714677410a5ccbf3ca519e66db4a54a1c46ea95332\n",
            "Successfully built fastdtw\n",
            "Installing collected packages: pyserial, libusb1, ECpy, fastdtw, configobj, chipwhisperer\n",
            "Successfully installed ECpy-1.2.5 chipwhisperer-5.7.0 configobj-5.0.9 fastdtw-0.3.4 libusb1-3.3.0 pyserial-3.5\n"
          ]
        }
      ]
    },
    {
      "cell_type": "markdown",
      "source": [
        "CHIFFREMENT HYBRIDE"
      ],
      "metadata": {
        "id": "E5moKVM5QsDM"
      }
    },
    {
      "cell_type": "code",
      "source": [
        "import subprocess\n",
        "import json\n",
        "\n",
        "class OpenSSLException(Exception):\n",
        "    pass\n",
        "\n",
        "\n",
        "def crypter(clair, cle_pass, algorithme='aes-128-cbc'):\n",
        "    commande = [\n",
        "        'openssl', 'enc', f'-{algorithme}', '-base64',\n",
        "        '-pass', f'pass:{cle_pass}', '-pbkdf2'\n",
        "    ]\n",
        "\n",
        "    donnees = clair.encode('utf-8') if isinstance(clair, str) else clair\n",
        "\n",
        "    process = subprocess.run(commande, input=donnees, stdout=subprocess.PIPE, stderr=subprocess.PIPE)\n",
        "\n",
        "    sortie = process.stdout\n",
        "    erreur = process.stderr.decode()\n",
        "\n",
        "    if erreur.strip():\n",
        "        raise OpenSSLException(erreur)\n",
        "\n",
        "    return sortie.decode()\n",
        "\n",
        "\n",
        "def seshkey_crypter(session_key, chemin_cle_publique):\n",
        "    args = ['openssl', 'pkeyutl', '-encrypt', '-pubin', '-inkey', chemin_cle_publique]\n",
        "\n",
        "    contenu = session_key.encode('utf-8') if isinstance(session_key, str) else session_key\n",
        "\n",
        "    resultat = subprocess.run(args, input=contenu, stdout=subprocess.PIPE, stderr=subprocess.PIPE)\n",
        "\n",
        "    message_erreur = resultat.stderr.decode()\n",
        "    if message_erreur:\n",
        "        raise OpenSSLException(message_erreur)\n",
        "\n",
        "    return resultat.stdout.hex()\n",
        "\n",
        "\n",
        "def decrypt_rsa(donnees_chiffrees, chemin_cle_privee):\n",
        "    cmd = ['openssl', 'pkeyutl', '-decrypt', '-inkey', chemin_cle_privee]\n",
        "\n",
        "    bloc = donnees_chiffrees.encode('utf-8') if isinstance(donnees_chiffrees, str) else donnees_chiffrees\n",
        "\n",
        "    reponse = subprocess.run(cmd, input=bloc, stdout=subprocess.PIPE, stderr=subprocess.PIPE)\n",
        "\n",
        "    err = reponse.stderr.decode()\n",
        "    if err:\n",
        "        raise OpenSSLException(err)\n",
        "\n",
        "    return reponse.stdout.decode()\n",
        "\n",
        "\n",
        "def CH(message,cle_temporaire,pubkey_path):\n",
        "\n",
        "    bloc_chiffre = crypter(message, cle_temporaire)\n",
        "    cle_chiffree = seshkey_crypter(cle_temporaire, pubkey_path)\n",
        "\n",
        "    contenu_json = {\n",
        "        \"cle-session\": cle_chiffree,\n",
        "        \"message-chiffre\": bloc_chiffre\n",
        "    }\n",
        "\n",
        "    return json.dumps(contenu_json, indent=2)\n",
        "\n",
        "\n",
        "if __name__ == '__main__':\n",
        "    contenu = \"messageee\"\n",
        "    session_key = \"\"#à voir\n",
        "    fichier_pub = \"pksecretary.pem\"\n",
        "\n",
        "    resultat = CH(contenu, session_key, fichier_pub)\n",
        "    print(resultat)\n"
      ],
      "metadata": {
        "id": "r9vLWO23R4Zz"
      },
      "execution_count": null,
      "outputs": []
    },
    {
      "cell_type": "code",
      "source": [
        "import subprocess\n",
        "import binascii\n",
        "import os\n",
        "\n",
        "def sign_public_key(public_key_path, private_key_path, output_signature_path):\n",
        "        with open(public_key_path, 'rb') as f:\n",
        "            public_key_data = f.read()\n",
        "        result = subprocess.run(\n",
        "            ['openssl', 'dgst', '-sha256', '-sign', private_key_path],\n",
        "            input=public_key_data,\n",
        "            stdout=subprocess.PIPE,\n",
        "            stderr=subprocess.PIPE\n",
        "        )\n",
        "\n",
        "        if result.returncode != 0:\n",
        "            print(f\"erreur lors de la signature: {result.stderr.decode()}\")\n",
        "            return None\n",
        "\n",
        "        hex_signature = binascii.hexlify(result.stdout).decode('ascii')\n",
        "\n",
        "        with open(output_signature_path, 'w') as f:\n",
        "            f.write(hex_signature)\n",
        "\n",
        "        print(f\"signature hexadécimale sauvegardée dans {output_signature_path}\")\n",
        "        return hex_signature\n",
        "\n",
        "\n",
        "def verify_signature_from_hex(public_key_path, hex_signature, data_path):\n",
        "\n",
        "    try:\n",
        "\n",
        "        binary_signature = binascii.unhexlify(hex_signature)\n",
        "\n",
        "        temp_sig_path = \"temp_signature.bin\"\n",
        "        with open(temp_sig_path, 'wb') as f:\n",
        "            f.write(binary_signature)\n",
        "\n",
        "        with open(data_path, 'rb') as f:\n",
        "            data = f.read()\n",
        "        result = subprocess.run(\n",
        "            ['openssl', 'dgst', '-sha256', '-verify', public_key_path, '-signature', temp_sig_path],\n",
        "            input=data,\n",
        "            stdout=subprocess.PIPE,\n",
        "            stderr=subprocess.PIPE\n",
        "        )\n",
        "\n",
        "        if os.path.exists(temp_sig_path):\n",
        "            os.remove(temp_sig_path)\n",
        "\n",
        "        if result.returncode == 0:\n",
        "            print(\"signature vérifiée avec succès\")\n",
        "            return True\n",
        "        else:\n",
        "            print(f\"vérification de signature échouée: {result.stderr.decode()}\")\n",
        "            return False\n",
        "\n",
        "    except Exception as e:\n",
        "        print(f\"Erreur: {str(e)}\")\n",
        "        return False\n",
        "\n",
        "if __name__ == \"__main__\":\n",
        "    leur_cle_publique = \"pkanes.pem\"\n",
        "    ma_cle_privee = \"privkey.pem\"\n",
        "    signature_output = \"signature.hex\"\n",
        "    hex_signature = sign_public_key(leur_cle_publique, ma_cle_privee, signature_output)\n",
        "\n",
        "    if hex_signature:\n",
        "        print(f\"Signature hexadécimale : {hex_signature}\")\n",
        "\n",
        "        is_valid = verify_signature_from_hex(\n",
        "            \"pubkey.pem\",\n",
        "            hex_signature,\n",
        "            leur_cle_publique\n",
        "        )\n",
        "\n",
        "        print(f\"signature valide : {is_valid}\")"
      ],
      "metadata": {
        "colab": {
          "base_uri": "https://localhost:8080/"
        },
        "id": "GvoQ5B7CldCI",
        "outputId": "deba7508-c587-4e94-bdd5-76a8183b385a"
      },
      "execution_count": null,
      "outputs": [
        {
          "output_type": "stream",
          "name": "stdout",
          "text": [
            "Signature hexadécimale sauvegardée dans signature.hex\n",
            "Signature hexadécimale : 148a28458fc53c23673d9b38661397afa416b4e19e696f826e855fa68ca462cb95231f0e1fc03efd133295676f989ab12a00fe7365f156a6c1ed10981130bd39d8b6cec37261aedea2d40cdd84794d5395e18ff6ba209a9b182a400ce3996de6f1d21712126adf7667451fbbb5c43fff753e7e74e1d06d1a9202ec96dea086b875936396d4f94f6df93e0ad15ff36cb570fbc9bc7b3adbc5be44b2d8287b7e57c07b6cea88a7bb7e2352500e6614eae474cc42425e32269e8adde788c4206454cca90716954661482033be9bee5197884f51608cf1d00704c367b808601b2be639a9a5b8c797a263caf4d21db48b1bef6e9910b799d7da9086d8acc7f3498d9d\n",
            "Signature vérifiée avec succès\n",
            "Signature valide : True\n"
          ]
        }
      ]
    },
    {
      "cell_type": "code",
      "source": [
        "-----BEGIN PUBLIC KEY-----\n",
        "                    MIIBIjANBgkqhkiG9w0BAQEFAAOCAQ8AMIIBCgKCAQEAvgayhXOos99MSz1jtsdA\n",
        "                    gSHwH6MH99ZxvC6nvIOBWUj7fnruiPn4QsbQtEnawgvMRd4j88a5+tzeF7FbldUP\n",
        "                    NLt8IWuv8Ra6WWBuHFfxgELUGyRity1IHo0Hr0wlC9oQWd3L9npxgk1cGqt15YcJ\n",
        "                    00oOE4vJRM48nhzCfwmg/qrRN2PjnR23L4yC424qpQWjp2Y0lS9cnNi3CsGXnwQO\n",
        "                    tyH3F9jX8OMG0H7qUftVuFOa+PLHMHDsyNCNMT+c/+tNEpgoQiFhQPpLSc/NQU2v\n",
        "                    GZJNjJNJsL/KlwNxn0eJyULYShhybleL7U1XnrUhHfYJVl8Cnof2ys2pvrjMwF5T\n",
        "                    QwIDAQAB\n",
        "                    -----END PUBLIC KEY-----"
      ],
      "metadata": {
        "id": "9apOJAa0nmJl"
      },
      "execution_count": null,
      "outputs": []
    },
    {
      "cell_type": "code",
      "source": [
        "import secrets\n",
        "import string\n",
        "\n",
        "def generate_session_key(length=16):\n",
        "    alphabet = string.ascii_letters + string.digits\n",
        "    return ''.join(secrets.choice(alphabet) for _ in range(length))\n",
        "\n",
        "session_key = generate_session_key()\n",
        "print(session_key)\n"
      ],
      "metadata": {
        "colab": {
          "base_uri": "https://localhost:8080/"
        },
        "id": "8Nm1N1ryna1O",
        "outputId": "ccce95b6-2ad0-4bce-f716-722632e92720"
      },
      "execution_count": null,
      "outputs": [
        {
          "output_type": "stream",
          "name": "stdout",
          "text": [
            "01ixHV9fNfIqPFDq\n"
          ]
        }
      ]
    },
    {
      "cell_type": "code",
      "source": [
        "import random\n",
        "from sympy import factorint\n",
        "import json\n",
        "\n",
        "class CertificatPratt:\n",
        "    @staticmethod\n",
        "    def produit_liste(elements):\n",
        "        resultat = 1\n",
        "        for val in elements:\n",
        "            resultat *= val\n",
        "        return resultat\n",
        "\n",
        "    @staticmethod\n",
        "    def test_miller_rabin(nombre, iterations):\n",
        "        if nombre in (2, 3):\n",
        "            return True\n",
        "        if nombre % 2 == 0:\n",
        "            return False\n",
        "\n",
        "        r, reste = 0, nombre - 1\n",
        "        while reste % 2 == 0:\n",
        "            reste //= 2\n",
        "            r += 1\n",
        "\n",
        "        for _ in range(iterations):\n",
        "            base = random.randrange(2, nombre - 1)\n",
        "            x = pow(base, reste, nombre)\n",
        "            if x in (1, nombre - 1):\n",
        "                continue\n",
        "            for _ in range(r - 1):\n",
        "                x = pow(x, 2, nombre)\n",
        "                if x == nombre - 1:\n",
        "                    break\n",
        "            else:\n",
        "                return False\n",
        "        return True\n",
        "\n",
        "    @staticmethod\n",
        "    def taille_en_octets(n):\n",
        "        return (n.bit_length() + 7) // 8\n",
        "\n",
        "    @staticmethod\n",
        "    def obtenir_generateur(premier, diviseurs):\n",
        "        while True:\n",
        "            candidat = random.randint(2, premier - 2)\n",
        "            if all(pow(candidat, (premier - 1) // d, premier) != 1 for d in diviseurs):\n",
        "                return candidat\n",
        "\n",
        "    @staticmethod\n",
        "    def certificat_recursive(diviseurs):\n",
        "        resultats = []\n",
        "        for div in diviseurs:\n",
        "            certificat = {'p': div}\n",
        "            if div >= 1024:\n",
        "                facteurs = []\n",
        "                decomposition = factorint(div - 1)\n",
        "                for facteur, exposant in decomposition.items():\n",
        "                    facteurs.extend([facteur] * exposant)\n",
        "                certificat['g'] = CertificatPratt.obtenir_generateur(div, facteurs)\n",
        "                certificat['pm1'] = CertificatPratt.certificat_recursive(facteurs)\n",
        "            resultats.append(certificat)\n",
        "        return resultats\n",
        "\n",
        "\n",
        "def executer_generation():\n",
        "    valeur_min = int(\"458a1b615fe828c655ca102013c45bb263d602b74c059fd5e534bb5dbd3439994674b721e3c4be83ecce48aa805d4481b6508c45825689ed4edbaa6265041726d2f4448221e99b704a1c98e84b75eb434bf1c2b941278606b33e7f6ceeb9c321bd16b829896ec7fa02fd8886d37766cca217938a553574b449b732edf1558cc\", 16)\n",
        "    valeur_max = valeur_min + 2**960\n",
        "\n",
        "    facteurs_pmoins1 = [2]\n",
        "    produit_intermediaire = 2\n",
        "    constante = 20000\n",
        "    taille_bloc = CertificatPratt.taille_en_octets(valeur_max)\n",
        "    limite = (valeur_max - valeur_min) // (constante * taille_bloc**2)\n",
        "\n",
        "    while CertificatPratt.taille_en_octets(limite) != CertificatPratt.taille_en_octets(produit_intermediaire):\n",
        "        candidat = random.randint(2, min(2**160, 2**(8 * (CertificatPratt.taille_en_octets(limite) - CertificatPratt.taille_en_octets(produit_intermediaire)))))\n",
        "        if CertificatPratt.test_miller_rabin(candidat, 10):\n",
        "            produit_intermediaire *= candidat\n",
        "            facteurs_pmoins1.append(candidat)\n",
        "\n",
        "    potentiel_pk = random.randint(valeur_min // produit_intermediaire, valeur_max // produit_intermediaire)\n",
        "    while not CertificatPratt.test_miller_rabin(potentiel_pk, 1) or not CertificatPratt.test_miller_rabin(produit_intermediaire * potentiel_pk + 1, 1):\n",
        "        potentiel_pk = random.randint(valeur_min // produit_intermediaire, valeur_max // produit_intermediaire)\n",
        "\n",
        "    facteurs_pmoins1.append(potentiel_pk)\n",
        "    p_final = CertificatPratt.produit_liste(facteurs_pmoins1) + 1\n",
        "    generateur = CertificatPratt.obtenir_generateur(p_final, facteurs_pmoins1)\n",
        "\n",
        "    certificat = {\n",
        "        'p': p_final,\n",
        "        'g': generateur,\n",
        "        'pm1': CertificatPratt.certificat_recursive(facteurs_pmoins1)\n",
        "    }\n",
        "\n",
        "    with open(\"certificat_pratt.json\", \"w\") as fichier_json:\n",
        "        json.dump(certificat, fichier_json)\n",
        "\n",
        "    print(json.dumps(certificat, indent=2))\n",
        "    print(\"certificat sauvegardé dans le fichier certificat_pratt.json\")\n",
        "\n",
        "\n",
        "if __name__ == \"__main__\":\n",
        "    executer_generation()\n"
      ],
      "metadata": {
        "id": "dWlx-yGcIIqI"
      },
      "execution_count": null,
      "outputs": []
    },
    {
      "cell_type": "code",
      "source": [
        "!pip install galois"
      ],
      "metadata": {
        "colab": {
          "base_uri": "https://localhost:8080/"
        },
        "id": "XgEpLiHL4lZV",
        "outputId": "4b8fca47-6f3f-4c36-9684-fef9db71eb38"
      },
      "execution_count": null,
      "outputs": [
        {
          "output_type": "stream",
          "name": "stdout",
          "text": [
            "Collecting galois\n",
            "  Downloading galois-0.4.4-py3-none-any.whl.metadata (14 kB)\n",
            "Requirement already satisfied: numpy>=1.21.0 in /usr/local/lib/python3.11/dist-packages (from galois) (2.0.2)\n",
            "Requirement already satisfied: numba<0.62,>=0.55 in /usr/local/lib/python3.11/dist-packages (from galois) (0.60.0)\n",
            "Requirement already satisfied: typing-extensions>=4.0.0 in /usr/local/lib/python3.11/dist-packages (from galois) (4.13.1)\n",
            "Requirement already satisfied: llvmlite<0.44,>=0.43.0dev0 in /usr/local/lib/python3.11/dist-packages (from numba<0.62,>=0.55->galois) (0.43.0)\n",
            "Downloading galois-0.4.4-py3-none-any.whl (4.2 MB)\n",
            "\u001b[2K   \u001b[90m━━━━━━━━━━━━━━━━━━━━━━━━━━━━━━━━━━━━━━━━\u001b[0m \u001b[32m4.2/4.2 MB\u001b[0m \u001b[31m12.9 MB/s\u001b[0m eta \u001b[36m0:00:00\u001b[0m\n",
            "\u001b[?25hInstalling collected packages: galois\n",
            "Successfully installed galois-0.4.4\n"
          ]
        }
      ]
    },
    {
      "cell_type": "code",
      "source": [
        "\n",
        "def int_to_poly(n, bits=64):\n",
        "    return [(n >> i) & 1 for i in range(bits)]\n",
        "\n",
        "def poly_to_int(poly):\n",
        "    return sum(bit << i for i, bit in enumerate(poly))\n",
        "\n",
        "def poly_add(a, b):\n",
        "    return [(a_bit ^ b_bit) for a_bit, b_bit in zip(a, b)]\n",
        "\n",
        "def poly_mul(a, b, modulus, bits=64):\n",
        "    result = [0] * (2 * bits)\n",
        "\n",
        "    for i in range(bits):\n",
        "        if a[i] == 1:\n",
        "            for j in range(bits):\n",
        "                if b[j] == 1:\n",
        "                    result[i + j] ^= 1\n",
        "\n",
        "    for i in range(2*bits-1, bits-1, -1):\n",
        "        if result[i] == 1:\n",
        "            for j in range(bits+1):\n",
        "                if modulus[j] == 1:\n",
        "                    result[i - bits + j] ^= 1\n",
        "            result[i] = 0\n",
        "\n",
        "    return result[:bits]\n",
        "\n",
        "def poly_pow(a, exp, modulus, bits=64):\n",
        "    result = [0] * bits\n",
        "    result[0] = 1\n",
        "    base = a.copy()\n",
        "\n",
        "    while exp > 0:\n",
        "        if exp & 1:\n",
        "            result = poly_mul(result, base, modulus, bits)\n",
        "        base = poly_mul(base, base, modulus, bits)\n",
        "        exp >>= 1\n",
        "\n",
        "    return result\n",
        "\n",
        "def poly_inverse(a, modulus, bits=64):\n",
        "    return poly_pow(a, (1 << bits) - 2, modulus, bits)\n",
        "\n",
        "\n",
        "def main():\n",
        "    hashed_password = 0x097965aabde35293\n",
        "    modulus = [1, 1, 0, 1, 1] + [0] * 59 + [1]\n",
        "\n",
        "    S_poly = int_to_poly(hashed_password)\n",
        "\n",
        "    tmp_poly = [1, 1, 0, 1, 1] + [0] * 59\n",
        "\n",
        "    I_poly = poly_inverse(tmp_poly, modulus)\n",
        "\n",
        "    P_poly = poly_mul(I_poly, S_poly, modulus)\n",
        "\n",
        "    P_int = poly_to_int(P_poly)\n",
        "\n",
        "    password = hex(P_int)[2:]\n",
        "\n",
        "    print(\"Hash d'entrée:\", hex(hashed_password)[2:])\n",
        "    print(\"Password calculé:\", password)\n",
        "\n",
        "if __name__ == \"__main__\":\n",
        "    main()\n",
        "\n",
        "    MKT01"
      ],
      "metadata": {
        "colab": {
          "base_uri": "https://localhost:8080/"
        },
        "id": "HLrriOq94oGP",
        "outputId": "ac1d235e-73e9-43bc-dd78-769b227bc5e8"
      },
      "execution_count": null,
      "outputs": [
        {
          "output_type": "stream",
          "name": "stdout",
          "text": [
            "Hash d'entrée: 97965aabde35293\n",
            "Password calculé: 55af04f29ebc53be\n"
          ]
        }
      ]
    },
    {
      "cell_type": "markdown",
      "source": [
        "[SUDO]>>> LIRE DOCUMENTATION\n",
        "KERBEROS\n",
        "========\n",
        "\n",
        "Ce document décrit le protocole sécurisé d'accès aux RPC du Campus. Pour rappel\n",
        "                           [--------REDACTED--------]\n",
        "                           [--------REDACTED--------]\n",
        "                           [--------REDACTED--------]\n",
        "\n",
        "L'accès à certaines méthodes est sécurisé par un système inspiré du protocole\n",
        "Kerberos (``Cerbère''). Les échanges avec les méthodes protégées sont chiffrées.  \n",
        "Un contrôle d'accès est également mis en place.  Voici un rapide survol du\n",
        "protocole.\n",
        "\n",
        "Les utilisateurs obtiennent des \"tickets\", c'est-à-dire des chaines de bits qui\n",
        "démontrent leur identité.  Pour invoquer une méthode protégée, les utilisateurs\n",
        "doivent fournir un ticket valable démontrant leur identité ainsi que leur droit\n",
        "à utiliser la méthode en question.  Les tickets contiennent aussi des clefs de\n",
        "session chiffrées.\n",
        "\n",
        "Ces tickets sont délivrés par une méthode spéciale, le \"Ticket-Granting Service\"\n",
        "(TGS).  Cette méthode délivre (ou pas) des tickets pour chacune des méthodes\n",
        "protégées en fonction des privilège de l'utilisateur.  En effet, l'accès à\n",
        "certaines méthodes particulièrement sensibles est réservé.\n",
        "\n",
        "Pour obtenir des tickets auprès du Ticket Granting Service, les utilisateurs\n",
        "doivent lui démontrer leur identité.  Pour cela, ils doivent lui fournir un\n",
        "\"Ticket-Granting Ticket\" (TGT, littéralement, un ticket qui permet d'obtenir des\n",
        "tickets...).  Les utilisateurs peuvent l'obtenir auprès d'une autre méthode\n",
        "spéciale, l'\"Authentication Service\".\n",
        "\n",
        "\n",
        "CHIFFREMENT\n",
        "-----------\n",
        "\n",
        "Dans tout le protocole Kerberos, le chiffrement s'effectue de manière standard\n",
        "avec l'AES-128-CBC. On fournit comme d'habitude des mots de passe à OpenSSL qui\n",
        "se débrouille pour en tirer une clef et un IV.\n",
        "\n",
        "\n",
        "AUTHENTIFICATEURS\n",
        "-----------------\n",
        "\n",
        "Lors des différentes phases, il faut parfois envoyer un \"authenticateur\".\n",
        "Il s'agit d'un dictionnaire encodé en JSON et chiffré, contenant deux champs :\n",
        "  - username\n",
        "  - timestamp (secondes écoulées depuis le début de l'ère UGLIX).\n",
        "\n",
        "Par exemple, un utilisateur \"toto\" produira des authenticateur du type :\n",
        "    \n",
        ">>> import time\n",
        ">>> d = {'username': 'toto', 'timestamp': time.time()}\n",
        ">>> e = json.dumps(d)\n",
        ">>> f = openssl.encrypt(e, 'foobar')\n",
        ">>> print(f)\n",
        "U2FsdGVkX1+GlZdaiHbnPN1wsolvQt1/Tt9IMnNvdy0Vrbu9wzWVnLkrU2/hbhZo\n",
        "eYJF/F7IfT0QV4UKZ/9zfBORSDkRkdTumIj1bwuZEjw=\n",
        "\n",
        "\n",
        "AUTHENTIFICATION\n",
        "----------------\n",
        "\n",
        "On initie le processus en invoquant la méthode \"kerberos.authentication-service\"\n",
        "avec un argument <username>.\n",
        "\n",
        "On reçoit en retour un dictionnaire avec deux champs :\n",
        "  - ticket : le <Ticket-granting-ticket>\n",
        "  - key    : la <TGS-session-key>\n",
        "    \n",
        "La <TGS session key> est chiffrée avec le mot de passe de l'utilisateur et sert\n",
        "à sécuriser les échanges avec le Ticket-Granting Service.\n",
        "\n",
        "\n",
        "OBTENTION D'UN TICKET\n",
        "---------------------\n",
        "\n",
        "Pour exécuter une méthode protégée par Kerberos, il faut au préalable obtenir\n",
        "un \"ticket\" pour cette méthode.  Pour cela, il faut exécuter la méthode distante\n",
        "\"kerberos.ticket-granting-service\".  Il faut spécifier trois paramètres :\n",
        "  - ticket        : le <Ticket-Granting Ticket> qu'on a reçu\n",
        "  - authenticator : un authenticateur chiffré avec la <TGS session key>\n",
        "  - method        : le nom de la méthode que l'on souhaite invoquer\n",
        "\n",
        "On reçoit un dictionnaire qui a deux champs :\n",
        "  - ticket  : le <method ticket>\n",
        "  - key     : la <method-session-key>\n",
        "\n",
        "La <method session key> est chiffrée avec la <TGS session key>. Il faut la\n",
        "déchiffrer avant de pouvoir l'utiliser.\n",
        "\n",
        "\n",
        "EXÉCUTION DE LA MÉTHODE DISTANTE DÉSIRÉE\n",
        "----------------------------------------\n",
        "\n",
        "Muni du ticket, on peut exécuter une méthode distante protégée par Kerberos.\n",
        "Il faut d'abord encoder ses arguments dans un dictionnaire JSON <args> puis\n",
        "invoquer la méthode distante avec 3 arguments :\n",
        "  - ticket         : le <method ticket>\n",
        "  - authenticator  : un authenticateur chiffré avec la <method session key>\n",
        "  - encrypted_args : <args> chiffré avec la <method session key>\n",
        "\n",
        "La valeur de retour de la méthode est du JSON chiffré avec la <method session key>.\n",
        "\n",
        "\n",
        "MISE AU POINT\n",
        "-------------\n",
        "Il y a une méthode protégée par kerberos qui peut être utile lors de la mise au\n",
        "point : \"kerberos.echo\".\n",
        "\n",
        "[SUDO]>>>"
      ],
      "metadata": {
        "id": "xiJbDrkE6HIN"
      }
    },
    {
      "cell_type": "code",
      "source": [
        "!pip install cryptography\n",
        "!pip install pyyaml\n",
        "!pip install pycryptodome"
      ],
      "metadata": {
        "colab": {
          "base_uri": "https://localhost:8080/"
        },
        "id": "MfGaj_bLy10g",
        "outputId": "4c07a5c0-abfb-41e8-85ab-d2969371a995"
      },
      "execution_count": null,
      "outputs": [
        {
          "output_type": "stream",
          "name": "stdout",
          "text": [
            "Requirement already satisfied: cryptography in /usr/local/lib/python3.11/dist-packages (43.0.3)\n",
            "Requirement already satisfied: cffi>=1.12 in /usr/local/lib/python3.11/dist-packages (from cryptography) (1.17.1)\n",
            "Requirement already satisfied: pycparser in /usr/local/lib/python3.11/dist-packages (from cffi>=1.12->cryptography) (2.22)\n",
            "Requirement already satisfied: pyyaml in /usr/local/lib/python3.11/dist-packages (6.0.2)\n",
            "Collecting pycryptodome\n",
            "  Downloading pycryptodome-3.22.0-cp37-abi3-manylinux_2_17_x86_64.manylinux2014_x86_64.whl.metadata (3.4 kB)\n",
            "Downloading pycryptodome-3.22.0-cp37-abi3-manylinux_2_17_x86_64.manylinux2014_x86_64.whl (2.3 MB)\n",
            "\u001b[2K   \u001b[90m━━━━━━━━━━━━━━━━━━━━━━━━━━━━━━━━━━━━━━━━\u001b[0m \u001b[32m2.3/2.3 MB\u001b[0m \u001b[31m31.9 MB/s\u001b[0m eta \u001b[36m0:00:00\u001b[0m\n",
            "\u001b[?25hInstalling collected packages: pycryptodome\n",
            "Successfully installed pycryptodome-3.22.0\n"
          ]
        }
      ]
    }
  ]
}